{
 "cells": [
  {
   "cell_type": "code",
   "execution_count": 35,
   "metadata": {},
   "outputs": [],
   "source": [
    "#SOM网络pytorch实现\n",
    "import numpy as np\n",
    "c1 = np.array([1,1])\n",
    "c2 = np.array([-1,-1])\n",
    "c3 = np.array([1,-1])\n",
    "c4 = np.array([-1,1])"
   ]
  },
  {
   "cell_type": "code",
   "execution_count": 36,
   "metadata": {},
   "outputs": [],
   "source": [
    "x1 = c1 + np.random.random_sample([100,2])-1\n",
    "x2 = c2 + np.random.random_sample([100,2])\n",
    "x3 = c3 + np.random.random_sample([100,2])-1\n",
    "x4 = c4 + np.random.random_sample([100,2])-1\n",
    "x3[:,1] = x3[:,1] + 1\n",
    "x4[:,0] = x4[:,0] + 1"
   ]
  },
  {
   "cell_type": "code",
   "execution_count": 37,
   "metadata": {},
   "outputs": [
    {
     "data": {
      "image/png": "[encoded data removed]",
      "text/plain": [
       "<Figure size 432x288 with 1 Axes>"
      ]
     },
     "metadata": {
      "needs_background": "light"
     },
     "output_type": "display_data"
    }
   ],
   "source": [
    "import matplotlib.pyplot as plt\n",
    "plt.plot(x1[:,0],x1[:,1],'b.')\n",
    "plt.plot(x2[:,0],x2[:,1],'r.')\n",
    "plt.plot(x3[:,0],x3[:,1],'g.')\n",
    "plt.plot(x4[:,0],x4[:,1],'k.')\n",
    "plt.show()"
   ]
  },
  {
   "cell_type": "code",
   "execution_count": 38,
   "metadata": {},
   "outputs": [],
   "source": [
    "x = np.concatenate((x1,x2,x3,x4))\n",
    "label = np.concatenate((np.array([1]*100),np.array([2]*100),np.array([3]*100),np.array([4]*100)))"
   ]
  },
  {
   "cell_type": "code",
   "execution_count": 39,
   "metadata": {},
   "outputs": [
    {
     "name": "stdout",
     "output_type": "stream",
     "text": [
      "(400, 2)\n",
      "(400,)\n"
     ]
    }
   ],
   "source": [
    "print(x.shape)\n",
    "print(label.shape)"
   ]
  },
  {
   "cell_type": "code",
   "execution_count": 40,
   "metadata": {},
   "outputs": [],
   "source": [
    "rng_state = np.random.get_state()\n",
    "np.random.shuffle(x)\n",
    "np.random.set_state(rng_state)\n",
    "np.random.shuffle(label)"
   ]
  },
  {
   "cell_type": "code",
   "execution_count": 41,
   "metadata": {},
   "outputs": [
    {
     "name": "stdout",
     "output_type": "stream",
     "text": [
      "tensor([ 0.6824, -0.9177])\n"
     ]
    }
   ],
   "source": [
    "import torch\n",
    "import torch.nn as nn\n",
    "x = torch.FloatTensor(x)\n",
    "y = torch.tensor(label)\n",
    "print(x[1])"
   ]
  },
  {
   "cell_type": "code",
   "execution_count": 42,
   "metadata": {},
   "outputs": [],
   "source": [
    "def kaiming_init(m):\n",
    "    if isinstance(m, (nn.Linear, nn.Conv2d)):\n",
    "        init.kaiming_normal(m.weight)\n",
    "        if m.bias is not None:\n",
    "            m.bias.data.fill_(0)\n",
    "    elif isinstance(m, (nn.BatchNorm1d, nn.BatchNorm2d)):\n",
    "        m.weight.data.fill_(1)\n",
    "        if m.bias is not None:\n",
    "            m.bias.data.fill_(0)\n",
    "def normal_init(m, mean, std):\n",
    "    if isinstance(m, (nn.Linear, nn.Conv2d)):\n",
    "        m.weight.data.normal_(mean, std)\n",
    "        if m.bias.data is not None:\n",
    "            m.bias.data.zero_()\n",
    "    elif isinstance(m, (nn.BatchNorm2d, nn.BatchNorm1d)):\n",
    "        m.weight.data.fill_(1)\n",
    "        if m.bias.data is not None:\n",
    "            m.bias.data.zero_()"
   ]
  },
  {
   "cell_type": "code",
   "execution_count": 113,
   "metadata": {},
   "outputs": [],
   "source": [
    "class SOM(nn.Module):\n",
    "    \"\"\"Model proposed in understanding beta-VAE paper(Burgess et al, arxiv:1804.03599, 2018).\"\"\"\n",
    "\n",
    "    def __init__(self):\n",
    "        super(SOM, self).__init__()\n",
    "        self.SOM_layer = nn.Parameter(torch.rand(4,2))\n",
    "        self.weight_init()\n",
    "\n",
    "    def weight_init(self):\n",
    "        for w in self.SOM_layer:\n",
    "            kaiming_init(w)\n",
    "    def forward(self, x, y = None):\n",
    "        distance = [(((x-w)**2).sum(-1)**0.5).unsqueeze(-1) for w in self.SOM_layer]\n",
    "        distance = torch.cat(distance,dim=-1)\n",
    "        if y is None:\n",
    "            _, index = distance.min(dim=1)\n",
    "        else:\n",
    "            index = y-1\n",
    "        mask = Variable(torch.eye(4).index_select(dim=0, index=index.data))\n",
    "\n",
    "        return mask, index"
   ]
  },
  {
   "cell_type": "code",
   "execution_count": 114,
   "metadata": {},
   "outputs": [],
   "source": [
    "from torch.utils.data import Dataset, DataLoader\n",
    "class CustomTensorDataset(Dataset):\n",
    "    def __init__(self, data_tensor, label_tensor):\n",
    "        self.data_tensor = data_tensor\n",
    "        self.label_tensor = label_tensor\n",
    "\n",
    "    def __getitem__(self, index):\n",
    "        return self.data_tensor[index],self.label_tensor[index]\n",
    "\n",
    "    def __len__(self):\n",
    "        return self.data_tensor.size(0)\n",
    "def return_data(it):\n",
    "    return x[10*(it-1):it*10,:],y[10*(it-1):it*10]"
   ]
  },
  {
   "cell_type": "code",
   "execution_count": 139,
   "metadata": {},
   "outputs": [],
   "source": [
    "from tqdm import tqdm\n",
    "from torch.autograd import Variable\n",
    "import torch.optim as optim\n",
    "net = SOM()\n",
    "\n",
    "def train():\n",
    "    optimizer = optim.Adam(net.parameters(), lr=10e-4,\n",
    "                                    betas=(0.9, 0.99))\n",
    "    print(\"training start!!!\")\n",
    "    global_iter = 0\n",
    "    it = 1\n",
    "    pbar = tqdm(total=1000)\n",
    "    pbar.update(global_iter)\n",
    "    for i in range(1000):\n",
    "        x_,y = return_data(it)\n",
    "        pbar.update(1)\n",
    "        if it == 10:\n",
    "            it = 1\n",
    "        else:\n",
    "            it += 1\n",
    "        global_iter += 1\n",
    "        x_ = Variable(x_)\n",
    "        y = Variable(y)\n",
    "        mask, index = net(x_)\n",
    "        cluster_loss = (torch.cat([(((x_-w)**2).sum(-1)).unsqueeze(-1) for w in net.SOM_layer],dim=-1)*mask).sum(1).mean(0)\n",
    "        optimizer.zero_grad()\n",
    "        cluster_loss.backward()\n",
    "        optimizer.step()\n",
    "        print(cluster_loss)\n",
    "    pbar.close()"
   ]
  },
  {
   "cell_type": "code",
   "execution_count": 140,
   "metadata": {},
   "outputs": [
    {
     "data": {
      "text/plain": [
       "torch.Size([400, 2])"
      ]
     },
     "execution_count": 140,
     "metadata": {},
     "output_type": "execute_result"
    }
   ],
   "source": [
    "x.shape"
   ]
  },
  {
   "cell_type": "code",
   "execution_count": 141,
   "metadata": {},
   "outputs": [
    {
     "name": "stdout",
     "output_type": "stream",
     "text": [
      "training start!!!\n"
     ]
    },
    {
     "name": "stderr",
     "output_type": "stream",
     "text": [
      "\r",
      "  0%|                                                                                         | 0/1000 [00:00<?, ?it/s]"
     ]
    },
    {
     "name": "stdout",
     "output_type": "stream",
     "text": [
      "tensor(0.8764, grad_fn=<MeanBackward0>)\n",
      "tensor(0.7491, grad_fn=<MeanBackward0>)\n",
      "tensor(0.4175, grad_fn=<MeanBackward0>)\n",
      "tensor(0.3171, grad_fn=<MeanBackward0>)\n",
      "tensor(0.4191, grad_fn=<MeanBackward0>)\n",
      "tensor(0.6031, grad_fn=<MeanBackward0>)\n",
      "tensor(0.4637, grad_fn=<MeanBackward0>)\n",
      "tensor(0.5274, grad_fn=<MeanBackward0>)\n",
      "tensor(0.6616, grad_fn=<MeanBackward0>)\n",
      "tensor(0.4106, grad_fn=<MeanBackward0>)\n",
      "tensor(0.8658, grad_fn=<MeanBackward0>)\n",
      "tensor(0.7381, grad_fn=<MeanBackward0>)\n",
      "tensor(0.4090, grad_fn=<MeanBackward0>)\n",
      "tensor(0.3131, grad_fn=<MeanBackward0>)\n",
      "tensor(0.4104, grad_fn=<MeanBackward0>)\n",
      "tensor(0.5975, grad_fn=<MeanBackward0>)\n",
      "tensor(0.4537, grad_fn=<MeanBackward0>)\n",
      "tensor(0.5195, grad_fn=<MeanBackward0>)\n",
      "tensor(0.6524, grad_fn=<MeanBackward0>)\n",
      "tensor(0.4052, grad_fn=<MeanBackward0>)\n",
      "tensor(0.8556, grad_fn=<MeanBackward0>)\n",
      "tensor(0.7274, grad_fn=<MeanBackward0>)\n",
      "tensor(0.4009, grad_fn=<MeanBackward0>)\n",
      "tensor(0.3094, grad_fn=<MeanBackward0>)\n",
      "tensor(0.4020, grad_fn=<MeanBackward0>)\n",
      "tensor(0.5918, grad_fn=<MeanBackward0>)\n",
      "tensor(0.4439, grad_fn=<MeanBackward0>)\n",
      "tensor(0.5118, grad_fn=<MeanBackward0>)\n",
      "tensor(0.6433, grad_fn=<MeanBackward0>)\n",
      "tensor(0.3999, grad_fn=<MeanBackward0>)\n"
     ]
    },
    {
     "name": "stderr",
     "output_type": "stream",
     "text": [
      "\r",
      "  3%|██▍                                                                            | 31/1000 [00:00<00:06, 142.48it/s]"
     ]
    },
    {
     "name": "stdout",
     "output_type": "stream",
     "text": [
      "tensor(0.8457, grad_fn=<MeanBackward0>)\n",
      "tensor(0.7168, grad_fn=<MeanBackward0>)\n",
      "tensor(0.3928, grad_fn=<MeanBackward0>)\n",
      "tensor(0.3059, grad_fn=<MeanBackward0>)\n",
      "tensor(0.3936, grad_fn=<MeanBackward0>)\n",
      "tensor(0.5853, grad_fn=<MeanBackward0>)\n",
      "tensor(0.4342, grad_fn=<MeanBackward0>)\n",
      "tensor(0.5043, grad_fn=<MeanBackward0>)\n",
      "tensor(0.6344, grad_fn=<MeanBackward0>)\n",
      "tensor(0.3947, grad_fn=<MeanBackward0>)\n",
      "tensor(0.8362, grad_fn=<MeanBackward0>)\n",
      "tensor(0.7064, grad_fn=<MeanBackward0>)\n",
      "tensor(0.3848, grad_fn=<MeanBackward0>)\n",
      "tensor(0.3026, grad_fn=<MeanBackward0>)\n",
      "tensor(0.3855, grad_fn=<MeanBackward0>)\n",
      "tensor(0.5790, grad_fn=<MeanBackward0>)\n",
      "tensor(0.4247, grad_fn=<MeanBackward0>)\n",
      "tensor(0.4971, grad_fn=<MeanBackward0>)\n",
      "tensor(0.6258, grad_fn=<MeanBackward0>)\n",
      "tensor(0.3897, grad_fn=<MeanBackward0>)\n",
      "tensor(0.8268, grad_fn=<MeanBackward0>)\n",
      "tensor(0.6963, grad_fn=<MeanBackward0>)\n",
      "tensor(0.3771, grad_fn=<MeanBackward0>)\n",
      "tensor(0.2994, grad_fn=<MeanBackward0>)\n",
      "tensor(0.3776, grad_fn=<MeanBackward0>)\n",
      "tensor(0.5729, grad_fn=<MeanBackward0>)\n",
      "tensor(0.4149, grad_fn=<MeanBackward0>)\n",
      "tensor(0.4902, grad_fn=<MeanBackward0>)\n",
      "tensor(0.6173, grad_fn=<MeanBackward0>)\n",
      "tensor(0.3849, grad_fn=<MeanBackward0>)\n",
      "tensor(0.8178, grad_fn=<MeanBackward0>)\n"
     ]
    },
    {
     "name": "stderr",
     "output_type": "stream",
     "text": [
      "\r",
      "  6%|████▉                                                                          | 62/1000 [00:00<00:05, 169.97it/s]"
     ]
    },
    {
     "name": "stdout",
     "output_type": "stream",
     "text": [
      "tensor(0.6864, grad_fn=<MeanBackward0>)\n",
      "tensor(0.3695, grad_fn=<MeanBackward0>)\n",
      "tensor(0.2965, grad_fn=<MeanBackward0>)\n",
      "tensor(0.3700, grad_fn=<MeanBackward0>)\n",
      "tensor(0.5668, grad_fn=<MeanBackward0>)\n",
      "tensor(0.4049, grad_fn=<MeanBackward0>)\n",
      "tensor(0.4835, grad_fn=<MeanBackward0>)\n",
      "tensor(0.6092, grad_fn=<MeanBackward0>)\n",
      "tensor(0.3799, grad_fn=<MeanBackward0>)\n",
      "tensor(0.8090, grad_fn=<MeanBackward0>)\n",
      "tensor(0.6770, grad_fn=<MeanBackward0>)\n",
      "tensor(0.3620, grad_fn=<MeanBackward0>)\n",
      "tensor(0.2938, grad_fn=<MeanBackward0>)\n",
      "tensor(0.3626, grad_fn=<MeanBackward0>)\n",
      "tensor(0.5609, grad_fn=<MeanBackward0>)\n",
      "tensor(0.3954, grad_fn=<MeanBackward0>)\n",
      "tensor(0.4770, grad_fn=<MeanBackward0>)\n",
      "tensor(0.6013, grad_fn=<MeanBackward0>)\n",
      "tensor(0.3743, grad_fn=<MeanBackward0>)\n",
      "tensor(0.8003, grad_fn=<MeanBackward0>)\n",
      "tensor(0.6679, grad_fn=<MeanBackward0>)\n",
      "tensor(0.3546, grad_fn=<MeanBackward0>)\n",
      "tensor(0.2912, grad_fn=<MeanBackward0>)\n",
      "tensor(0.3553, grad_fn=<MeanBackward0>)\n",
      "tensor(0.5551, grad_fn=<MeanBackward0>)\n",
      "tensor(0.3864, grad_fn=<MeanBackward0>)\n"
     ]
    },
    {
     "name": "stderr",
     "output_type": "stream",
     "text": [
      "\r",
      "  9%|██████▉                                                                        | 88/1000 [00:00<00:04, 186.50it/s]"
     ]
    },
    {
     "name": "stdout",
     "output_type": "stream",
     "text": [
      "tensor(0.4706, grad_fn=<MeanBackward0>)\n",
      "tensor(0.5930, grad_fn=<MeanBackward0>)\n",
      "tensor(0.3689, grad_fn=<MeanBackward0>)\n",
      "tensor(0.7918, grad_fn=<MeanBackward0>)\n",
      "tensor(0.6592, grad_fn=<MeanBackward0>)\n",
      "tensor(0.3472, grad_fn=<MeanBackward0>)\n",
      "tensor(0.2888, grad_fn=<MeanBackward0>)\n",
      "tensor(0.3483, grad_fn=<MeanBackward0>)\n",
      "tensor(0.5494, grad_fn=<MeanBackward0>)\n",
      "tensor(0.3780, grad_fn=<MeanBackward0>)\n",
      "tensor(0.4645, grad_fn=<MeanBackward0>)\n",
      "tensor(0.5843, grad_fn=<MeanBackward0>)\n",
      "tensor(0.3633, grad_fn=<MeanBackward0>)\n",
      "tensor(0.7834, grad_fn=<MeanBackward0>)\n",
      "tensor(0.6509, grad_fn=<MeanBackward0>)\n",
      "tensor(0.3400, grad_fn=<MeanBackward0>)\n"
     ]
    },
    {
     "name": "stderr",
     "output_type": "stream",
     "text": [
      "\r",
      " 10%|████████                                                                      | 104/1000 [00:00<00:05, 164.35it/s]"
     ]
    },
    {
     "name": "stdout",
     "output_type": "stream",
     "text": [
      "tensor(0.2865, grad_fn=<MeanBackward0>)\n",
      "tensor(0.3415, grad_fn=<MeanBackward0>)\n",
      "tensor(0.5438, grad_fn=<MeanBackward0>)\n",
      "tensor(0.3699, grad_fn=<MeanBackward0>)\n",
      "tensor(0.4586, grad_fn=<MeanBackward0>)\n",
      "tensor(0.5759, grad_fn=<MeanBackward0>)\n",
      "tensor(0.3580, grad_fn=<MeanBackward0>)\n",
      "tensor(0.7752, grad_fn=<MeanBackward0>)\n",
      "tensor(0.6429, grad_fn=<MeanBackward0>)\n",
      "tensor(0.3330, grad_fn=<MeanBackward0>)\n",
      "tensor(0.2834, grad_fn=<MeanBackward0>)\n",
      "tensor(0.3349, grad_fn=<MeanBackward0>)\n",
      "tensor(0.5384, grad_fn=<MeanBackward0>)\n",
      "tensor(0.3623, grad_fn=<MeanBackward0>)\n",
      "tensor(0.4528, grad_fn=<MeanBackward0>)\n",
      "tensor(0.5676, grad_fn=<MeanBackward0>)\n",
      "tensor(0.3525, grad_fn=<MeanBackward0>)\n",
      "tensor(0.7671, grad_fn=<MeanBackward0>)\n",
      "tensor(0.6353, grad_fn=<MeanBackward0>)\n",
      "tensor(0.3261, grad_fn=<MeanBackward0>)\n",
      "tensor(0.2801, grad_fn=<MeanBackward0>)\n",
      "tensor(0.3284, grad_fn=<MeanBackward0>)\n",
      "tensor(0.5331, grad_fn=<MeanBackward0>)\n",
      "tensor(0.3551, grad_fn=<MeanBackward0>)\n",
      "tensor(0.4472, grad_fn=<MeanBackward0>)\n",
      "tensor(0.5595, grad_fn=<MeanBackward0>)\n",
      "tensor(0.3456, grad_fn=<MeanBackward0>)\n",
      "tensor(0.7590, grad_fn=<MeanBackward0>)\n"
     ]
    },
    {
     "name": "stderr",
     "output_type": "stream",
     "text": [
      "\r",
      " 13%|██████████▎                                                                   | 132/1000 [00:00<00:04, 186.18it/s]"
     ]
    },
    {
     "name": "stdout",
     "output_type": "stream",
     "text": [
      "tensor(0.6279, grad_fn=<MeanBackward0>)\n",
      "tensor(0.3193, grad_fn=<MeanBackward0>)\n",
      "tensor(0.2770, grad_fn=<MeanBackward0>)\n",
      "tensor(0.3221, grad_fn=<MeanBackward0>)\n",
      "tensor(0.5280, grad_fn=<MeanBackward0>)\n",
      "tensor(0.3483, grad_fn=<MeanBackward0>)\n",
      "tensor(0.4418, grad_fn=<MeanBackward0>)\n",
      "tensor(0.5515, grad_fn=<MeanBackward0>)\n",
      "tensor(0.3390, grad_fn=<MeanBackward0>)\n",
      "tensor(0.7512, grad_fn=<MeanBackward0>)\n",
      "tensor(0.6209, grad_fn=<MeanBackward0>)\n",
      "tensor(0.3128, grad_fn=<MeanBackward0>)\n",
      "tensor(0.2740, grad_fn=<MeanBackward0>)\n",
      "tensor(0.3161, grad_fn=<MeanBackward0>)\n",
      "tensor(0.5229, grad_fn=<MeanBackward0>)\n",
      "tensor(0.3418, grad_fn=<MeanBackward0>)\n",
      "tensor(0.4365, grad_fn=<MeanBackward0>)\n",
      "tensor(0.5439, grad_fn=<MeanBackward0>)\n",
      "tensor(0.3326, grad_fn=<MeanBackward0>)\n",
      "tensor(0.7436, grad_fn=<MeanBackward0>)\n",
      "tensor(0.6140, grad_fn=<MeanBackward0>)\n",
      "tensor(0.3066, grad_fn=<MeanBackward0>)\n",
      "tensor(0.2712, grad_fn=<MeanBackward0>)\n",
      "tensor(0.3102, grad_fn=<MeanBackward0>)\n",
      "tensor(0.5181, grad_fn=<MeanBackward0>)\n",
      "tensor(0.3355, grad_fn=<MeanBackward0>)\n",
      "tensor(0.4315, grad_fn=<MeanBackward0>)\n",
      "tensor(0.5365, grad_fn=<MeanBackward0>)\n",
      "tensor(0.3267, grad_fn=<MeanBackward0>)\n",
      "tensor(0.7362, grad_fn=<MeanBackward0>)\n",
      "tensor(0.6074, grad_fn=<MeanBackward0>)\n",
      "tensor(0.3006, grad_fn=<MeanBackward0>)\n",
      "tensor(0.2686, grad_fn=<MeanBackward0>)\n",
      "tensor(0.3045, grad_fn=<MeanBackward0>)\n",
      "tensor(0.5133, grad_fn=<MeanBackward0>)\n",
      "tensor(0.3295, grad_fn=<MeanBackward0>)\n"
     ]
    },
    {
     "name": "stderr",
     "output_type": "stream",
     "text": [
      "\r",
      " 17%|█████████████                                                                 | 168/1000 [00:00<00:03, 217.02it/s]"
     ]
    },
    {
     "name": "stdout",
     "output_type": "stream",
     "text": [
      "tensor(0.4261, grad_fn=<MeanBackward0>)\n",
      "tensor(0.5289, grad_fn=<MeanBackward0>)\n",
      "tensor(0.3209, grad_fn=<MeanBackward0>)\n",
      "tensor(0.7289, grad_fn=<MeanBackward0>)\n",
      "tensor(0.6010, grad_fn=<MeanBackward0>)\n",
      "tensor(0.2949, grad_fn=<MeanBackward0>)\n",
      "tensor(0.2661, grad_fn=<MeanBackward0>)\n",
      "tensor(0.2990, grad_fn=<MeanBackward0>)\n",
      "tensor(0.5084, grad_fn=<MeanBackward0>)\n",
      "tensor(0.3237, grad_fn=<MeanBackward0>)\n",
      "tensor(0.4206, grad_fn=<MeanBackward0>)\n",
      "tensor(0.5205, grad_fn=<MeanBackward0>)\n",
      "tensor(0.3152, grad_fn=<MeanBackward0>)\n",
      "tensor(0.7219, grad_fn=<MeanBackward0>)\n",
      "tensor(0.5947, grad_fn=<MeanBackward0>)\n",
      "tensor(0.2891, grad_fn=<MeanBackward0>)\n",
      "tensor(0.2636, grad_fn=<MeanBackward0>)\n",
      "tensor(0.2937, grad_fn=<MeanBackward0>)\n",
      "tensor(0.5033, grad_fn=<MeanBackward0>)\n",
      "tensor(0.3178, grad_fn=<MeanBackward0>)\n",
      "tensor(0.4152, grad_fn=<MeanBackward0>)\n",
      "tensor(0.5124, grad_fn=<MeanBackward0>)\n",
      "tensor(0.3098, grad_fn=<MeanBackward0>)\n",
      "tensor(0.7148, grad_fn=<MeanBackward0>)\n",
      "tensor(0.5886, grad_fn=<MeanBackward0>)\n",
      "tensor(0.2835, grad_fn=<MeanBackward0>)\n",
      "tensor(0.2614, grad_fn=<MeanBackward0>)\n",
      "tensor(0.2885, grad_fn=<MeanBackward0>)\n",
      "tensor(0.4983, grad_fn=<MeanBackward0>)\n",
      "tensor(0.3123, grad_fn=<MeanBackward0>)\n"
     ]
    },
    {
     "name": "stderr",
     "output_type": "stream",
     "text": [
      "\r",
      " 20%|███████████████▍                                                              | 198/1000 [00:00<00:03, 234.84it/s]"
     ]
    },
    {
     "name": "stdout",
     "output_type": "stream",
     "text": [
      "tensor(0.4100, grad_fn=<MeanBackward0>)\n",
      "tensor(0.5044, grad_fn=<MeanBackward0>)\n",
      "tensor(0.3044, grad_fn=<MeanBackward0>)\n",
      "tensor(0.7066, grad_fn=<MeanBackward0>)\n",
      "tensor(0.5827, grad_fn=<MeanBackward0>)\n",
      "tensor(0.2781, grad_fn=<MeanBackward0>)\n",
      "tensor(0.2592, grad_fn=<MeanBackward0>)\n",
      "tensor(0.2835, grad_fn=<MeanBackward0>)\n",
      "tensor(0.4935, grad_fn=<MeanBackward0>)\n",
      "tensor(0.3070, grad_fn=<MeanBackward0>)\n",
      "tensor(0.4050, grad_fn=<MeanBackward0>)\n",
      "tensor(0.4965, grad_fn=<MeanBackward0>)\n",
      "tensor(0.2992, grad_fn=<MeanBackward0>)\n",
      "tensor(0.6985, grad_fn=<MeanBackward0>)\n",
      "tensor(0.5771, grad_fn=<MeanBackward0>)\n",
      "tensor(0.2729, grad_fn=<MeanBackward0>)\n",
      "tensor(0.2571, grad_fn=<MeanBackward0>)\n",
      "tensor(0.2786, grad_fn=<MeanBackward0>)\n",
      "tensor(0.4889, grad_fn=<MeanBackward0>)\n",
      "tensor(0.3020, grad_fn=<MeanBackward0>)\n",
      "tensor(0.4002, grad_fn=<MeanBackward0>)\n",
      "tensor(0.4890, grad_fn=<MeanBackward0>)\n",
      "tensor(0.2942, grad_fn=<MeanBackward0>)\n",
      "tensor(0.6904, grad_fn=<MeanBackward0>)\n",
      "tensor(0.5716, grad_fn=<MeanBackward0>)\n",
      "tensor(0.2679, grad_fn=<MeanBackward0>)\n",
      "tensor(0.2553, grad_fn=<MeanBackward0>)\n",
      "tensor(0.2739, grad_fn=<MeanBackward0>)\n"
     ]
    },
    {
     "name": "stderr",
     "output_type": "stream",
     "text": [
      "\r",
      " 23%|█████████████████▋                                                            | 226/1000 [00:00<00:03, 246.61it/s]"
     ]
    },
    {
     "name": "stdout",
     "output_type": "stream",
     "text": [
      "tensor(0.4844, grad_fn=<MeanBackward0>)\n",
      "tensor(0.2970, grad_fn=<MeanBackward0>)\n",
      "tensor(0.3955, grad_fn=<MeanBackward0>)\n",
      "tensor(0.4816, grad_fn=<MeanBackward0>)\n",
      "tensor(0.2895, grad_fn=<MeanBackward0>)\n",
      "tensor(0.6824, grad_fn=<MeanBackward0>)\n",
      "tensor(0.5663, grad_fn=<MeanBackward0>)\n",
      "tensor(0.2631, grad_fn=<MeanBackward0>)\n",
      "tensor(0.2536, grad_fn=<MeanBackward0>)\n",
      "tensor(0.2694, grad_fn=<MeanBackward0>)\n",
      "tensor(0.4800, grad_fn=<MeanBackward0>)\n",
      "tensor(0.2921, grad_fn=<MeanBackward0>)\n",
      "tensor(0.3909, grad_fn=<MeanBackward0>)\n",
      "tensor(0.4745, grad_fn=<MeanBackward0>)\n",
      "tensor(0.2851, grad_fn=<MeanBackward0>)\n",
      "tensor(0.6746, grad_fn=<MeanBackward0>)\n",
      "tensor(0.5610, grad_fn=<MeanBackward0>)\n",
      "tensor(0.2584, grad_fn=<MeanBackward0>)\n",
      "tensor(0.2522, grad_fn=<MeanBackward0>)\n",
      "tensor(0.2651, grad_fn=<MeanBackward0>)\n",
      "tensor(0.4755, grad_fn=<MeanBackward0>)\n",
      "tensor(0.2871, grad_fn=<MeanBackward0>)\n",
      "tensor(0.3857, grad_fn=<MeanBackward0>)\n",
      "tensor(0.4677, grad_fn=<MeanBackward0>)\n",
      "tensor(0.2810, grad_fn=<MeanBackward0>)\n",
      "tensor(0.6670, grad_fn=<MeanBackward0>)\n",
      "tensor(0.5559, grad_fn=<MeanBackward0>)\n",
      "tensor(0.2538, grad_fn=<MeanBackward0>)\n",
      "tensor(0.2509, grad_fn=<MeanBackward0>)\n",
      "tensor(0.2609, grad_fn=<MeanBackward0>)\n",
      "tensor(0.4710, grad_fn=<MeanBackward0>)\n"
     ]
    },
    {
     "name": "stderr",
     "output_type": "stream",
     "text": [
      "\r",
      " 26%|████████████████████                                                          | 257/1000 [00:01<00:02, 261.55it/s]"
     ]
    },
    {
     "name": "stdout",
     "output_type": "stream",
     "text": [
      "tensor(0.2822, grad_fn=<MeanBackward0>)\n",
      "tensor(0.3807, grad_fn=<MeanBackward0>)\n",
      "tensor(0.4611, grad_fn=<MeanBackward0>)\n",
      "tensor(0.2769, grad_fn=<MeanBackward0>)\n",
      "tensor(0.6598, grad_fn=<MeanBackward0>)\n",
      "tensor(0.5509, grad_fn=<MeanBackward0>)\n",
      "tensor(0.2493, grad_fn=<MeanBackward0>)\n",
      "tensor(0.2497, grad_fn=<MeanBackward0>)\n",
      "tensor(0.2569, grad_fn=<MeanBackward0>)\n",
      "tensor(0.4666, grad_fn=<MeanBackward0>)\n",
      "tensor(0.2774, grad_fn=<MeanBackward0>)\n",
      "tensor(0.3758, grad_fn=<MeanBackward0>)\n",
      "tensor(0.4548, grad_fn=<MeanBackward0>)\n",
      "tensor(0.2731, grad_fn=<MeanBackward0>)\n",
      "tensor(0.6527, grad_fn=<MeanBackward0>)\n",
      "tensor(0.5461, grad_fn=<MeanBackward0>)\n",
      "tensor(0.2449, grad_fn=<MeanBackward0>)\n",
      "tensor(0.2487, grad_fn=<MeanBackward0>)\n",
      "tensor(0.2530, grad_fn=<MeanBackward0>)\n",
      "tensor(0.4624, grad_fn=<MeanBackward0>)\n",
      "tensor(0.2728, grad_fn=<MeanBackward0>)\n",
      "tensor(0.3711, grad_fn=<MeanBackward0>)\n",
      "tensor(0.4487, grad_fn=<MeanBackward0>)\n",
      "tensor(0.2694, grad_fn=<MeanBackward0>)\n",
      "tensor(0.6459, grad_fn=<MeanBackward0>)\n",
      "tensor(0.5411, grad_fn=<MeanBackward0>)\n",
      "tensor(0.2408, grad_fn=<MeanBackward0>)\n",
      "tensor(0.2478, grad_fn=<MeanBackward0>)\n",
      "tensor(0.2493, grad_fn=<MeanBackward0>)\n",
      "tensor(0.4582, grad_fn=<MeanBackward0>)\n",
      "tensor(0.2683, grad_fn=<MeanBackward0>)\n"
     ]
    },
    {
     "name": "stderr",
     "output_type": "stream",
     "text": [
      "\r",
      " 29%|██████████████████████▍                                                       | 288/1000 [00:01<00:02, 273.49it/s]"
     ]
    },
    {
     "name": "stdout",
     "output_type": "stream",
     "text": [
      "tensor(0.3666, grad_fn=<MeanBackward0>)\n",
      "tensor(0.4428, grad_fn=<MeanBackward0>)\n",
      "tensor(0.2660, grad_fn=<MeanBackward0>)\n",
      "tensor(0.6392, grad_fn=<MeanBackward0>)\n",
      "tensor(0.5359, grad_fn=<MeanBackward0>)\n",
      "tensor(0.2368, grad_fn=<MeanBackward0>)\n",
      "tensor(0.2471, grad_fn=<MeanBackward0>)\n",
      "tensor(0.2457, grad_fn=<MeanBackward0>)\n",
      "tensor(0.4541, grad_fn=<MeanBackward0>)\n",
      "tensor(0.2638, grad_fn=<MeanBackward0>)\n",
      "tensor(0.3621, grad_fn=<MeanBackward0>)\n",
      "tensor(0.4370, grad_fn=<MeanBackward0>)\n",
      "tensor(0.2629, grad_fn=<MeanBackward0>)\n",
      "tensor(0.6322, grad_fn=<MeanBackward0>)\n",
      "tensor(0.5308, grad_fn=<MeanBackward0>)\n",
      "tensor(0.2329, grad_fn=<MeanBackward0>)\n",
      "tensor(0.2464, grad_fn=<MeanBackward0>)\n",
      "tensor(0.2422, grad_fn=<MeanBackward0>)\n",
      "tensor(0.4502, grad_fn=<MeanBackward0>)\n",
      "tensor(0.2597, grad_fn=<MeanBackward0>)\n",
      "tensor(0.3578, grad_fn=<MeanBackward0>)\n",
      "tensor(0.4312, grad_fn=<MeanBackward0>)\n",
      "tensor(0.2596, grad_fn=<MeanBackward0>)\n",
      "tensor(0.6243, grad_fn=<MeanBackward0>)\n",
      "tensor(0.5261, grad_fn=<MeanBackward0>)\n",
      "tensor(0.2292, grad_fn=<MeanBackward0>)\n",
      "tensor(0.2458, grad_fn=<MeanBackward0>)\n",
      "tensor(0.2389, grad_fn=<MeanBackward0>)\n",
      "tensor(0.4464, grad_fn=<MeanBackward0>)\n"
     ]
    },
    {
     "name": "stderr",
     "output_type": "stream",
     "text": [
      "\r",
      " 32%|████████████████████████▋                                                     | 317/1000 [00:01<00:02, 272.92it/s]"
     ]
    },
    {
     "name": "stdout",
     "output_type": "stream",
     "text": [
      "tensor(0.2560, grad_fn=<MeanBackward0>)\n",
      "tensor(0.3537, grad_fn=<MeanBackward0>)\n",
      "tensor(0.4255, grad_fn=<MeanBackward0>)\n",
      "tensor(0.2563, grad_fn=<MeanBackward0>)\n",
      "tensor(0.6164, grad_fn=<MeanBackward0>)\n",
      "tensor(0.5216, grad_fn=<MeanBackward0>)\n",
      "tensor(0.2256, grad_fn=<MeanBackward0>)\n",
      "tensor(0.2453, grad_fn=<MeanBackward0>)\n",
      "tensor(0.2357, grad_fn=<MeanBackward0>)\n",
      "tensor(0.4428, grad_fn=<MeanBackward0>)\n",
      "tensor(0.2524, grad_fn=<MeanBackward0>)\n",
      "tensor(0.3497, grad_fn=<MeanBackward0>)\n",
      "tensor(0.4199, grad_fn=<MeanBackward0>)\n",
      "tensor(0.2533, grad_fn=<MeanBackward0>)\n",
      "tensor(0.6087, grad_fn=<MeanBackward0>)\n",
      "tensor(0.5172, grad_fn=<MeanBackward0>)\n",
      "tensor(0.2221, grad_fn=<MeanBackward0>)\n",
      "tensor(0.2449, grad_fn=<MeanBackward0>)\n",
      "tensor(0.2326, grad_fn=<MeanBackward0>)\n",
      "tensor(0.4393, grad_fn=<MeanBackward0>)\n",
      "tensor(0.2489, grad_fn=<MeanBackward0>)\n",
      "tensor(0.3459, grad_fn=<MeanBackward0>)\n",
      "tensor(0.4146, grad_fn=<MeanBackward0>)\n",
      "tensor(0.2504, grad_fn=<MeanBackward0>)\n",
      "tensor(0.6012, grad_fn=<MeanBackward0>)\n",
      "tensor(0.5131, grad_fn=<MeanBackward0>)\n",
      "tensor(0.2188, grad_fn=<MeanBackward0>)\n",
      "tensor(0.2446, grad_fn=<MeanBackward0>)\n",
      "tensor(0.2296, grad_fn=<MeanBackward0>)\n",
      "tensor(0.4359, grad_fn=<MeanBackward0>)\n"
     ]
    },
    {
     "name": "stderr",
     "output_type": "stream",
     "text": [
      "\r",
      " 35%|███████████████████████████                                                   | 347/1000 [00:01<00:02, 279.13it/s]"
     ]
    },
    {
     "name": "stdout",
     "output_type": "stream",
     "text": [
      "tensor(0.2457, grad_fn=<MeanBackward0>)\n",
      "tensor(0.3423, grad_fn=<MeanBackward0>)\n",
      "tensor(0.4094, grad_fn=<MeanBackward0>)\n",
      "tensor(0.2476, grad_fn=<MeanBackward0>)\n",
      "tensor(0.5939, grad_fn=<MeanBackward0>)\n",
      "tensor(0.5090, grad_fn=<MeanBackward0>)\n",
      "tensor(0.2156, grad_fn=<MeanBackward0>)\n",
      "tensor(0.2444, grad_fn=<MeanBackward0>)\n",
      "tensor(0.2268, grad_fn=<MeanBackward0>)\n",
      "tensor(0.4327, grad_fn=<MeanBackward0>)\n",
      "tensor(0.2425, grad_fn=<MeanBackward0>)\n",
      "tensor(0.3388, grad_fn=<MeanBackward0>)\n",
      "tensor(0.4044, grad_fn=<MeanBackward0>)\n",
      "tensor(0.2451, grad_fn=<MeanBackward0>)\n",
      "tensor(0.5869, grad_fn=<MeanBackward0>)\n",
      "tensor(0.5052, grad_fn=<MeanBackward0>)\n",
      "tensor(0.2126, grad_fn=<MeanBackward0>)\n",
      "tensor(0.2444, grad_fn=<MeanBackward0>)\n",
      "tensor(0.2241, grad_fn=<MeanBackward0>)\n",
      "tensor(0.4295, grad_fn=<MeanBackward0>)\n",
      "tensor(0.2395, grad_fn=<MeanBackward0>)\n",
      "tensor(0.3355, grad_fn=<MeanBackward0>)\n",
      "tensor(0.3995, grad_fn=<MeanBackward0>)\n",
      "tensor(0.2427, grad_fn=<MeanBackward0>)\n",
      "tensor(0.5801, grad_fn=<MeanBackward0>)\n",
      "tensor(0.5015, grad_fn=<MeanBackward0>)\n",
      "tensor(0.2098, grad_fn=<MeanBackward0>)\n",
      "tensor(0.2444, grad_fn=<MeanBackward0>)\n",
      "tensor(0.2216, grad_fn=<MeanBackward0>)\n",
      "tensor(0.4265, grad_fn=<MeanBackward0>)\n"
     ]
    },
    {
     "name": "stderr",
     "output_type": "stream",
     "text": [
      "\r",
      " 38%|█████████████████████████████▍                                                | 377/1000 [00:01<00:02, 280.85it/s]"
     ]
    },
    {
     "name": "stdout",
     "output_type": "stream",
     "text": [
      "tensor(0.2366, grad_fn=<MeanBackward0>)\n",
      "tensor(0.3323, grad_fn=<MeanBackward0>)\n",
      "tensor(0.3949, grad_fn=<MeanBackward0>)\n",
      "tensor(0.2405, grad_fn=<MeanBackward0>)\n",
      "tensor(0.5735, grad_fn=<MeanBackward0>)\n",
      "tensor(0.4979, grad_fn=<MeanBackward0>)\n",
      "tensor(0.2070, grad_fn=<MeanBackward0>)\n",
      "tensor(0.2445, grad_fn=<MeanBackward0>)\n",
      "tensor(0.2191, grad_fn=<MeanBackward0>)\n",
      "tensor(0.4235, grad_fn=<MeanBackward0>)\n",
      "tensor(0.2338, grad_fn=<MeanBackward0>)\n",
      "tensor(0.3292, grad_fn=<MeanBackward0>)\n",
      "tensor(0.3903, grad_fn=<MeanBackward0>)\n",
      "tensor(0.2384, grad_fn=<MeanBackward0>)\n",
      "tensor(0.5670, grad_fn=<MeanBackward0>)\n",
      "tensor(0.4944, grad_fn=<MeanBackward0>)\n",
      "tensor(0.2044, grad_fn=<MeanBackward0>)\n",
      "tensor(0.2447, grad_fn=<MeanBackward0>)\n",
      "tensor(0.2168, grad_fn=<MeanBackward0>)\n",
      "tensor(0.4207, grad_fn=<MeanBackward0>)\n",
      "tensor(0.2312, grad_fn=<MeanBackward0>)\n",
      "tensor(0.3262, grad_fn=<MeanBackward0>)\n",
      "tensor(0.3860, grad_fn=<MeanBackward0>)\n",
      "tensor(0.2364, grad_fn=<MeanBackward0>)\n",
      "tensor(0.5606, grad_fn=<MeanBackward0>)\n",
      "tensor(0.4911, grad_fn=<MeanBackward0>)\n",
      "tensor(0.2019, grad_fn=<MeanBackward0>)\n",
      "tensor(0.2451, grad_fn=<MeanBackward0>)\n",
      "tensor(0.2146, grad_fn=<MeanBackward0>)\n"
     ]
    },
    {
     "name": "stderr",
     "output_type": "stream",
     "text": [
      "\r",
      " 41%|███████████████████████████████▋                                              | 406/1000 [00:01<00:02, 279.21it/s]"
     ]
    },
    {
     "name": "stdout",
     "output_type": "stream",
     "text": [
      "tensor(0.4178, grad_fn=<MeanBackward0>)\n",
      "tensor(0.2285, grad_fn=<MeanBackward0>)\n",
      "tensor(0.3233, grad_fn=<MeanBackward0>)\n",
      "tensor(0.3818, grad_fn=<MeanBackward0>)\n",
      "tensor(0.2346, grad_fn=<MeanBackward0>)\n",
      "tensor(0.5540, grad_fn=<MeanBackward0>)\n",
      "tensor(0.4877, grad_fn=<MeanBackward0>)\n",
      "tensor(0.1995, grad_fn=<MeanBackward0>)\n",
      "tensor(0.2456, grad_fn=<MeanBackward0>)\n",
      "tensor(0.2124, grad_fn=<MeanBackward0>)\n",
      "tensor(0.4149, grad_fn=<MeanBackward0>)\n",
      "tensor(0.2256, grad_fn=<MeanBackward0>)\n",
      "tensor(0.3203, grad_fn=<MeanBackward0>)\n",
      "tensor(0.3778, grad_fn=<MeanBackward0>)\n",
      "tensor(0.2332, grad_fn=<MeanBackward0>)\n",
      "tensor(0.5465, grad_fn=<MeanBackward0>)\n",
      "tensor(0.4841, grad_fn=<MeanBackward0>)\n",
      "tensor(0.1972, grad_fn=<MeanBackward0>)\n",
      "tensor(0.2463, grad_fn=<MeanBackward0>)\n",
      "tensor(0.2098, grad_fn=<MeanBackward0>)\n",
      "tensor(0.4120, grad_fn=<MeanBackward0>)\n",
      "tensor(0.2226, grad_fn=<MeanBackward0>)\n",
      "tensor(0.3173, grad_fn=<MeanBackward0>)\n",
      "tensor(0.3740, grad_fn=<MeanBackward0>)\n",
      "tensor(0.2320, grad_fn=<MeanBackward0>)\n",
      "tensor(0.5392, grad_fn=<MeanBackward0>)\n",
      "tensor(0.4806, grad_fn=<MeanBackward0>)\n",
      "tensor(0.1950, grad_fn=<MeanBackward0>)\n",
      "tensor(0.2471, grad_fn=<MeanBackward0>)\n"
     ]
    },
    {
     "name": "stderr",
     "output_type": "stream",
     "text": [
      "\r",
      " 44%|█████████████████████████████████▉                                            | 435/1000 [00:01<00:02, 279.69it/s]"
     ]
    },
    {
     "name": "stdout",
     "output_type": "stream",
     "text": [
      "tensor(0.2074, grad_fn=<MeanBackward0>)\n",
      "tensor(0.4092, grad_fn=<MeanBackward0>)\n",
      "tensor(0.2197, grad_fn=<MeanBackward0>)\n",
      "tensor(0.3143, grad_fn=<MeanBackward0>)\n",
      "tensor(0.3703, grad_fn=<MeanBackward0>)\n",
      "tensor(0.2307, grad_fn=<MeanBackward0>)\n",
      "tensor(0.5321, grad_fn=<MeanBackward0>)\n",
      "tensor(0.4772, grad_fn=<MeanBackward0>)\n",
      "tensor(0.1929, grad_fn=<MeanBackward0>)\n",
      "tensor(0.2481, grad_fn=<MeanBackward0>)\n",
      "tensor(0.2051, grad_fn=<MeanBackward0>)\n",
      "tensor(0.4066, grad_fn=<MeanBackward0>)\n",
      "tensor(0.2168, grad_fn=<MeanBackward0>)\n",
      "tensor(0.3115, grad_fn=<MeanBackward0>)\n",
      "tensor(0.3667, grad_fn=<MeanBackward0>)\n",
      "tensor(0.2287, grad_fn=<MeanBackward0>)\n",
      "tensor(0.5252, grad_fn=<MeanBackward0>)\n",
      "tensor(0.4739, grad_fn=<MeanBackward0>)\n",
      "tensor(0.1910, grad_fn=<MeanBackward0>)\n",
      "tensor(0.2491, grad_fn=<MeanBackward0>)\n",
      "tensor(0.2029, grad_fn=<MeanBackward0>)\n",
      "tensor(0.4040, grad_fn=<MeanBackward0>)\n",
      "tensor(0.2141, grad_fn=<MeanBackward0>)\n",
      "tensor(0.3087, grad_fn=<MeanBackward0>)\n",
      "tensor(0.3632, grad_fn=<MeanBackward0>)\n",
      "tensor(0.2267, grad_fn=<MeanBackward0>)\n",
      "tensor(0.5183, grad_fn=<MeanBackward0>)\n",
      "tensor(0.4707, grad_fn=<MeanBackward0>)\n",
      "tensor(0.1892, grad_fn=<MeanBackward0>)\n"
     ]
    },
    {
     "name": "stderr",
     "output_type": "stream",
     "text": [
      "\r",
      " 46%|████████████████████████████████████▏                                         | 464/1000 [00:01<00:01, 282.07it/s]"
     ]
    },
    {
     "name": "stdout",
     "output_type": "stream",
     "text": [
      "tensor(0.2503, grad_fn=<MeanBackward0>)\n",
      "tensor(0.2008, grad_fn=<MeanBackward0>)\n",
      "tensor(0.4015, grad_fn=<MeanBackward0>)\n",
      "tensor(0.2114, grad_fn=<MeanBackward0>)\n",
      "tensor(0.3061, grad_fn=<MeanBackward0>)\n",
      "tensor(0.3600, grad_fn=<MeanBackward0>)\n",
      "tensor(0.2250, grad_fn=<MeanBackward0>)\n",
      "tensor(0.5105, grad_fn=<MeanBackward0>)\n",
      "tensor(0.4675, grad_fn=<MeanBackward0>)\n",
      "tensor(0.1875, grad_fn=<MeanBackward0>)\n",
      "tensor(0.2515, grad_fn=<MeanBackward0>)\n",
      "tensor(0.1989, grad_fn=<MeanBackward0>)\n",
      "tensor(0.3991, grad_fn=<MeanBackward0>)\n",
      "tensor(0.2087, grad_fn=<MeanBackward0>)\n",
      "tensor(0.3035, grad_fn=<MeanBackward0>)\n",
      "tensor(0.3569, grad_fn=<MeanBackward0>)\n",
      "tensor(0.2235, grad_fn=<MeanBackward0>)\n",
      "tensor(0.5030, grad_fn=<MeanBackward0>)\n",
      "tensor(0.4640, grad_fn=<MeanBackward0>)\n",
      "tensor(0.1859, grad_fn=<MeanBackward0>)\n",
      "tensor(0.2528, grad_fn=<MeanBackward0>)\n",
      "tensor(0.1971, grad_fn=<MeanBackward0>)\n",
      "tensor(0.3963, grad_fn=<MeanBackward0>)\n",
      "tensor(0.2062, grad_fn=<MeanBackward0>)\n",
      "tensor(0.3010, grad_fn=<MeanBackward0>)\n",
      "tensor(0.3538, grad_fn=<MeanBackward0>)\n",
      "tensor(0.2219, grad_fn=<MeanBackward0>)\n",
      "tensor(0.4951, grad_fn=<MeanBackward0>)\n",
      "tensor(0.4604, grad_fn=<MeanBackward0>)\n"
     ]
    },
    {
     "name": "stderr",
     "output_type": "stream",
     "text": [
      "\r",
      " 49%|██████████████████████████████████████▍                                       | 493/1000 [00:01<00:01, 282.51it/s]"
     ]
    },
    {
     "name": "stdout",
     "output_type": "stream",
     "text": [
      "tensor(0.1843, grad_fn=<MeanBackward0>)\n",
      "tensor(0.2531, grad_fn=<MeanBackward0>)\n",
      "tensor(0.1953, grad_fn=<MeanBackward0>)\n",
      "tensor(0.3929, grad_fn=<MeanBackward0>)\n",
      "tensor(0.2038, grad_fn=<MeanBackward0>)\n",
      "tensor(0.2985, grad_fn=<MeanBackward0>)\n",
      "tensor(0.3508, grad_fn=<MeanBackward0>)\n",
      "tensor(0.2204, grad_fn=<MeanBackward0>)\n",
      "tensor(0.4871, grad_fn=<MeanBackward0>)\n",
      "tensor(0.4566, grad_fn=<MeanBackward0>)\n",
      "tensor(0.1828, grad_fn=<MeanBackward0>)\n",
      "tensor(0.2529, grad_fn=<MeanBackward0>)\n",
      "tensor(0.1937, grad_fn=<MeanBackward0>)\n",
      "tensor(0.3897, grad_fn=<MeanBackward0>)\n",
      "tensor(0.2016, grad_fn=<MeanBackward0>)\n",
      "tensor(0.2961, grad_fn=<MeanBackward0>)\n",
      "tensor(0.3477, grad_fn=<MeanBackward0>)\n",
      "tensor(0.2188, grad_fn=<MeanBackward0>)\n",
      "tensor(0.4792, grad_fn=<MeanBackward0>)\n",
      "tensor(0.4530, grad_fn=<MeanBackward0>)\n",
      "tensor(0.1814, grad_fn=<MeanBackward0>)\n",
      "tensor(0.2529, grad_fn=<MeanBackward0>)\n",
      "tensor(0.1921, grad_fn=<MeanBackward0>)\n",
      "tensor(0.3868, grad_fn=<MeanBackward0>)\n",
      "tensor(0.1996, grad_fn=<MeanBackward0>)\n",
      "tensor(0.2938, grad_fn=<MeanBackward0>)\n",
      "tensor(0.3448, grad_fn=<MeanBackward0>)\n",
      "tensor(0.2174, grad_fn=<MeanBackward0>)\n",
      "tensor(0.4716, grad_fn=<MeanBackward0>)\n",
      "tensor(0.4495, grad_fn=<MeanBackward0>)\n"
     ]
    },
    {
     "name": "stderr",
     "output_type": "stream",
     "text": [
      "\r",
      " 52%|████████████████████████████████████████▊                                     | 523/1000 [00:01<00:01, 283.24it/s]"
     ]
    },
    {
     "name": "stdout",
     "output_type": "stream",
     "text": [
      "tensor(0.1801, grad_fn=<MeanBackward0>)\n",
      "tensor(0.2529, grad_fn=<MeanBackward0>)\n",
      "tensor(0.1907, grad_fn=<MeanBackward0>)\n",
      "tensor(0.3841, grad_fn=<MeanBackward0>)\n",
      "tensor(0.1976, grad_fn=<MeanBackward0>)\n",
      "tensor(0.2916, grad_fn=<MeanBackward0>)\n",
      "tensor(0.3420, grad_fn=<MeanBackward0>)\n",
      "tensor(0.2160, grad_fn=<MeanBackward0>)\n",
      "tensor(0.4644, grad_fn=<MeanBackward0>)\n",
      "tensor(0.4462, grad_fn=<MeanBackward0>)\n",
      "tensor(0.1789, grad_fn=<MeanBackward0>)\n",
      "tensor(0.2528, grad_fn=<MeanBackward0>)\n",
      "tensor(0.1894, grad_fn=<MeanBackward0>)\n",
      "tensor(0.3816, grad_fn=<MeanBackward0>)\n",
      "tensor(0.1958, grad_fn=<MeanBackward0>)\n",
      "tensor(0.2888, grad_fn=<MeanBackward0>)\n",
      "tensor(0.3392, grad_fn=<MeanBackward0>)\n",
      "tensor(0.2145, grad_fn=<MeanBackward0>)\n",
      "tensor(0.4574, grad_fn=<MeanBackward0>)\n",
      "tensor(0.4429, grad_fn=<MeanBackward0>)\n",
      "tensor(0.1779, grad_fn=<MeanBackward0>)\n",
      "tensor(0.2521, grad_fn=<MeanBackward0>)\n",
      "tensor(0.1883, grad_fn=<MeanBackward0>)\n",
      "tensor(0.3791, grad_fn=<MeanBackward0>)\n",
      "tensor(0.1942, grad_fn=<MeanBackward0>)\n",
      "tensor(0.2855, grad_fn=<MeanBackward0>)\n",
      "tensor(0.3366, grad_fn=<MeanBackward0>)\n",
      "tensor(0.2127, grad_fn=<MeanBackward0>)\n",
      "tensor(0.4505, grad_fn=<MeanBackward0>)\n",
      "tensor(0.4398, grad_fn=<MeanBackward0>)\n",
      "tensor(0.1770, grad_fn=<MeanBackward0>)\n",
      "tensor(0.2510, grad_fn=<MeanBackward0>)\n"
     ]
    },
    {
     "name": "stderr",
     "output_type": "stream",
     "text": [
      "\r",
      " 56%|███████████████████████████████████████████▎                                  | 555/1000 [00:02<00:01, 292.33it/s]"
     ]
    },
    {
     "name": "stdout",
     "output_type": "stream",
     "text": [
      "tensor(0.1873, grad_fn=<MeanBackward0>)\n",
      "tensor(0.3766, grad_fn=<MeanBackward0>)\n",
      "tensor(0.1926, grad_fn=<MeanBackward0>)\n",
      "tensor(0.2821, grad_fn=<MeanBackward0>)\n",
      "tensor(0.3341, grad_fn=<MeanBackward0>)\n",
      "tensor(0.2111, grad_fn=<MeanBackward0>)\n",
      "tensor(0.4436, grad_fn=<MeanBackward0>)\n",
      "tensor(0.4368, grad_fn=<MeanBackward0>)\n",
      "tensor(0.1761, grad_fn=<MeanBackward0>)\n",
      "tensor(0.2496, grad_fn=<MeanBackward0>)\n",
      "tensor(0.1864, grad_fn=<MeanBackward0>)\n",
      "tensor(0.3741, grad_fn=<MeanBackward0>)\n",
      "tensor(0.1909, grad_fn=<MeanBackward0>)\n",
      "tensor(0.2788, grad_fn=<MeanBackward0>)\n",
      "tensor(0.3318, grad_fn=<MeanBackward0>)\n",
      "tensor(0.2096, grad_fn=<MeanBackward0>)\n",
      "tensor(0.4368, grad_fn=<MeanBackward0>)\n",
      "tensor(0.4340, grad_fn=<MeanBackward0>)\n",
      "tensor(0.1754, grad_fn=<MeanBackward0>)\n",
      "tensor(0.2484, grad_fn=<MeanBackward0>)\n",
      "tensor(0.1856, grad_fn=<MeanBackward0>)\n",
      "tensor(0.3716, grad_fn=<MeanBackward0>)\n",
      "tensor(0.1893, grad_fn=<MeanBackward0>)\n",
      "tensor(0.2757, grad_fn=<MeanBackward0>)\n",
      "tensor(0.3296, grad_fn=<MeanBackward0>)\n",
      "tensor(0.2083, grad_fn=<MeanBackward0>)\n",
      "tensor(0.4303, grad_fn=<MeanBackward0>)\n",
      "tensor(0.4312, grad_fn=<MeanBackward0>)\n",
      "tensor(0.1748, grad_fn=<MeanBackward0>)\n",
      "tensor(0.2468, grad_fn=<MeanBackward0>)\n"
     ]
    },
    {
     "name": "stderr",
     "output_type": "stream",
     "text": [
      "\r",
      " 58%|█████████████████████████████████████████████▋                                | 585/1000 [00:02<00:01, 291.78it/s]"
     ]
    },
    {
     "name": "stdout",
     "output_type": "stream",
     "text": [
      "tensor(0.1849, grad_fn=<MeanBackward0>)\n",
      "tensor(0.3692, grad_fn=<MeanBackward0>)\n",
      "tensor(0.1877, grad_fn=<MeanBackward0>)\n",
      "tensor(0.2727, grad_fn=<MeanBackward0>)\n",
      "tensor(0.3276, grad_fn=<MeanBackward0>)\n",
      "tensor(0.2072, grad_fn=<MeanBackward0>)\n",
      "tensor(0.4238, grad_fn=<MeanBackward0>)\n",
      "tensor(0.4285, grad_fn=<MeanBackward0>)\n",
      "tensor(0.1743, grad_fn=<MeanBackward0>)\n",
      "tensor(0.2447, grad_fn=<MeanBackward0>)\n",
      "tensor(0.1843, grad_fn=<MeanBackward0>)\n",
      "tensor(0.3667, grad_fn=<MeanBackward0>)\n",
      "tensor(0.1860, grad_fn=<MeanBackward0>)\n",
      "tensor(0.2698, grad_fn=<MeanBackward0>)\n",
      "tensor(0.3257, grad_fn=<MeanBackward0>)\n",
      "tensor(0.2063, grad_fn=<MeanBackward0>)\n",
      "tensor(0.4175, grad_fn=<MeanBackward0>)\n",
      "tensor(0.4260, grad_fn=<MeanBackward0>)\n",
      "tensor(0.1738, grad_fn=<MeanBackward0>)\n",
      "tensor(0.2428, grad_fn=<MeanBackward0>)\n",
      "tensor(0.1838, grad_fn=<MeanBackward0>)\n",
      "tensor(0.3644, grad_fn=<MeanBackward0>)\n",
      "tensor(0.1844, grad_fn=<MeanBackward0>)\n",
      "tensor(0.2670, grad_fn=<MeanBackward0>)\n",
      "tensor(0.3240, grad_fn=<MeanBackward0>)\n",
      "tensor(0.2056, grad_fn=<MeanBackward0>)\n",
      "tensor(0.4114, grad_fn=<MeanBackward0>)\n",
      "tensor(0.4236, grad_fn=<MeanBackward0>)\n",
      "tensor(0.1735, grad_fn=<MeanBackward0>)\n",
      "tensor(0.2409, grad_fn=<MeanBackward0>)\n",
      "tensor(0.1834, grad_fn=<MeanBackward0>)\n",
      "tensor(0.3621, grad_fn=<MeanBackward0>)\n",
      "tensor(0.1829, grad_fn=<MeanBackward0>)\n",
      "tensor(0.2643, grad_fn=<MeanBackward0>)\n"
     ]
    },
    {
     "name": "stderr",
     "output_type": "stream",
     "text": [
      "\r",
      " 62%|████████████████████████████████████████████████▎                             | 619/1000 [00:02<00:01, 304.53it/s]"
     ]
    },
    {
     "name": "stdout",
     "output_type": "stream",
     "text": [
      "tensor(0.3218, grad_fn=<MeanBackward0>)\n",
      "tensor(0.2050, grad_fn=<MeanBackward0>)\n",
      "tensor(0.4055, grad_fn=<MeanBackward0>)\n",
      "tensor(0.4212, grad_fn=<MeanBackward0>)\n",
      "tensor(0.1732, grad_fn=<MeanBackward0>)\n",
      "tensor(0.2392, grad_fn=<MeanBackward0>)\n",
      "tensor(0.1829, grad_fn=<MeanBackward0>)\n",
      "tensor(0.3599, grad_fn=<MeanBackward0>)\n",
      "tensor(0.1812, grad_fn=<MeanBackward0>)\n",
      "tensor(0.2617, grad_fn=<MeanBackward0>)\n",
      "tensor(0.3186, grad_fn=<MeanBackward0>)\n",
      "tensor(0.2045, grad_fn=<MeanBackward0>)\n",
      "tensor(0.3996, grad_fn=<MeanBackward0>)\n",
      "tensor(0.4187, grad_fn=<MeanBackward0>)\n",
      "tensor(0.1732, grad_fn=<MeanBackward0>)\n",
      "tensor(0.2373, grad_fn=<MeanBackward0>)\n",
      "tensor(0.1826, grad_fn=<MeanBackward0>)\n",
      "tensor(0.3579, grad_fn=<MeanBackward0>)\n",
      "tensor(0.1794, grad_fn=<MeanBackward0>)\n",
      "tensor(0.2591, grad_fn=<MeanBackward0>)\n",
      "tensor(0.3154, grad_fn=<MeanBackward0>)\n",
      "tensor(0.2034, grad_fn=<MeanBackward0>)\n",
      "tensor(0.3937, grad_fn=<MeanBackward0>)\n",
      "tensor(0.4164, grad_fn=<MeanBackward0>)\n",
      "tensor(0.1733, grad_fn=<MeanBackward0>)\n",
      "tensor(0.2356, grad_fn=<MeanBackward0>)\n",
      "tensor(0.1823, grad_fn=<MeanBackward0>)\n",
      "tensor(0.3559, grad_fn=<MeanBackward0>)\n",
      "tensor(0.1778, grad_fn=<MeanBackward0>)\n",
      "tensor(0.2565, grad_fn=<MeanBackward0>)\n",
      "tensor(0.3123, grad_fn=<MeanBackward0>)\n"
     ]
    },
    {
     "name": "stderr",
     "output_type": "stream",
     "text": [
      "\r",
      " 65%|██████████████████████████████████████████████████▋                           | 650/1000 [00:02<00:01, 300.99it/s]"
     ]
    },
    {
     "name": "stdout",
     "output_type": "stream",
     "text": [
      "tensor(0.2023, grad_fn=<MeanBackward0>)\n",
      "tensor(0.3880, grad_fn=<MeanBackward0>)\n",
      "tensor(0.4141, grad_fn=<MeanBackward0>)\n",
      "tensor(0.1735, grad_fn=<MeanBackward0>)\n",
      "tensor(0.2339, grad_fn=<MeanBackward0>)\n",
      "tensor(0.1821, grad_fn=<MeanBackward0>)\n",
      "tensor(0.3541, grad_fn=<MeanBackward0>)\n",
      "tensor(0.1763, grad_fn=<MeanBackward0>)\n",
      "tensor(0.2540, grad_fn=<MeanBackward0>)\n",
      "tensor(0.3093, grad_fn=<MeanBackward0>)\n",
      "tensor(0.2013, grad_fn=<MeanBackward0>)\n",
      "tensor(0.3825, grad_fn=<MeanBackward0>)\n",
      "tensor(0.4119, grad_fn=<MeanBackward0>)\n",
      "tensor(0.1730, grad_fn=<MeanBackward0>)\n",
      "tensor(0.2324, grad_fn=<MeanBackward0>)\n",
      "tensor(0.1820, grad_fn=<MeanBackward0>)\n",
      "tensor(0.3523, grad_fn=<MeanBackward0>)\n",
      "tensor(0.1748, grad_fn=<MeanBackward0>)\n",
      "tensor(0.2517, grad_fn=<MeanBackward0>)\n",
      "tensor(0.3064, grad_fn=<MeanBackward0>)\n",
      "tensor(0.2005, grad_fn=<MeanBackward0>)\n",
      "tensor(0.3771, grad_fn=<MeanBackward0>)\n",
      "tensor(0.4098, grad_fn=<MeanBackward0>)\n",
      "tensor(0.1717, grad_fn=<MeanBackward0>)\n",
      "tensor(0.2308, grad_fn=<MeanBackward0>)\n",
      "tensor(0.1820, grad_fn=<MeanBackward0>)\n",
      "tensor(0.3506, grad_fn=<MeanBackward0>)\n",
      "tensor(0.1733, grad_fn=<MeanBackward0>)\n",
      "tensor(0.2493, grad_fn=<MeanBackward0>)\n",
      "tensor(0.3035, grad_fn=<MeanBackward0>)\n",
      "tensor(0.1997, grad_fn=<MeanBackward0>)\n"
     ]
    },
    {
     "name": "stderr",
     "output_type": "stream",
     "text": [
      "\r",
      " 68%|█████████████████████████████████████████████████████                         | 681/1000 [00:02<00:01, 293.89it/s]"
     ]
    },
    {
     "name": "stdout",
     "output_type": "stream",
     "text": [
      "tensor(0.3717, grad_fn=<MeanBackward0>)\n",
      "tensor(0.4068, grad_fn=<MeanBackward0>)\n",
      "tensor(0.1705, grad_fn=<MeanBackward0>)\n",
      "tensor(0.2292, grad_fn=<MeanBackward0>)\n",
      "tensor(0.1821, grad_fn=<MeanBackward0>)\n",
      "tensor(0.3490, grad_fn=<MeanBackward0>)\n",
      "tensor(0.1712, grad_fn=<MeanBackward0>)\n",
      "tensor(0.2469, grad_fn=<MeanBackward0>)\n",
      "tensor(0.3007, grad_fn=<MeanBackward0>)\n",
      "tensor(0.1989, grad_fn=<MeanBackward0>)\n",
      "tensor(0.3662, grad_fn=<MeanBackward0>)\n",
      "tensor(0.4035, grad_fn=<MeanBackward0>)\n",
      "tensor(0.1692, grad_fn=<MeanBackward0>)\n",
      "tensor(0.2274, grad_fn=<MeanBackward0>)\n",
      "tensor(0.1823, grad_fn=<MeanBackward0>)\n",
      "tensor(0.3473, grad_fn=<MeanBackward0>)\n",
      "tensor(0.1687, grad_fn=<MeanBackward0>)\n",
      "tensor(0.2445, grad_fn=<MeanBackward0>)\n",
      "tensor(0.2980, grad_fn=<MeanBackward0>)\n",
      "tensor(0.1980, grad_fn=<MeanBackward0>)\n",
      "tensor(0.3607, grad_fn=<MeanBackward0>)\n",
      "tensor(0.4002, grad_fn=<MeanBackward0>)\n",
      "tensor(0.1680, grad_fn=<MeanBackward0>)\n",
      "tensor(0.2255, grad_fn=<MeanBackward0>)\n",
      "tensor(0.1827, grad_fn=<MeanBackward0>)\n",
      "tensor(0.3458, grad_fn=<MeanBackward0>)\n",
      "tensor(0.1663, grad_fn=<MeanBackward0>)\n",
      "tensor(0.2421, grad_fn=<MeanBackward0>)\n",
      "tensor(0.2955, grad_fn=<MeanBackward0>)\n",
      "tensor(0.1971, grad_fn=<MeanBackward0>)\n",
      "tensor(0.3553, grad_fn=<MeanBackward0>)\n"
     ]
    },
    {
     "name": "stderr",
     "output_type": "stream",
     "text": [
      "\r",
      " 71%|███████████████████████████████████████████████████████▌                      | 712/1000 [00:02<00:00, 297.45it/s]"
     ]
    },
    {
     "name": "stdout",
     "output_type": "stream",
     "text": [
      "tensor(0.3970, grad_fn=<MeanBackward0>)\n",
      "tensor(0.1670, grad_fn=<MeanBackward0>)\n",
      "tensor(0.2238, grad_fn=<MeanBackward0>)\n",
      "tensor(0.1832, grad_fn=<MeanBackward0>)\n",
      "tensor(0.3443, grad_fn=<MeanBackward0>)\n",
      "tensor(0.1641, grad_fn=<MeanBackward0>)\n",
      "tensor(0.2399, grad_fn=<MeanBackward0>)\n",
      "tensor(0.2931, grad_fn=<MeanBackward0>)\n",
      "tensor(0.1964, grad_fn=<MeanBackward0>)\n",
      "tensor(0.3502, grad_fn=<MeanBackward0>)\n",
      "tensor(0.3928, grad_fn=<MeanBackward0>)\n",
      "tensor(0.1659, grad_fn=<MeanBackward0>)\n",
      "tensor(0.2222, grad_fn=<MeanBackward0>)\n",
      "tensor(0.1837, grad_fn=<MeanBackward0>)\n",
      "tensor(0.3419, grad_fn=<MeanBackward0>)\n",
      "tensor(0.1619, grad_fn=<MeanBackward0>)\n",
      "tensor(0.2377, grad_fn=<MeanBackward0>)\n",
      "tensor(0.2908, grad_fn=<MeanBackward0>)\n",
      "tensor(0.1957, grad_fn=<MeanBackward0>)\n",
      "tensor(0.3450, grad_fn=<MeanBackward0>)\n",
      "tensor(0.3885, grad_fn=<MeanBackward0>)\n",
      "tensor(0.1650, grad_fn=<MeanBackward0>)\n",
      "tensor(0.2205, grad_fn=<MeanBackward0>)\n",
      "tensor(0.1843, grad_fn=<MeanBackward0>)\n",
      "tensor(0.3394, grad_fn=<MeanBackward0>)\n",
      "tensor(0.1596, grad_fn=<MeanBackward0>)\n",
      "tensor(0.2356, grad_fn=<MeanBackward0>)\n",
      "tensor(0.2886, grad_fn=<MeanBackward0>)\n",
      "tensor(0.1949, grad_fn=<MeanBackward0>)\n",
      "tensor(0.3399, grad_fn=<MeanBackward0>)\n",
      "tensor(0.3843, grad_fn=<MeanBackward0>)\n",
      "tensor(0.1641, grad_fn=<MeanBackward0>)\n",
      "tensor(0.2188, grad_fn=<MeanBackward0>)\n"
     ]
    },
    {
     "name": "stderr",
     "output_type": "stream",
     "text": [
      "\r",
      " 74%|██████████████████████████████████████████████████████████                    | 745/1000 [00:02<00:00, 303.75it/s]"
     ]
    },
    {
     "name": "stdout",
     "output_type": "stream",
     "text": [
      "tensor(0.1850, grad_fn=<MeanBackward0>)\n",
      "tensor(0.3371, grad_fn=<MeanBackward0>)\n",
      "tensor(0.1575, grad_fn=<MeanBackward0>)\n",
      "tensor(0.2335, grad_fn=<MeanBackward0>)\n",
      "tensor(0.2865, grad_fn=<MeanBackward0>)\n",
      "tensor(0.1943, grad_fn=<MeanBackward0>)\n",
      "tensor(0.3349, grad_fn=<MeanBackward0>)\n",
      "tensor(0.3802, grad_fn=<MeanBackward0>)\n",
      "tensor(0.1633, grad_fn=<MeanBackward0>)\n",
      "tensor(0.2173, grad_fn=<MeanBackward0>)\n",
      "tensor(0.1857, grad_fn=<MeanBackward0>)\n",
      "tensor(0.3348, grad_fn=<MeanBackward0>)\n",
      "tensor(0.1555, grad_fn=<MeanBackward0>)\n",
      "tensor(0.2314, grad_fn=<MeanBackward0>)\n",
      "tensor(0.2845, grad_fn=<MeanBackward0>)\n",
      "tensor(0.1936, grad_fn=<MeanBackward0>)\n",
      "tensor(0.3302, grad_fn=<MeanBackward0>)\n",
      "tensor(0.3763, grad_fn=<MeanBackward0>)\n",
      "tensor(0.1626, grad_fn=<MeanBackward0>)\n",
      "tensor(0.2159, grad_fn=<MeanBackward0>)\n",
      "tensor(0.1865, grad_fn=<MeanBackward0>)\n",
      "tensor(0.3326, grad_fn=<MeanBackward0>)\n",
      "tensor(0.1536, grad_fn=<MeanBackward0>)\n",
      "tensor(0.2281, grad_fn=<MeanBackward0>)\n",
      "tensor(0.2826, grad_fn=<MeanBackward0>)\n",
      "tensor(0.1928, grad_fn=<MeanBackward0>)\n",
      "tensor(0.3255, grad_fn=<MeanBackward0>)\n",
      "tensor(0.3727, grad_fn=<MeanBackward0>)\n",
      "tensor(0.1620, grad_fn=<MeanBackward0>)\n",
      "tensor(0.2146, grad_fn=<MeanBackward0>)\n",
      "tensor(0.1874, grad_fn=<MeanBackward0>)\n"
     ]
    },
    {
     "name": "stderr",
     "output_type": "stream",
     "text": [
      "\r",
      " 78%|████████████████████████████████████████████████████████████▌                 | 776/1000 [00:02<00:00, 304.91it/s]"
     ]
    },
    {
     "name": "stdout",
     "output_type": "stream",
     "text": [
      "tensor(0.3305, grad_fn=<MeanBackward0>)\n",
      "tensor(0.1518, grad_fn=<MeanBackward0>)\n",
      "tensor(0.2250, grad_fn=<MeanBackward0>)\n",
      "tensor(0.2807, grad_fn=<MeanBackward0>)\n",
      "tensor(0.1920, grad_fn=<MeanBackward0>)\n",
      "tensor(0.3210, grad_fn=<MeanBackward0>)\n",
      "tensor(0.3691, grad_fn=<MeanBackward0>)\n",
      "tensor(0.1614, grad_fn=<MeanBackward0>)\n",
      "tensor(0.2134, grad_fn=<MeanBackward0>)\n",
      "tensor(0.1882, grad_fn=<MeanBackward0>)\n",
      "tensor(0.3286, grad_fn=<MeanBackward0>)\n",
      "tensor(0.1502, grad_fn=<MeanBackward0>)\n",
      "tensor(0.2220, grad_fn=<MeanBackward0>)\n",
      "tensor(0.2790, grad_fn=<MeanBackward0>)\n",
      "tensor(0.1914, grad_fn=<MeanBackward0>)\n",
      "tensor(0.3167, grad_fn=<MeanBackward0>)\n",
      "tensor(0.3658, grad_fn=<MeanBackward0>)\n",
      "tensor(0.1609, grad_fn=<MeanBackward0>)\n",
      "tensor(0.2123, grad_fn=<MeanBackward0>)\n",
      "tensor(0.1891, grad_fn=<MeanBackward0>)\n",
      "tensor(0.3259, grad_fn=<MeanBackward0>)\n",
      "tensor(0.1487, grad_fn=<MeanBackward0>)\n",
      "tensor(0.2192, grad_fn=<MeanBackward0>)\n",
      "tensor(0.2774, grad_fn=<MeanBackward0>)\n",
      "tensor(0.1907, grad_fn=<MeanBackward0>)\n",
      "tensor(0.3125, grad_fn=<MeanBackward0>)\n",
      "tensor(0.3625, grad_fn=<MeanBackward0>)\n",
      "tensor(0.1605, grad_fn=<MeanBackward0>)\n",
      "tensor(0.2112, grad_fn=<MeanBackward0>)\n",
      "tensor(0.1900, grad_fn=<MeanBackward0>)\n",
      "tensor(0.3232, grad_fn=<MeanBackward0>)\n",
      "tensor(0.1473, grad_fn=<MeanBackward0>)\n"
     ]
    },
    {
     "name": "stderr",
     "output_type": "stream",
     "text": [
      "\r",
      " 81%|███████████████████████████████████████████████████████████████               | 808/1000 [00:02<00:00, 306.82it/s]"
     ]
    },
    {
     "name": "stdout",
     "output_type": "stream",
     "text": [
      "tensor(0.2165, grad_fn=<MeanBackward0>)\n",
      "tensor(0.2759, grad_fn=<MeanBackward0>)\n",
      "tensor(0.1900, grad_fn=<MeanBackward0>)\n",
      "tensor(0.3083, grad_fn=<MeanBackward0>)\n",
      "tensor(0.3594, grad_fn=<MeanBackward0>)\n",
      "tensor(0.1601, grad_fn=<MeanBackward0>)\n",
      "tensor(0.2102, grad_fn=<MeanBackward0>)\n",
      "tensor(0.1910, grad_fn=<MeanBackward0>)\n",
      "tensor(0.3197, grad_fn=<MeanBackward0>)\n",
      "tensor(0.1460, grad_fn=<MeanBackward0>)\n",
      "tensor(0.2140, grad_fn=<MeanBackward0>)\n",
      "tensor(0.2744, grad_fn=<MeanBackward0>)\n",
      "tensor(0.1893, grad_fn=<MeanBackward0>)\n",
      "tensor(0.3042, grad_fn=<MeanBackward0>)\n",
      "tensor(0.3564, grad_fn=<MeanBackward0>)\n",
      "tensor(0.1597, grad_fn=<MeanBackward0>)\n",
      "tensor(0.2091, grad_fn=<MeanBackward0>)\n",
      "tensor(0.1920, grad_fn=<MeanBackward0>)\n",
      "tensor(0.3161, grad_fn=<MeanBackward0>)\n",
      "tensor(0.1448, grad_fn=<MeanBackward0>)\n",
      "tensor(0.2115, grad_fn=<MeanBackward0>)\n",
      "tensor(0.2730, grad_fn=<MeanBackward0>)\n",
      "tensor(0.1885, grad_fn=<MeanBackward0>)\n",
      "tensor(0.3001, grad_fn=<MeanBackward0>)\n",
      "tensor(0.3535, grad_fn=<MeanBackward0>)\n",
      "tensor(0.1594, grad_fn=<MeanBackward0>)\n",
      "tensor(0.2081, grad_fn=<MeanBackward0>)\n",
      "tensor(0.1928, grad_fn=<MeanBackward0>)\n",
      "tensor(0.3127, grad_fn=<MeanBackward0>)\n",
      "tensor(0.1438, grad_fn=<MeanBackward0>)\n",
      "tensor(0.2092, grad_fn=<MeanBackward0>)\n",
      "tensor(0.2713, grad_fn=<MeanBackward0>)\n",
      "tensor(0.1878, grad_fn=<MeanBackward0>)\n",
      "tensor(0.2960, grad_fn=<MeanBackward0>)\n"
     ]
    },
    {
     "name": "stderr",
     "output_type": "stream",
     "text": [
      "\r",
      " 84%|█████████████████████████████████████████████████████████████████▋            | 842/1000 [00:03<00:00, 314.08it/s]"
     ]
    },
    {
     "name": "stdout",
     "output_type": "stream",
     "text": [
      "tensor(0.3507, grad_fn=<MeanBackward0>)\n",
      "tensor(0.1592, grad_fn=<MeanBackward0>)\n",
      "tensor(0.2071, grad_fn=<MeanBackward0>)\n",
      "tensor(0.1934, grad_fn=<MeanBackward0>)\n",
      "tensor(0.3094, grad_fn=<MeanBackward0>)\n",
      "tensor(0.1430, grad_fn=<MeanBackward0>)\n",
      "tensor(0.2069, grad_fn=<MeanBackward0>)\n",
      "tensor(0.2689, grad_fn=<MeanBackward0>)\n",
      "tensor(0.1868, grad_fn=<MeanBackward0>)\n",
      "tensor(0.2919, grad_fn=<MeanBackward0>)\n",
      "tensor(0.3480, grad_fn=<MeanBackward0>)\n",
      "tensor(0.1590, grad_fn=<MeanBackward0>)\n",
      "tensor(0.2062, grad_fn=<MeanBackward0>)\n",
      "tensor(0.1941, grad_fn=<MeanBackward0>)\n",
      "tensor(0.3061, grad_fn=<MeanBackward0>)\n",
      "tensor(0.1424, grad_fn=<MeanBackward0>)\n",
      "tensor(0.2046, grad_fn=<MeanBackward0>)\n",
      "tensor(0.2665, grad_fn=<MeanBackward0>)\n",
      "tensor(0.1859, grad_fn=<MeanBackward0>)\n",
      "tensor(0.2879, grad_fn=<MeanBackward0>)\n",
      "tensor(0.3455, grad_fn=<MeanBackward0>)\n",
      "tensor(0.1587, grad_fn=<MeanBackward0>)\n",
      "tensor(0.2053, grad_fn=<MeanBackward0>)\n",
      "tensor(0.1948, grad_fn=<MeanBackward0>)\n",
      "tensor(0.3030, grad_fn=<MeanBackward0>)\n",
      "tensor(0.1418, grad_fn=<MeanBackward0>)\n",
      "tensor(0.2023, grad_fn=<MeanBackward0>)\n",
      "tensor(0.2643, grad_fn=<MeanBackward0>)\n",
      "tensor(0.1850, grad_fn=<MeanBackward0>)\n",
      "tensor(0.2839, grad_fn=<MeanBackward0>)\n",
      "tensor(0.3430, grad_fn=<MeanBackward0>)\n",
      "tensor(0.1574, grad_fn=<MeanBackward0>)\n"
     ]
    },
    {
     "name": "stderr",
     "output_type": "stream",
     "text": [
      "\r",
      " 87%|████████████████████████████████████████████████████████████████████▏         | 874/1000 [00:03<00:00, 303.43it/s]"
     ]
    },
    {
     "name": "stdout",
     "output_type": "stream",
     "text": [
      "tensor(0.2044, grad_fn=<MeanBackward0>)\n",
      "tensor(0.1956, grad_fn=<MeanBackward0>)\n",
      "tensor(0.3000, grad_fn=<MeanBackward0>)\n",
      "tensor(0.1413, grad_fn=<MeanBackward0>)\n",
      "tensor(0.2002, grad_fn=<MeanBackward0>)\n",
      "tensor(0.2621, grad_fn=<MeanBackward0>)\n",
      "tensor(0.1840, grad_fn=<MeanBackward0>)\n",
      "tensor(0.2801, grad_fn=<MeanBackward0>)\n",
      "tensor(0.3407, grad_fn=<MeanBackward0>)\n",
      "tensor(0.1563, grad_fn=<MeanBackward0>)\n",
      "tensor(0.2036, grad_fn=<MeanBackward0>)\n",
      "tensor(0.1964, grad_fn=<MeanBackward0>)\n",
      "tensor(0.2970, grad_fn=<MeanBackward0>)\n",
      "tensor(0.1408, grad_fn=<MeanBackward0>)\n",
      "tensor(0.1981, grad_fn=<MeanBackward0>)\n",
      "tensor(0.2600, grad_fn=<MeanBackward0>)\n",
      "tensor(0.1832, grad_fn=<MeanBackward0>)\n",
      "tensor(0.2763, grad_fn=<MeanBackward0>)\n",
      "tensor(0.3384, grad_fn=<MeanBackward0>)\n",
      "tensor(0.1552, grad_fn=<MeanBackward0>)\n",
      "tensor(0.2029, grad_fn=<MeanBackward0>)\n",
      "tensor(0.1971, grad_fn=<MeanBackward0>)\n",
      "tensor(0.2942, grad_fn=<MeanBackward0>)\n",
      "tensor(0.1405, grad_fn=<MeanBackward0>)\n",
      "tensor(0.1962, grad_fn=<MeanBackward0>)\n",
      "tensor(0.2581, grad_fn=<MeanBackward0>)\n",
      "tensor(0.1825, grad_fn=<MeanBackward0>)\n",
      "tensor(0.2727, grad_fn=<MeanBackward0>)\n",
      "tensor(0.3363, grad_fn=<MeanBackward0>)\n",
      "tensor(0.1542, grad_fn=<MeanBackward0>)\n",
      "tensor(0.2022, grad_fn=<MeanBackward0>)\n",
      "tensor(0.1979, grad_fn=<MeanBackward0>)\n",
      "tensor(0.2916, grad_fn=<MeanBackward0>)\n"
     ]
    },
    {
     "name": "stderr",
     "output_type": "stream",
     "text": [
      "\r",
      " 91%|██████████████████████████████████████████████████████████████████████▋       | 907/1000 [00:03<00:00, 308.96it/s]"
     ]
    },
    {
     "name": "stdout",
     "output_type": "stream",
     "text": [
      "tensor(0.1402, grad_fn=<MeanBackward0>)\n",
      "tensor(0.1944, grad_fn=<MeanBackward0>)\n",
      "tensor(0.2563, grad_fn=<MeanBackward0>)\n",
      "tensor(0.1818, grad_fn=<MeanBackward0>)\n",
      "tensor(0.2693, grad_fn=<MeanBackward0>)\n",
      "tensor(0.3342, grad_fn=<MeanBackward0>)\n",
      "tensor(0.1533, grad_fn=<MeanBackward0>)\n",
      "tensor(0.2015, grad_fn=<MeanBackward0>)\n",
      "tensor(0.1987, grad_fn=<MeanBackward0>)\n",
      "tensor(0.2891, grad_fn=<MeanBackward0>)\n",
      "tensor(0.1400, grad_fn=<MeanBackward0>)\n",
      "tensor(0.1927, grad_fn=<MeanBackward0>)\n",
      "tensor(0.2546, grad_fn=<MeanBackward0>)\n",
      "tensor(0.1813, grad_fn=<MeanBackward0>)\n",
      "tensor(0.2659, grad_fn=<MeanBackward0>)\n",
      "tensor(0.3322, grad_fn=<MeanBackward0>)\n",
      "tensor(0.1525, grad_fn=<MeanBackward0>)\n",
      "tensor(0.2009, grad_fn=<MeanBackward0>)\n",
      "tensor(0.1995, grad_fn=<MeanBackward0>)\n",
      "tensor(0.2867, grad_fn=<MeanBackward0>)\n",
      "tensor(0.1397, grad_fn=<MeanBackward0>)\n",
      "tensor(0.1911, grad_fn=<MeanBackward0>)\n",
      "tensor(0.2529, grad_fn=<MeanBackward0>)\n",
      "tensor(0.1809, grad_fn=<MeanBackward0>)\n",
      "tensor(0.2627, grad_fn=<MeanBackward0>)\n",
      "tensor(0.3303, grad_fn=<MeanBackward0>)\n",
      "tensor(0.1518, grad_fn=<MeanBackward0>)\n",
      "tensor(0.2002, grad_fn=<MeanBackward0>)\n",
      "tensor(0.2003, grad_fn=<MeanBackward0>)\n",
      "tensor(0.2846, grad_fn=<MeanBackward0>)\n",
      "tensor(0.1395, grad_fn=<MeanBackward0>)\n",
      "tensor(0.1897, grad_fn=<MeanBackward0>)\n"
     ]
    },
    {
     "name": "stderr",
     "output_type": "stream",
     "text": [
      "\r",
      " 94%|█████████████████████████████████████████████████████████████████████████▏    | 939/1000 [00:03<00:00, 304.36it/s]"
     ]
    },
    {
     "name": "stdout",
     "output_type": "stream",
     "text": [
      "tensor(0.2512, grad_fn=<MeanBackward0>)\n",
      "tensor(0.1807, grad_fn=<MeanBackward0>)\n",
      "tensor(0.2596, grad_fn=<MeanBackward0>)\n",
      "tensor(0.3284, grad_fn=<MeanBackward0>)\n",
      "tensor(0.1511, grad_fn=<MeanBackward0>)\n",
      "tensor(0.1995, grad_fn=<MeanBackward0>)\n",
      "tensor(0.2010, grad_fn=<MeanBackward0>)\n",
      "tensor(0.2826, grad_fn=<MeanBackward0>)\n",
      "tensor(0.1393, grad_fn=<MeanBackward0>)\n",
      "tensor(0.1883, grad_fn=<MeanBackward0>)\n",
      "tensor(0.2496, grad_fn=<MeanBackward0>)\n",
      "tensor(0.1805, grad_fn=<MeanBackward0>)\n",
      "tensor(0.2565, grad_fn=<MeanBackward0>)\n",
      "tensor(0.3265, grad_fn=<MeanBackward0>)\n",
      "tensor(0.1506, grad_fn=<MeanBackward0>)\n",
      "tensor(0.1988, grad_fn=<MeanBackward0>)\n",
      "tensor(0.2018, grad_fn=<MeanBackward0>)\n",
      "tensor(0.2806, grad_fn=<MeanBackward0>)\n",
      "tensor(0.1391, grad_fn=<MeanBackward0>)\n",
      "tensor(0.1870, grad_fn=<MeanBackward0>)\n",
      "tensor(0.2480, grad_fn=<MeanBackward0>)\n",
      "tensor(0.1805, grad_fn=<MeanBackward0>)\n",
      "tensor(0.2536, grad_fn=<MeanBackward0>)\n",
      "tensor(0.3248, grad_fn=<MeanBackward0>)\n",
      "tensor(0.1501, grad_fn=<MeanBackward0>)\n",
      "tensor(0.1982, grad_fn=<MeanBackward0>)\n",
      "tensor(0.2026, grad_fn=<MeanBackward0>)\n",
      "tensor(0.2788, grad_fn=<MeanBackward0>)\n",
      "tensor(0.1390, grad_fn=<MeanBackward0>)\n",
      "tensor(0.1857, grad_fn=<MeanBackward0>)\n",
      "tensor(0.2466, grad_fn=<MeanBackward0>)\n",
      "tensor(0.1804, grad_fn=<MeanBackward0>)\n",
      "tensor(0.2508, grad_fn=<MeanBackward0>)\n"
     ]
    },
    {
     "name": "stderr",
     "output_type": "stream",
     "text": [
      "\r",
      " 97%|███████████████████████████████████████████████████████████████████████████▊  | 972/1000 [00:03<00:00, 309.63it/s]"
     ]
    },
    {
     "name": "stdout",
     "output_type": "stream",
     "text": [
      "tensor(0.3231, grad_fn=<MeanBackward0>)\n",
      "tensor(0.1496, grad_fn=<MeanBackward0>)\n",
      "tensor(0.1976, grad_fn=<MeanBackward0>)\n",
      "tensor(0.2034, grad_fn=<MeanBackward0>)\n",
      "tensor(0.2770, grad_fn=<MeanBackward0>)\n",
      "tensor(0.1389, grad_fn=<MeanBackward0>)\n",
      "tensor(0.1846, grad_fn=<MeanBackward0>)\n",
      "tensor(0.2452, grad_fn=<MeanBackward0>)\n",
      "tensor(0.1805, grad_fn=<MeanBackward0>)\n",
      "tensor(0.2481, grad_fn=<MeanBackward0>)\n",
      "tensor(0.3215, grad_fn=<MeanBackward0>)\n",
      "tensor(0.1492, grad_fn=<MeanBackward0>)\n",
      "tensor(0.1971, grad_fn=<MeanBackward0>)\n",
      "tensor(0.2042, grad_fn=<MeanBackward0>)\n",
      "tensor(0.2753, grad_fn=<MeanBackward0>)\n",
      "tensor(0.1389, grad_fn=<MeanBackward0>)\n",
      "tensor(0.1835, grad_fn=<MeanBackward0>)\n",
      "tensor(0.2439, grad_fn=<MeanBackward0>)\n",
      "tensor(0.1805, grad_fn=<MeanBackward0>)\n",
      "tensor(0.2455, grad_fn=<MeanBackward0>)\n",
      "tensor(0.3200, grad_fn=<MeanBackward0>)\n",
      "tensor(0.1488, grad_fn=<MeanBackward0>)\n",
      "tensor(0.1966, grad_fn=<MeanBackward0>)\n",
      "tensor(0.2049, grad_fn=<MeanBackward0>)\n",
      "tensor(0.2737, grad_fn=<MeanBackward0>)\n",
      "tensor(0.1385, grad_fn=<MeanBackward0>)\n",
      "tensor(0.1826, grad_fn=<MeanBackward0>)\n",
      "tensor(0.2426, grad_fn=<MeanBackward0>)\n",
      "tensor(0.1807, grad_fn=<MeanBackward0>)\n"
     ]
    },
    {
     "name": "stderr",
     "output_type": "stream",
     "text": [
      "100%|█████████████████████████████████████████████████████████████████████████████| 1000/1000 [00:03<00:00, 281.90it/s]\n"
     ]
    }
   ],
   "source": [
    "train()"
   ]
  },
  {
   "cell_type": "code",
   "execution_count": 142,
   "metadata": {},
   "outputs": [
    {
     "name": "stdout",
     "output_type": "stream",
     "text": [
      "Parameter containing:\n",
      "tensor([[-0.1715,  0.7449],\n",
      "        [ 0.7376,  0.3121],\n",
      "        [-0.5757, -0.0800],\n",
      "        [ 0.4827, -0.5449]], requires_grad=True)\n"
     ]
    }
   ],
   "source": [
    "print(net.SOM_layer)"
   ]
  },
  {
   "cell_type": "code",
   "execution_count": 143,
   "metadata": {},
   "outputs": [],
   "source": [
    "t = Variable(x)"
   ]
  },
  {
   "cell_type": "code",
   "execution_count": 144,
   "metadata": {},
   "outputs": [],
   "source": [
    "mask,index = net(t)"
   ]
  },
  {
   "cell_type": "code",
   "execution_count": 145,
   "metadata": {},
   "outputs": [
    {
     "name": "stdout",
     "output_type": "stream",
     "text": [
      "tensor([[-0.8278, -0.0241],\n",
      "        [ 0.6824, -0.9177],\n",
      "        [-0.6851,  0.8486],\n",
      "        [-0.9046,  0.9694],\n",
      "        [ 0.1630, -0.5054],\n",
      "        [-0.9428,  0.3229],\n",
      "        [-0.0110, -0.8066],\n",
      "        [-0.1697,  0.5600],\n",
      "        [-0.7821, -0.7359],\n",
      "        [-0.4868,  0.7081],\n",
      "        [-0.1584,  0.5184],\n",
      "        [-0.1585, -0.9237],\n",
      "        [ 0.7563, -0.1593],\n",
      "        [-0.3272, -0.0689],\n",
      "        [-0.4920, -0.8587],\n",
      "        [-0.7372, -0.2388],\n",
      "        [-0.6846,  0.6307],\n",
      "        [-0.5881,  0.2466],\n",
      "        [-0.9577,  0.8292],\n",
      "        [-0.5457, -0.8680],\n",
      "        [-0.9637, -0.1503],\n",
      "        [ 0.6216, -0.7430],\n",
      "        [-0.2576,  0.0906],\n",
      "        [ 0.9477,  0.9109],\n",
      "        [-0.3584,  0.4710],\n",
      "        [ 0.2038,  0.9495],\n",
      "        [ 0.6540, -0.0466],\n",
      "        [ 0.4316, -0.9174],\n",
      "        [ 0.8259,  0.0187],\n",
      "        [-0.2784,  0.9989],\n",
      "        [-0.0420,  0.0783],\n",
      "        [ 0.2860, -0.2770],\n",
      "        [-0.0059, -0.4913],\n",
      "        [ 0.1889,  0.8240],\n",
      "        [ 0.7576,  0.1044],\n",
      "        [-0.3518, -0.3406],\n",
      "        [-0.7229,  0.7517],\n",
      "        [-0.6322,  0.7110],\n",
      "        [ 0.0561,  0.1390],\n",
      "        [-0.3308,  0.5430],\n",
      "        [ 0.9545,  0.8535],\n",
      "        [-0.0557, -0.4134],\n",
      "        [-0.8472,  0.4438],\n",
      "        [-0.1168, -0.2253],\n",
      "        [-0.8413,  0.2338],\n",
      "        [ 0.8327, -0.8095],\n",
      "        [-0.5492,  0.3365],\n",
      "        [-0.6728, -0.1326],\n",
      "        [-0.0841,  0.4034],\n",
      "        [ 0.1655,  0.9463],\n",
      "        [-0.4622, -0.8391],\n",
      "        [ 0.9506,  0.3303],\n",
      "        [-0.9666,  0.5679],\n",
      "        [ 0.9046, -0.0848],\n",
      "        [ 0.9187, -0.0786],\n",
      "        [-0.4314,  0.9768],\n",
      "        [ 0.9966, -0.6195],\n",
      "        [ 0.5682,  0.0751],\n",
      "        [-0.4072,  0.7818],\n",
      "        [-0.9258,  0.9648],\n",
      "        [-0.6204, -0.5028],\n",
      "        [-0.8044, -0.0590],\n",
      "        [ 0.0150, -0.1785],\n",
      "        [-0.5143, -0.3726],\n",
      "        [-0.7782, -0.2311],\n",
      "        [ 0.6898,  0.0565],\n",
      "        [-0.7105,  0.0543],\n",
      "        [-0.1005,  0.6149],\n",
      "        [-0.4912, -0.5686],\n",
      "        [ 0.9093, -0.2451],\n",
      "        [-0.9948,  0.0240],\n",
      "        [ 0.4174,  0.2802],\n",
      "        [-0.1547, -0.1452],\n",
      "        [ 0.6429, -0.9247],\n",
      "        [-0.8845,  0.4759],\n",
      "        [-0.5197,  0.8352],\n",
      "        [ 0.3426,  0.1217],\n",
      "        [ 0.9845,  0.2813],\n",
      "        [-0.5381, -0.4876],\n",
      "        [-0.3854, -0.5156],\n",
      "        [-0.9171,  0.3708],\n",
      "        [-0.8782,  0.2359],\n",
      "        [-0.8131,  0.2488],\n",
      "        [ 0.9994, -0.6176],\n",
      "        [ 0.2077, -0.7493],\n",
      "        [ 0.0111,  0.5763],\n",
      "        [-0.8947, -0.7858],\n",
      "        [ 0.1818,  0.1485],\n",
      "        [ 0.2360, -0.2967],\n",
      "        [-0.6546,  0.6832],\n",
      "        [ 0.3753,  0.9478],\n",
      "        [ 0.5709, -0.7994],\n",
      "        [-0.7902,  0.4363],\n",
      "        [ 0.6806, -0.5073],\n",
      "        [ 0.7416,  0.0641],\n",
      "        [ 0.2018, -0.6252],\n",
      "        [ 0.1858, -0.9242],\n",
      "        [-0.3561,  0.3157],\n",
      "        [ 0.5028,  0.2473],\n",
      "        [ 0.4138,  0.9788],\n",
      "        [ 0.7763, -0.9756],\n",
      "        [ 0.4363, -0.8475],\n",
      "        [-0.2647,  0.9020],\n",
      "        [-0.8156,  0.2304],\n",
      "        [ 0.7981, -0.9921],\n",
      "        [-0.4467, -0.0809],\n",
      "        [ 0.7851,  0.0948],\n",
      "        [ 0.3615,  0.4402],\n",
      "        [-0.9877, -0.6689],\n",
      "        [ 0.9980,  0.7640],\n",
      "        [-0.3696, -0.3543],\n",
      "        [-0.1481,  0.8766],\n",
      "        [ 0.9486,  0.2620],\n",
      "        [ 0.1991, -0.2476],\n",
      "        [ 0.0691,  0.5194],\n",
      "        [ 0.8039, -0.2151],\n",
      "        [-0.5761,  0.9466],\n",
      "        [-0.7883,  0.7431],\n",
      "        [ 0.7577, -0.3148],\n",
      "        [ 0.2623, -0.4952],\n",
      "        [ 0.3458,  0.5348],\n",
      "        [ 0.9870, -0.2265],\n",
      "        [-0.9232,  0.0548],\n",
      "        [ 0.1608, -0.7426],\n",
      "        [ 0.0722,  0.2454],\n",
      "        [ 0.0969, -0.6267],\n",
      "        [ 0.9167, -0.8100],\n",
      "        [ 0.3172, -0.6404],\n",
      "        [ 0.0235, -0.7779],\n",
      "        [ 0.7341, -0.0073],\n",
      "        [-0.0883, -0.1299],\n",
      "        [-0.6189,  0.6161],\n",
      "        [-0.3084, -0.2684],\n",
      "        [-0.8189, -0.3454],\n",
      "        [ 0.3424,  0.1080],\n",
      "        [-0.5702,  0.9896],\n",
      "        [-0.0886, -0.7455],\n",
      "        [-0.1832, -0.7199],\n",
      "        [-0.0807,  0.1507],\n",
      "        [-0.1705,  0.4754],\n",
      "        [-0.3997, -0.4005],\n",
      "        [-0.4299,  0.3322],\n",
      "        [ 0.2728, -0.4378],\n",
      "        [ 0.5019, -0.7808],\n",
      "        [ 0.7699,  0.7566],\n",
      "        [-0.2768, -0.4388],\n",
      "        [ 0.9218,  0.2521],\n",
      "        [ 0.7618, -0.3843],\n",
      "        [-0.5943,  0.2633],\n",
      "        [ 0.9107, -0.6897],\n",
      "        [-0.4500, -0.0923],\n",
      "        [-0.8633,  0.4589],\n",
      "        [-0.6179, -0.8021],\n",
      "        [ 0.9249,  0.8223],\n",
      "        [-0.7166,  0.4981],\n",
      "        [ 0.7362,  0.2050],\n",
      "        [ 0.4398, -0.1912],\n",
      "        [-0.6577,  0.0522],\n",
      "        [ 0.7620,  0.5954],\n",
      "        [ 0.3370,  0.5004],\n",
      "        [ 0.8795,  0.2921],\n",
      "        [ 0.0553, -0.8010],\n",
      "        [ 0.0537,  0.5309],\n",
      "        [-0.6645, -0.4074],\n",
      "        [-0.0128,  0.8702],\n",
      "        [ 0.3597, -0.1329],\n",
      "        [ 0.1479,  0.3672],\n",
      "        [ 0.2261,  0.1459],\n",
      "        [ 0.0301,  0.4908],\n",
      "        [-0.1073,  0.4336],\n",
      "        [ 0.9011,  0.2859],\n",
      "        [ 0.8724,  0.7171],\n",
      "        [-0.1098, -0.3287],\n",
      "        [-0.2097,  0.3209],\n",
      "        [ 0.5801,  0.2456],\n",
      "        [-0.7788,  0.8440],\n",
      "        [ 0.9952,  0.2455],\n",
      "        [-0.5873, -0.2698],\n",
      "        [-0.7352,  0.9847],\n",
      "        [ 0.4511,  0.9416],\n",
      "        [ 0.7531,  0.7531],\n",
      "        [ 0.2852, -0.3869],\n",
      "        [-0.2125, -0.5719],\n",
      "        [-0.6042, -0.2858],\n",
      "        [ 0.2435, -0.1922],\n",
      "        [ 0.9883, -0.2016],\n",
      "        [-0.2860, -0.7997],\n",
      "        [ 0.2381, -0.9614],\n",
      "        [-0.8483,  0.7052],\n",
      "        [-0.7115,  0.9577],\n",
      "        [ 0.1683, -0.4171],\n",
      "        [ 0.7392, -0.0357],\n",
      "        [-0.0923, -0.3943],\n",
      "        [-0.1271, -0.2254],\n",
      "        [ 0.4626,  0.5149],\n",
      "        [-0.7952, -0.0995],\n",
      "        [ 0.1931,  0.0995],\n",
      "        [-0.6975,  0.3728],\n",
      "        [ 0.2449,  0.8718],\n",
      "        [ 0.2074, -0.5795],\n",
      "        [ 0.4275,  0.4659],\n",
      "        [-0.1957,  0.9616],\n",
      "        [-0.1519, -0.0420],\n",
      "        [ 0.2437, -0.2012],\n",
      "        [ 0.8230, -0.1776],\n",
      "        [ 0.5394,  0.2957],\n",
      "        [-0.5709, -0.7536],\n",
      "        [ 0.4702, -0.2029],\n",
      "        [-0.7027,  0.5813],\n",
      "        [-0.9815, -0.7370],\n",
      "        [-0.6018,  0.3193],\n",
      "        [ 0.9551,  0.0430],\n",
      "        [-0.9995,  0.3828],\n",
      "        [ 0.6547,  0.8875],\n",
      "        [-0.3095,  0.1175],\n",
      "        [ 0.0675, -0.9211],\n",
      "        [-0.7164, -0.7876],\n",
      "        [-0.5874,  0.2042],\n",
      "        [ 0.5771,  0.7357],\n",
      "        [ 0.7746,  0.7857],\n",
      "        [-0.3372, -0.0743],\n",
      "        [ 0.0125, -0.5161],\n",
      "        [ 0.9165, -0.7187],\n",
      "        [ 0.8892, -0.2332],\n",
      "        [-0.8227,  0.2295],\n",
      "        [ 0.6740,  0.3385],\n",
      "        [ 0.1975,  0.3466],\n",
      "        [ 0.5402, -0.4507],\n",
      "        [ 0.3499,  0.7839],\n",
      "        [-0.2985, -0.2465],\n",
      "        [ 0.0482,  0.2206],\n",
      "        [-0.0810, -0.6618],\n",
      "        [ 0.3277, -0.5542],\n",
      "        [-0.4777,  0.7240],\n",
      "        [ 0.3020, -0.2342],\n",
      "        [ 0.2089, -0.4191],\n",
      "        [-0.0630,  0.8797],\n",
      "        [-0.5358, -0.8377],\n",
      "        [ 0.7752,  0.2023],\n",
      "        [-0.6556,  0.4957],\n",
      "        [-0.6234, -0.2251],\n",
      "        [-0.2729,  0.2861],\n",
      "        [ 0.8223, -0.3010],\n",
      "        [-0.5226,  0.7501],\n",
      "        [-0.3902, -0.3824],\n",
      "        [-0.2772,  0.7089],\n",
      "        [ 0.3229, -0.4909],\n",
      "        [-0.2297,  0.8524],\n",
      "        [-0.7601, -0.4288],\n",
      "        [-0.7950,  0.0918],\n",
      "        [ 0.8803, -0.8606],\n",
      "        [-0.2752, -0.4574],\n",
      "        [ 0.2481, -0.6092],\n",
      "        [-0.1411, -0.3253],\n",
      "        [ 0.8490, -0.3839],\n",
      "        [-0.8543, -0.8083],\n",
      "        [ 0.5092, -0.5430],\n",
      "        [ 0.8007, -0.2763],\n",
      "        [ 0.6391,  0.3506],\n",
      "        [-0.1057, -0.9747],\n",
      "        [ 0.1410,  0.5855],\n",
      "        [ 0.3459, -0.5185],\n",
      "        [ 0.7457,  0.2078],\n",
      "        [-0.8894,  0.8554],\n",
      "        [ 0.3593, -0.3230],\n",
      "        [ 0.3575, -0.1307],\n",
      "        [ 0.7372, -0.5393],\n",
      "        [-0.1341,  0.6022],\n",
      "        [-0.6630,  0.6195],\n",
      "        [-0.5216,  0.2786],\n",
      "        [-0.3462,  0.5998],\n",
      "        [-0.8765, -0.0076],\n",
      "        [ 0.6758, -0.0108],\n",
      "        [-0.8449, -0.5885],\n",
      "        [-0.1506,  0.5165],\n",
      "        [ 0.0223,  0.7752],\n",
      "        [-0.7199,  0.3299],\n",
      "        [ 0.5112, -0.8345],\n",
      "        [ 0.9757, -0.4504],\n",
      "        [-0.1080, -0.2963],\n",
      "        [-0.7472, -0.8512],\n",
      "        [ 0.9035, -0.1645],\n",
      "        [ 0.4097, -0.3697],\n",
      "        [-0.2107,  0.1337],\n",
      "        [ 0.0440,  0.6312],\n",
      "        [ 0.7132,  0.8287],\n",
      "        [-0.0308, -0.7740],\n",
      "        [ 0.6176, -0.3370],\n",
      "        [ 0.3489,  0.2709],\n",
      "        [-0.2263,  0.9580],\n",
      "        [ 0.5762,  0.2627],\n",
      "        [ 0.5378,  0.6097],\n",
      "        [-0.3264, -0.6389],\n",
      "        [ 0.0778, -0.8212],\n",
      "        [-0.1255, -0.0877],\n",
      "        [ 0.8981,  0.0490],\n",
      "        [-0.4511, -0.5238],\n",
      "        [ 0.2053,  0.3972],\n",
      "        [ 0.6115,  0.6517],\n",
      "        [ 0.2301, -0.1492],\n",
      "        [-0.9101,  0.2734],\n",
      "        [ 0.8397,  0.2488],\n",
      "        [-0.2648, -0.3056],\n",
      "        [ 0.8490,  0.2754],\n",
      "        [ 0.2299, -0.1314],\n",
      "        [ 0.8163,  0.0421],\n",
      "        [-0.7875, -0.6662],\n",
      "        [-0.4699,  0.6512],\n",
      "        [-0.0250, -0.7483],\n",
      "        [ 0.8818, -0.2633],\n",
      "        [ 0.1544, -0.3428],\n",
      "        [ 0.9574,  0.1673],\n",
      "        [-0.9547, -0.7696],\n",
      "        [ 0.0946,  0.6484],\n",
      "        [-0.7502, -0.6754],\n",
      "        [-0.0366,  0.4301],\n",
      "        [-0.9866,  0.6750],\n",
      "        [-0.2421, -0.8127],\n",
      "        [-0.9459,  0.9891],\n",
      "        [ 0.3690,  0.8049],\n",
      "        [-0.5302, -0.0011],\n",
      "        [ 0.7690,  0.8934],\n",
      "        [ 0.0850,  0.1472],\n",
      "        [-0.9379,  0.3437],\n",
      "        [ 0.8087, -0.3369],\n",
      "        [ 0.1244,  0.4258],\n",
      "        [-0.0819, -0.0923],\n",
      "        [-0.8011,  0.0844],\n",
      "        [ 0.2498,  0.5227],\n",
      "        [ 0.2601, -0.5288],\n",
      "        [ 0.4201,  0.8580],\n",
      "        [-0.3011, -0.0611],\n",
      "        [ 0.4068, -0.0772],\n",
      "        [ 0.6194,  0.1223],\n",
      "        [ 0.9551, -0.2275],\n",
      "        [-0.6972,  0.6333],\n",
      "        [ 0.6892,  0.8884],\n",
      "        [ 0.8537,  0.8448],\n",
      "        [-0.7792, -0.5942],\n",
      "        [ 0.7007, -0.7115],\n",
      "        [-0.1099,  0.5045],\n",
      "        [-0.4984, -0.9510],\n",
      "        [-0.6418,  0.2632],\n",
      "        [-0.5511, -0.3916],\n",
      "        [-0.5183,  0.3093],\n",
      "        [ 0.4149,  0.0003],\n",
      "        [-0.5020, -0.2723],\n",
      "        [ 0.0892, -0.1541],\n",
      "        [-0.5504, -0.7767],\n",
      "        [ 0.0405, -0.8959],\n",
      "        [ 0.9531,  0.2618],\n",
      "        [-0.1460, -0.6880],\n",
      "        [ 0.3384,  0.4184],\n",
      "        [-0.3057, -0.7610],\n",
      "        [-0.8662,  0.2146],\n",
      "        [-0.4967, -0.8381],\n",
      "        [-0.0186,  0.0906],\n",
      "        [ 0.3057, -0.8023],\n",
      "        [ 0.2184, -0.9730],\n",
      "        [-0.3291, -0.7665],\n",
      "        [ 0.0033, -0.8588],\n",
      "        [ 0.4556, -0.1923],\n",
      "        [-0.7160, -0.7146],\n",
      "        [ 0.0927,  0.1625],\n",
      "        [ 0.4291, -0.5852],\n",
      "        [-0.0252, -0.6244],\n",
      "        [-0.8097,  0.0014],\n",
      "        [-0.8535, -0.0197],\n",
      "        [-0.6942, -0.8463],\n",
      "        [ 0.0923,  0.6393],\n",
      "        [-0.5387, -0.6106],\n",
      "        [-0.1394, -0.1269],\n",
      "        [ 0.4877,  0.9086],\n",
      "        [-0.4907, -0.3191],\n",
      "        [ 0.5788,  0.0525],\n",
      "        [ 0.2223, -0.1774],\n",
      "        [-0.2570,  0.5974],\n",
      "        [ 0.2175,  0.1221],\n",
      "        [ 0.2867, -0.5361],\n",
      "        [-0.4908, -0.8332],\n",
      "        [ 0.7553,  0.5299],\n",
      "        [-0.6196, -0.3098],\n",
      "        [ 0.0480, -0.3473],\n",
      "        [ 0.6904,  0.8140],\n",
      "        [ 0.0989,  0.3960],\n",
      "        [-0.0215,  0.8346],\n",
      "        [-0.5709, -0.1803],\n",
      "        [-0.1232,  0.1077],\n",
      "        [ 0.0332,  0.3399],\n",
      "        [ 0.7800,  0.9645],\n",
      "        [-0.7764, -0.3289],\n",
      "        [ 0.7584, -0.3447],\n",
      "        [-0.6710, -0.1879],\n",
      "        [ 0.1331, -0.8288],\n",
      "        [ 0.4043,  0.4225],\n",
      "        [ 0.1675, -0.1751],\n",
      "        [-0.7184, -0.4451],\n",
      "        [-0.8916,  0.9348],\n",
      "        [-0.3240, -0.8035],\n"
     ]
    },
    {
     "name": "stdout",
     "output_type": "stream",
     "text": [
      "        [ 0.4210,  0.7316]])\n"
     ]
    }
   ],
   "source": [
    "print(t)"
   ]
  },
  {
   "cell_type": "code",
   "execution_count": 146,
   "metadata": {},
   "outputs": [
    {
     "name": "stdout",
     "output_type": "stream",
     "text": [
      "torch.Size([4, 2])\n",
      "torch.Size([400, 4])\n"
     ]
    }
   ],
   "source": [
    "print(net.SOM_layer.shape)\n",
    "print(mask.shape)"
   ]
  },
  {
   "cell_type": "code",
   "execution_count": 147,
   "metadata": {},
   "outputs": [
    {
     "data": {
      "text/plain": [
       "tensor([[0.0000, 0.0000, 0.2582, 0.0000],\n",
       "        [0.0000, 0.0000, 0.0000, 0.4229],\n",
       "        [0.5240, 0.0000, 0.0000, 0.0000],\n",
       "        ...,\n",
       "        [0.7447, 0.0000, 0.0000, 0.0000],\n",
       "        [0.0000, 0.0000, 0.7660, 0.0000],\n",
       "        [0.0000, 0.5255, 0.0000, 0.0000]], grad_fn=<ThMulBackward>)"
      ]
     },
     "execution_count": 147,
     "metadata": {},
     "output_type": "execute_result"
    }
   ],
   "source": [
    "torch.cat([(((t-w)**2).sum(-1)**0.5).unsqueeze(-1) for w in net.SOM_layer],dim=-1)*mask"
   ]
  },
  {
   "cell_type": "code",
   "execution_count": 148,
   "metadata": {},
   "outputs": [
    {
     "data": {
      "text/plain": [
       "tensor([2, 3, 0, 0, 3, 2, 3, 0, 2, 0, 0, 3, 1, 2, 2, 2, 0, 2, 0, 2, 2, 3, 2, 1,\n",
       "        0, 0, 1, 3, 1, 0, 2, 3, 3, 0, 1, 2, 0, 0, 0, 0, 1, 3, 2, 2, 2, 3, 2, 2,\n",
       "        0, 0, 2, 1, 2, 1, 1, 0, 3, 1, 0, 0, 2, 2, 3, 2, 2, 1, 2, 0, 2, 3, 2, 1,\n",
       "        2, 3, 2, 0, 1, 1, 2, 2, 2, 2, 2, 3, 3, 0, 2, 1, 3, 0, 0, 3, 2, 3, 1, 3,\n",
       "        3, 2, 1, 0, 3, 3, 0, 2, 3, 2, 1, 1, 2, 1, 2, 0, 1, 3, 0, 3, 0, 0, 3, 3,\n",
       "        1, 1, 2, 3, 0, 3, 3, 3, 3, 1, 2, 0, 2, 2, 1, 0, 3, 3, 2, 0, 2, 2, 3, 3,\n",
       "        1, 2, 1, 3, 2, 3, 2, 2, 2, 1, 2, 1, 3, 2, 1, 1, 1, 3, 0, 2, 0, 3, 0, 1,\n",
       "        0, 0, 1, 1, 2, 0, 1, 0, 1, 2, 0, 0, 1, 3, 2, 2, 3, 1, 2, 3, 0, 0, 3, 1,\n",
       "        2, 2, 1, 2, 1, 2, 0, 3, 1, 0, 2, 3, 1, 1, 2, 3, 0, 2, 2, 1, 2, 1, 2, 3,\n",
       "        2, 2, 1, 1, 2, 3, 3, 3, 2, 1, 1, 3, 0, 2, 0, 3, 3, 0, 3, 3, 0, 2, 1, 0,\n",
       "        2, 0, 3, 0, 2, 0, 3, 0, 2, 2, 3, 2, 3, 2, 3, 2, 3, 3, 1, 3, 0, 3, 1, 0,\n",
       "        3, 3, 3, 0, 0, 2, 0, 2, 1, 2, 0, 0, 2, 3, 3, 2, 2, 1, 3, 2, 0, 1, 3, 3,\n",
       "        1, 0, 1, 1, 2, 3, 2, 1, 2, 0, 1, 3, 2, 1, 2, 1, 3, 1, 2, 0, 3, 3, 3, 1,\n",
       "        2, 0, 2, 0, 0, 3, 0, 0, 2, 1, 0, 2, 3, 0, 2, 2, 0, 3, 0, 2, 3, 1, 3, 0,\n",
       "        1, 1, 2, 3, 0, 2, 2, 2, 2, 1, 2, 3, 2, 3, 1, 3, 1, 2, 2, 2, 2, 3, 3, 2,\n",
       "        3, 3, 2, 0, 3, 3, 2, 2, 2, 0, 2, 2, 1, 2, 1, 3, 0, 1, 3, 2, 1, 2, 3, 1,\n",
       "        0, 0, 2, 2, 0, 1, 2, 3, 2, 3, 1, 3, 2, 0, 2, 1])"
      ]
     },
     "execution_count": 148,
     "metadata": {},
     "output_type": "execute_result"
    }
   ],
   "source": [
    "index"
   ]
  },
  {
   "cell_type": "code",
   "execution_count": 149,
   "metadata": {},
   "outputs": [],
   "source": [
    "distance = [(((t-w)**2).sum(-1)**0.5).unsqueeze(-1) for w in net.SOM_layer]\n",
    "distance = torch.cat(distance,dim=-1)\n",
    "_, index = distance.min(dim=1)"
   ]
  },
  {
   "cell_type": "code",
   "execution_count": 150,
   "metadata": {},
   "outputs": [
    {
     "data": {
      "text/plain": [
       "tensor([2, 3, 0, 0, 3, 2, 3, 0, 2, 0, 0, 3, 1, 2, 2, 2, 0, 2, 0, 2, 2, 3, 2, 1,\n",
       "        0, 0, 1, 3, 1, 0, 2, 3, 3, 0, 1, 2, 0, 0, 0, 0, 1, 3, 2, 2, 2, 3, 2, 2,\n",
       "        0, 0, 2, 1, 2, 1, 1, 0, 3, 1, 0, 0, 2, 2, 3, 2, 2, 1, 2, 0, 2, 3, 2, 1,\n",
       "        2, 3, 2, 0, 1, 1, 2, 2, 2, 2, 2, 3, 3, 0, 2, 1, 3, 0, 0, 3, 2, 3, 1, 3,\n",
       "        3, 2, 1, 0, 3, 3, 0, 2, 3, 2, 1, 1, 2, 1, 2, 0, 1, 3, 0, 3, 0, 0, 3, 3,\n",
       "        1, 1, 2, 3, 0, 3, 3, 3, 3, 1, 2, 0, 2, 2, 1, 0, 3, 3, 2, 0, 2, 2, 3, 3,\n",
       "        1, 2, 1, 3, 2, 3, 2, 2, 2, 1, 2, 1, 3, 2, 1, 1, 1, 3, 0, 2, 0, 3, 0, 1,\n",
       "        0, 0, 1, 1, 2, 0, 1, 0, 1, 2, 0, 0, 1, 3, 2, 2, 3, 1, 2, 3, 0, 0, 3, 1,\n",
       "        2, 2, 1, 2, 1, 2, 0, 3, 1, 0, 2, 3, 1, 1, 2, 3, 0, 2, 2, 1, 2, 1, 2, 3,\n",
       "        2, 2, 1, 1, 2, 3, 3, 3, 2, 1, 1, 3, 0, 2, 0, 3, 3, 0, 3, 3, 0, 2, 1, 0,\n",
       "        2, 0, 3, 0, 2, 0, 3, 0, 2, 2, 3, 2, 3, 2, 3, 2, 3, 3, 1, 3, 0, 3, 1, 0,\n",
       "        3, 3, 3, 0, 0, 2, 0, 2, 1, 2, 0, 0, 2, 3, 3, 2, 2, 1, 3, 2, 0, 1, 3, 3,\n",
       "        1, 0, 1, 1, 2, 3, 2, 1, 2, 0, 1, 3, 2, 1, 2, 1, 3, 1, 2, 0, 3, 3, 3, 1,\n",
       "        2, 0, 2, 0, 0, 3, 0, 0, 2, 1, 0, 2, 3, 0, 2, 2, 0, 3, 0, 2, 3, 1, 3, 0,\n",
       "        1, 1, 2, 3, 0, 2, 2, 2, 2, 1, 2, 3, 2, 3, 1, 3, 1, 2, 2, 2, 2, 3, 3, 2,\n",
       "        3, 3, 2, 0, 3, 3, 2, 2, 2, 0, 2, 2, 1, 2, 1, 3, 0, 1, 3, 2, 1, 2, 3, 1,\n",
       "        0, 0, 2, 2, 0, 1, 2, 3, 2, 3, 1, 3, 2, 0, 2, 1])"
      ]
     },
     "execution_count": 150,
     "metadata": {},
     "output_type": "execute_result"
    }
   ],
   "source": [
    "index"
   ]
  },
  {
   "cell_type": "code",
   "execution_count": 151,
   "metadata": {},
   "outputs": [
    {
     "data": {
      "text/plain": [
       "400"
      ]
     },
     "execution_count": 151,
     "metadata": {},
     "output_type": "execute_result"
    }
   ],
   "source": [
    "y.shape[0]"
   ]
  },
  {
   "cell_type": "markdown",
   "metadata": {},
   "source": [
    "可以看到这里，基本上是0->4,2->1,3->3,1->2\n",
    "的聚类结果"
   ]
  },
  {
   "cell_type": "code",
   "execution_count": 153,
   "metadata": {},
   "outputs": [
    {
     "data": {
      "image/png": "[encoded data removed]",
      "text/plain": [
       "<Figure size 432x288 with 1 Axes>"
      ]
     },
     "metadata": {
      "needs_background": "light"
     },
     "output_type": "display_data"
    }
   ],
   "source": [
    "import matplotlib.pyplot as plt\n",
    "for i in range(y.shape[0]):\n",
    "    if index[i] == 0:\n",
    "        plt.plot(x[i,0],x[i,1],'b.')\n",
    "    elif index[i] == 1:\n",
    "        plt.plot(x[i,0],x[i,1],'r.')\n",
    "    elif index[i] == 2:\n",
    "        plt.plot(x[i,0],x[i,1],'g.')\n",
    "    else:\n",
    "        plt.plot(x[i,0],x[i,1],'k.')\n",
    "plt.show()"
   ]
  },
  {
   "cell_type": "code",
   "execution_count": null,
   "metadata": {},
   "outputs": [],
   "source": []
  }
 ],
 "metadata": {
  "kernelspec": {
   "display_name": "Python 3",
   "language": "python",
   "name": "python3"
  },
  "language_info": {
   "codemirror_mode": {
    "name": "ipython",
    "version": 3
   },
   "file_extension": ".py",
   "mimetype": "text/x-python",
   "name": "python",
   "nbconvert_exporter": "python",
   "pygments_lexer": "ipython3",
   "version": "3.7.0"
  }
 },
 "nbformat": 4,
 "nbformat_minor": 2
}
