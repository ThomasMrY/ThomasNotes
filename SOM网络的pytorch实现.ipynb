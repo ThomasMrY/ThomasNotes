{
 "cells": [
  {
   "cell_type": "code",
   "execution_count": 137,
   "metadata": {},
   "outputs": [],
   "source": [
    "#SOM网络pytorch实现\n",
    "import numpy as np\n",
    "c1 = np.array([1,1])\n",
    "c2 = np.array([-1,-1])\n",
    "c3 = np.array([1,-1])\n",
    "c4 = np.array([-1,1])"
   ]
  },
  {
   "cell_type": "code",
   "execution_count": 138,
   "metadata": {},
   "outputs": [],
   "source": [
    "x1 = c1 + np.random.random_sample([100,2])-1\n",
    "x2 = c2 + np.random.random_sample([100,2])\n",
    "x3 = c3 + np.random.random_sample([100,2])-1\n",
    "x4 = c4 + np.random.random_sample([100,2])-1\n",
    "x3[:,1] = x3[:,1] + 1\n",
    "x4[:,0] = x4[:,0] + 1"
   ]
  },
  {
   "cell_type": "code",
   "execution_count": 139,
   "metadata": {},
   "outputs": [
    {
     "data": {
      "image/png": "[encoded data removed]",
      "text/plain": [
       "<Figure size 432x288 with 1 Axes>"
      ]
     },
     "metadata": {
      "needs_background": "light"
     },
     "output_type": "display_data"
    }
   ],
   "source": [
    "import matplotlib.pyplot as plt\n",
    "plt.plot(x1[:,0],x1[:,1],'b.')\n",
    "plt.plot(x2[:,0],x2[:,1],'r.')\n",
    "plt.plot(x3[:,0],x3[:,1],'g.')\n",
    "plt.plot(x4[:,0],x4[:,1],'k.')\n",
    "plt.show()"
   ]
  },
  {
   "cell_type": "code",
   "execution_count": 140,
   "metadata": {},
   "outputs": [],
   "source": [
    "x = np.concatenate((x1,x2,x3,x4))\n",
    "label = np.concatenate((np.array([1]*100),np.array([2]*100),np.array([3]*100),np.array([4]*100)))"
   ]
  },
  {
   "cell_type": "code",
   "execution_count": 141,
   "metadata": {},
   "outputs": [
    {
     "name": "stdout",
     "output_type": "stream",
     "text": [
      "(400, 2)\n",
      "(400,)\n"
     ]
    }
   ],
   "source": [
    "print(x.shape)\n",
    "print(label.shape)"
   ]
  },
  {
   "cell_type": "code",
   "execution_count": 142,
   "metadata": {},
   "outputs": [],
   "source": [
    "rng_state = np.random.get_state()\n",
    "np.random.shuffle(x)\n",
    "np.random.set_state(rng_state)\n",
    "np.random.shuffle(label)"
   ]
  },
  {
   "cell_type": "code",
   "execution_count": 143,
   "metadata": {},
   "outputs": [
    {
     "name": "stdout",
     "output_type": "stream",
     "text": [
      "tensor([-0.5811,  0.4649])\n"
     ]
    }
   ],
   "source": [
    "import torch\n",
    "import torch.nn as nn\n",
    "x = torch.FloatTensor(x)\n",
    "y = torch.tensor(label)\n",
    "print(x[1])"
   ]
  },
  {
   "cell_type": "code",
   "execution_count": 233,
   "metadata": {},
   "outputs": [],
   "source": [
    "def kaiming_init(m):\n",
    "    if isinstance(m, (nn.Linear, nn.Conv2d)):\n",
    "        init.kaiming_normal(m.weight)\n",
    "        if m.bias is not None:\n",
    "            m.bias.data.fill_(0)\n",
    "    elif isinstance(m, (nn.BatchNorm1d, nn.BatchNorm2d)):\n",
    "        m.weight.data.fill_(1)\n",
    "        if m.bias is not None:\n",
    "            m.bias.data.fill_(0)\n",
    "def normal_init(m, mean, std):\n",
    "    if isinstance(m, (nn.Linear, nn.Conv2d)):\n",
    "        m.weight.data.normal_(mean, std)\n",
    "        if m.bias.data is not None:\n",
    "            m.bias.data.zero_()\n",
    "    elif isinstance(m, (nn.BatchNorm2d, nn.BatchNorm1d)):\n",
    "        m.weight.data.fill_(1)\n",
    "        if m.bias.data is not None:\n",
    "            m.bias.data.zero_()"
   ]
  },
  {
   "cell_type": "code",
   "execution_count": 248,
   "metadata": {},
   "outputs": [],
   "source": [
    "class SOM(nn.Module):\n",
    "    \"\"\"Model proposed in understanding beta-VAE paper(Burgess et al, arxiv:1804.03599, 2018).\"\"\"\n",
    "\n",
    "    def __init__(self):\n",
    "        super(SOM, self).__init__()\n",
    "        self.SOM_layer = nn.Parameter(torch.Tensor(4, 2))\n",
    "        self.weight_init()\n",
    "\n",
    "    def weight_init(self):\n",
    "        for w in self.SOM_layer:\n",
    "            kaiming_init(w)\n",
    "    def forward(self, x, y = None):\n",
    "        distance = [(((x-w)**2).sum(-1)**0.5).unsqueeze(-1) for w in self.SOM_layer]\n",
    "        distance = torch.cat(distance,dim=-1)\n",
    "        if y is None:\n",
    "            _, index = distance.min(dim=1)\n",
    "        else:\n",
    "            index = y-1\n",
    "        mask = Variable(torch.eye(4).index_select(dim=0, index=index.data))\n",
    "\n",
    "        return mask, index"
   ]
  },
  {
   "cell_type": "code",
   "execution_count": 249,
   "metadata": {},
   "outputs": [],
   "source": [
    "from torch.utils.data import Dataset, DataLoader\n",
    "class CustomTensorDataset(Dataset):\n",
    "    def __init__(self, data_tensor, label_tensor):\n",
    "        self.data_tensor = data_tensor\n",
    "        self.label_tensor = label_tensor\n",
    "\n",
    "    def __getitem__(self, index):\n",
    "        return self.data_tensor[index],self.label_tensor[index]\n",
    "\n",
    "    def __len__(self):\n",
    "        return self.data_tensor.size(0)\n",
    "def return_data(it):\n",
    "    return x[10*(it-1):it*10,:],y[10*(it-1):it*10]"
   ]
  },
  {
   "cell_type": "code",
   "execution_count": 291,
   "metadata": {},
   "outputs": [],
   "source": [
    "from tqdm import tqdm\n",
    "from torch.autograd import Variable\n",
    "import torch.optim as optim\n",
    "net = SOM()\n",
    "\n",
    "def train():\n",
    "    optimizer = optim.Adam(net.parameters(), lr=10e-4,\n",
    "                                    betas=(0.9, 0.99))\n",
    "    print(\"training start!!!\")\n",
    "    global_iter = 0\n",
    "    it = 1\n",
    "    pbar = tqdm(total=1000)\n",
    "    pbar.update(global_iter)\n",
    "    for i in range(1000):\n",
    "        x_,y = return_data(it)\n",
    "        pbar.update(1)\n",
    "        if it == 10:\n",
    "            it = 1\n",
    "        else:\n",
    "            it += 1\n",
    "        global_iter += 1\n",
    "        x_ = Variable(x_)\n",
    "        y = Variable(y)\n",
    "        mask, index = net(x_)\n",
    "        cluster_loss = (torch.cat([(((x_-w)**2).sum(-1)).unsqueeze(-1) for w in net.SOM_layer],dim=-1)*mask).sum(1).mean(0)\n",
    "        optimizer.zero_grad()\n",
    "        cluster_loss.backward()\n",
    "        optimizer.step()\n",
    "        print(cluster_loss)\n",
    "    pbar.close()"
   ]
  },
  {
   "cell_type": "code",
   "execution_count": 292,
   "metadata": {},
   "outputs": [
    {
     "data": {
      "text/plain": [
       "torch.Size([400, 2])"
      ]
     },
     "execution_count": 292,
     "metadata": {},
     "output_type": "execute_result"
    }
   ],
   "source": [
    "x.shape"
   ]
  },
  {
   "cell_type": "code",
   "execution_count": 293,
   "metadata": {},
   "outputs": [
    {
     "name": "stdout",
     "output_type": "stream",
     "text": [
      "training start!!!\n"
     ]
    },
    {
     "name": "stderr",
     "output_type": "stream",
     "text": [
      "\n",
      "\n",
      "\n",
      "  0%|                                                                                         | 0/1000 [00:00<?, ?it/s]"
     ]
    },
    {
     "name": "stdout",
     "output_type": "stream",
     "text": [
      "tensor(0.6953, grad_fn=<MeanBackward0>)\n",
      "tensor(0.4729, grad_fn=<MeanBackward0>)\n",
      "tensor(0.5899, grad_fn=<MeanBackward0>)\n",
      "tensor(0.5825, grad_fn=<MeanBackward0>)\n",
      "tensor(0.8157, grad_fn=<MeanBackward0>)\n",
      "tensor(0.7139, grad_fn=<MeanBackward0>)\n",
      "tensor(0.6628, grad_fn=<MeanBackward0>)\n",
      "tensor(0.7327, grad_fn=<MeanBackward0>)\n",
      "tensor(0.6580, grad_fn=<MeanBackward0>)\n",
      "tensor(0.9650, grad_fn=<MeanBackward0>)\n",
      "tensor(0.6827, grad_fn=<MeanBackward0>)\n",
      "tensor(0.4593, grad_fn=<MeanBackward0>)\n",
      "tensor(0.5801, grad_fn=<MeanBackward0>)\n",
      "tensor(0.5731, grad_fn=<MeanBackward0>)\n",
      "tensor(0.8023, grad_fn=<MeanBackward0>)\n",
      "tensor(0.7035, grad_fn=<MeanBackward0>)\n",
      "tensor(0.6502, grad_fn=<MeanBackward0>)\n",
      "tensor(0.7218, grad_fn=<MeanBackward0>)\n",
      "tensor(0.6467, grad_fn=<MeanBackward0>)\n",
      "tensor(0.9534, grad_fn=<MeanBackward0>)\n",
      "tensor(0.6698, grad_fn=<MeanBackward0>)\n",
      "tensor(0.4460, grad_fn=<MeanBackward0>)\n",
      "tensor(0.5692, grad_fn=<MeanBackward0>)\n",
      "tensor(0.5630, grad_fn=<MeanBackward0>)\n",
      "tensor(0.7888, grad_fn=<MeanBackward0>)\n",
      "tensor(0.6927, grad_fn=<MeanBackward0>)\n",
      "tensor(0.6376, grad_fn=<MeanBackward0>)\n",
      "tensor(0.7111, grad_fn=<MeanBackward0>)\n",
      "tensor(0.6328, grad_fn=<MeanBackward0>)\n",
      "tensor(0.9401, grad_fn=<MeanBackward0>)\n",
      "tensor(0.6572, grad_fn=<MeanBackward0>)\n",
      "tensor(0.4334, grad_fn=<MeanBackward0>)\n",
      "tensor(0.5566, grad_fn=<MeanBackward0>)\n"
     ]
    },
    {
     "name": "stderr",
     "output_type": "stream",
     "text": [
      "\n",
      "\n",
      "\n",
      "  3%|██▋                                                                            | 34/1000 [00:00<00:02, 339.10it/s]"
     ]
    },
    {
     "name": "stdout",
     "output_type": "stream",
     "text": [
      "tensor(0.5525, grad_fn=<MeanBackward0>)\n",
      "tensor(0.7742, grad_fn=<MeanBackward0>)\n",
      "tensor(0.6808, grad_fn=<MeanBackward0>)\n",
      "tensor(0.6247, grad_fn=<MeanBackward0>)\n",
      "tensor(0.7003, grad_fn=<MeanBackward0>)\n",
      "tensor(0.6176, grad_fn=<MeanBackward0>)\n",
      "tensor(0.9263, grad_fn=<MeanBackward0>)\n",
      "tensor(0.6449, grad_fn=<MeanBackward0>)\n",
      "tensor(0.4214, grad_fn=<MeanBackward0>)\n",
      "tensor(0.5435, grad_fn=<MeanBackward0>)\n",
      "tensor(0.5418, grad_fn=<MeanBackward0>)\n",
      "tensor(0.7593, grad_fn=<MeanBackward0>)\n",
      "tensor(0.6679, grad_fn=<MeanBackward0>)\n",
      "tensor(0.6120, grad_fn=<MeanBackward0>)\n",
      "tensor(0.6898, grad_fn=<MeanBackward0>)\n",
      "tensor(0.6024, grad_fn=<MeanBackward0>)\n",
      "tensor(0.9119, grad_fn=<MeanBackward0>)\n",
      "tensor(0.6319, grad_fn=<MeanBackward0>)\n",
      "tensor(0.4100, grad_fn=<MeanBackward0>)\n",
      "tensor(0.5296, grad_fn=<MeanBackward0>)\n",
      "tensor(0.5312, grad_fn=<MeanBackward0>)\n",
      "tensor(0.7446, grad_fn=<MeanBackward0>)\n",
      "tensor(0.6551, grad_fn=<MeanBackward0>)\n",
      "tensor(0.5996, grad_fn=<MeanBackward0>)\n",
      "tensor(0.6786, grad_fn=<MeanBackward0>)\n",
      "tensor(0.5877, grad_fn=<MeanBackward0>)\n",
      "tensor(0.8973, grad_fn=<MeanBackward0>)\n",
      "tensor(0.6192, grad_fn=<MeanBackward0>)\n",
      "tensor(0.3993, grad_fn=<MeanBackward0>)\n"
     ]
    },
    {
     "name": "stderr",
     "output_type": "stream",
     "text": [
      "\n",
      "\n",
      "\n",
      "  6%|████▉                                                                          | 63/1000 [00:00<00:02, 320.81it/s]"
     ]
    },
    {
     "name": "stdout",
     "output_type": "stream",
     "text": [
      "tensor(0.5161, grad_fn=<MeanBackward0>)\n",
      "tensor(0.5208, grad_fn=<MeanBackward0>)\n",
      "tensor(0.7304, grad_fn=<MeanBackward0>)\n",
      "tensor(0.6422, grad_fn=<MeanBackward0>)\n",
      "tensor(0.5873, grad_fn=<MeanBackward0>)\n",
      "tensor(0.6661, grad_fn=<MeanBackward0>)\n",
      "tensor(0.5737, grad_fn=<MeanBackward0>)\n",
      "tensor(0.8817, grad_fn=<MeanBackward0>)\n",
      "tensor(0.6071, grad_fn=<MeanBackward0>)\n",
      "tensor(0.3895, grad_fn=<MeanBackward0>)\n",
      "tensor(0.5032, grad_fn=<MeanBackward0>)\n",
      "tensor(0.5100, grad_fn=<MeanBackward0>)\n",
      "tensor(0.7165, grad_fn=<MeanBackward0>)\n",
      "tensor(0.6294, grad_fn=<MeanBackward0>)\n",
      "tensor(0.5752, grad_fn=<MeanBackward0>)\n",
      "tensor(0.6539, grad_fn=<MeanBackward0>)\n",
      "tensor(0.5604, grad_fn=<MeanBackward0>)\n",
      "tensor(0.8666, grad_fn=<MeanBackward0>)\n",
      "tensor(0.5953, grad_fn=<MeanBackward0>)\n",
      "tensor(0.3802, grad_fn=<MeanBackward0>)\n",
      "tensor(0.4910, grad_fn=<MeanBackward0>)\n",
      "tensor(0.4995, grad_fn=<MeanBackward0>)\n",
      "tensor(0.7031, grad_fn=<MeanBackward0>)\n",
      "tensor(0.6170, grad_fn=<MeanBackward0>)\n",
      "tensor(0.5635, grad_fn=<MeanBackward0>)\n",
      "tensor(0.6420, grad_fn=<MeanBackward0>)\n",
      "tensor(0.5477, grad_fn=<MeanBackward0>)\n",
      "tensor(0.8520, grad_fn=<MeanBackward0>)\n",
      "tensor(0.5837, grad_fn=<MeanBackward0>)\n",
      "tensor(0.3714, grad_fn=<MeanBackward0>)\n",
      "tensor(0.4788, grad_fn=<MeanBackward0>)\n"
     ]
    },
    {
     "name": "stderr",
     "output_type": "stream",
     "text": [
      "\n",
      "\n",
      "\n",
      "  9%|███████▍                                                                       | 94/1000 [00:00<00:02, 312.90it/s]"
     ]
    },
    {
     "name": "stdout",
     "output_type": "stream",
     "text": [
      "tensor(0.4893, grad_fn=<MeanBackward0>)\n",
      "tensor(0.6901, grad_fn=<MeanBackward0>)\n",
      "tensor(0.6051, grad_fn=<MeanBackward0>)\n",
      "tensor(0.5522, grad_fn=<MeanBackward0>)\n",
      "tensor(0.6304, grad_fn=<MeanBackward0>)\n",
      "tensor(0.5356, grad_fn=<MeanBackward0>)\n",
      "tensor(0.8379, grad_fn=<MeanBackward0>)\n",
      "tensor(0.5723, grad_fn=<MeanBackward0>)\n",
      "tensor(0.3628, grad_fn=<MeanBackward0>)\n",
      "tensor(0.4670, grad_fn=<MeanBackward0>)\n",
      "tensor(0.4795, grad_fn=<MeanBackward0>)\n",
      "tensor(0.6775, grad_fn=<MeanBackward0>)\n",
      "tensor(0.5935, grad_fn=<MeanBackward0>)\n",
      "tensor(0.5413, grad_fn=<MeanBackward0>)\n",
      "tensor(0.6192, grad_fn=<MeanBackward0>)\n",
      "tensor(0.5240, grad_fn=<MeanBackward0>)\n",
      "tensor(0.8244, grad_fn=<MeanBackward0>)\n",
      "tensor(0.5613, grad_fn=<MeanBackward0>)\n",
      "tensor(0.3545, grad_fn=<MeanBackward0>)\n",
      "tensor(0.4557, grad_fn=<MeanBackward0>)\n",
      "tensor(0.4701, grad_fn=<MeanBackward0>)\n",
      "tensor(0.6653, grad_fn=<MeanBackward0>)\n",
      "tensor(0.5824, grad_fn=<MeanBackward0>)\n",
      "tensor(0.5308, grad_fn=<MeanBackward0>)\n",
      "tensor(0.6084, grad_fn=<MeanBackward0>)\n",
      "tensor(0.5129, grad_fn=<MeanBackward0>)\n",
      "tensor(0.8113, grad_fn=<MeanBackward0>)\n",
      "tensor(0.5506, grad_fn=<MeanBackward0>)\n"
     ]
    },
    {
     "name": "stderr",
     "output_type": "stream",
     "text": [
      "\n",
      "\n",
      "\n",
      " 12%|█████████▌                                                                    | 122/1000 [00:00<00:02, 301.01it/s]"
     ]
    },
    {
     "name": "stdout",
     "output_type": "stream",
     "text": [
      "tensor(0.3465, grad_fn=<MeanBackward0>)\n",
      "tensor(0.4449, grad_fn=<MeanBackward0>)\n",
      "tensor(0.4610, grad_fn=<MeanBackward0>)\n",
      "tensor(0.6534, grad_fn=<MeanBackward0>)\n",
      "tensor(0.5717, grad_fn=<MeanBackward0>)\n",
      "tensor(0.5206, grad_fn=<MeanBackward0>)\n",
      "tensor(0.5974, grad_fn=<MeanBackward0>)\n",
      "tensor(0.5022, grad_fn=<MeanBackward0>)\n",
      "tensor(0.7987, grad_fn=<MeanBackward0>)\n",
      "tensor(0.5404, grad_fn=<MeanBackward0>)\n",
      "tensor(0.3388, grad_fn=<MeanBackward0>)\n",
      "tensor(0.4346, grad_fn=<MeanBackward0>)\n",
      "tensor(0.4521, grad_fn=<MeanBackward0>)\n",
      "tensor(0.6418, grad_fn=<MeanBackward0>)\n",
      "tensor(0.5612, grad_fn=<MeanBackward0>)\n",
      "tensor(0.5105, grad_fn=<MeanBackward0>)\n",
      "tensor(0.5867, grad_fn=<MeanBackward0>)\n",
      "tensor(0.4919, grad_fn=<MeanBackward0>)\n",
      "tensor(0.7864, grad_fn=<MeanBackward0>)\n",
      "tensor(0.5305, grad_fn=<MeanBackward0>)\n",
      "tensor(0.3315, grad_fn=<MeanBackward0>)\n",
      "tensor(0.4249, grad_fn=<MeanBackward0>)\n",
      "tensor(0.4434, grad_fn=<MeanBackward0>)\n",
      "tensor(0.6306, grad_fn=<MeanBackward0>)\n",
      "tensor(0.5509, grad_fn=<MeanBackward0>)\n",
      "tensor(0.5006, grad_fn=<MeanBackward0>)\n",
      "tensor(0.5762, grad_fn=<MeanBackward0>)\n",
      "tensor(0.4819, grad_fn=<MeanBackward0>)\n",
      "tensor(0.7744, grad_fn=<MeanBackward0>)\n"
     ]
    },
    {
     "name": "stderr",
     "output_type": "stream",
     "text": [
      "\n",
      "\n",
      "\n",
      " 15%|███████████▊                                                                  | 151/1000 [00:00<00:02, 295.10it/s]"
     ]
    },
    {
     "name": "stdout",
     "output_type": "stream",
     "text": [
      "tensor(0.5209, grad_fn=<MeanBackward0>)\n",
      "tensor(0.3244, grad_fn=<MeanBackward0>)\n",
      "tensor(0.4155, grad_fn=<MeanBackward0>)\n",
      "tensor(0.4349, grad_fn=<MeanBackward0>)\n",
      "tensor(0.6196, grad_fn=<MeanBackward0>)\n",
      "tensor(0.5410, grad_fn=<MeanBackward0>)\n",
      "tensor(0.4911, grad_fn=<MeanBackward0>)\n",
      "tensor(0.5660, grad_fn=<MeanBackward0>)\n",
      "tensor(0.4723, grad_fn=<MeanBackward0>)\n",
      "tensor(0.7628, grad_fn=<MeanBackward0>)\n",
      "tensor(0.5116, grad_fn=<MeanBackward0>)\n",
      "tensor(0.3176, grad_fn=<MeanBackward0>)\n",
      "tensor(0.4062, grad_fn=<MeanBackward0>)\n",
      "tensor(0.4263, grad_fn=<MeanBackward0>)\n",
      "tensor(0.6089, grad_fn=<MeanBackward0>)\n",
      "tensor(0.5313, grad_fn=<MeanBackward0>)\n",
      "tensor(0.4817, grad_fn=<MeanBackward0>)\n",
      "tensor(0.5561, grad_fn=<MeanBackward0>)\n",
      "tensor(0.4629, grad_fn=<MeanBackward0>)\n",
      "tensor(0.7515, grad_fn=<MeanBackward0>)\n",
      "tensor(0.5024, grad_fn=<MeanBackward0>)\n",
      "tensor(0.3110, grad_fn=<MeanBackward0>)\n",
      "tensor(0.3972, grad_fn=<MeanBackward0>)\n",
      "tensor(0.4177, grad_fn=<MeanBackward0>)\n",
      "tensor(0.5985, grad_fn=<MeanBackward0>)\n",
      "tensor(0.5214, grad_fn=<MeanBackward0>)\n",
      "tensor(0.4726, grad_fn=<MeanBackward0>)\n",
      "tensor(0.5463, grad_fn=<MeanBackward0>)\n",
      "tensor(0.4540, grad_fn=<MeanBackward0>)\n",
      "tensor(0.7402, grad_fn=<MeanBackward0>)\n",
      "tensor(0.4934, grad_fn=<MeanBackward0>)\n"
     ]
    },
    {
     "name": "stderr",
     "output_type": "stream",
     "text": [
      "\n",
      "\n",
      "\n",
      " 18%|██████████████▏                                                               | 182/1000 [00:00<00:02, 299.19it/s]"
     ]
    },
    {
     "name": "stdout",
     "output_type": "stream",
     "text": [
      "tensor(0.3048, grad_fn=<MeanBackward0>)\n",
      "tensor(0.3886, grad_fn=<MeanBackward0>)\n",
      "tensor(0.4091, grad_fn=<MeanBackward0>)\n",
      "tensor(0.5884, grad_fn=<MeanBackward0>)\n",
      "tensor(0.5112, grad_fn=<MeanBackward0>)\n",
      "tensor(0.4637, grad_fn=<MeanBackward0>)\n",
      "tensor(0.5365, grad_fn=<MeanBackward0>)\n",
      "tensor(0.4453, grad_fn=<MeanBackward0>)\n",
      "tensor(0.7291, grad_fn=<MeanBackward0>)\n",
      "tensor(0.4847, grad_fn=<MeanBackward0>)\n",
      "tensor(0.2990, grad_fn=<MeanBackward0>)\n",
      "tensor(0.3804, grad_fn=<MeanBackward0>)\n",
      "tensor(0.4008, grad_fn=<MeanBackward0>)\n",
      "tensor(0.5787, grad_fn=<MeanBackward0>)\n",
      "tensor(0.5012, grad_fn=<MeanBackward0>)\n",
      "tensor(0.4550, grad_fn=<MeanBackward0>)\n",
      "tensor(0.5269, grad_fn=<MeanBackward0>)\n",
      "tensor(0.4368, grad_fn=<MeanBackward0>)\n",
      "tensor(0.7181, grad_fn=<MeanBackward0>)\n",
      "tensor(0.4763, grad_fn=<MeanBackward0>)\n",
      "tensor(0.2929, grad_fn=<MeanBackward0>)\n",
      "tensor(0.3727, grad_fn=<MeanBackward0>)\n",
      "tensor(0.3926, grad_fn=<MeanBackward0>)\n",
      "tensor(0.5692, grad_fn=<MeanBackward0>)\n",
      "tensor(0.4912, grad_fn=<MeanBackward0>)\n",
      "tensor(0.4466, grad_fn=<MeanBackward0>)\n",
      "tensor(0.5173, grad_fn=<MeanBackward0>)\n",
      "tensor(0.4286, grad_fn=<MeanBackward0>)\n",
      "tensor(0.7073, grad_fn=<MeanBackward0>)\n"
     ]
    },
    {
     "name": "stderr",
     "output_type": "stream",
     "text": [
      "\n",
      "\n",
      "\n",
      " 21%|████████████████▍                                                             | 211/1000 [00:00<00:02, 293.87it/s]"
     ]
    },
    {
     "name": "stdout",
     "output_type": "stream",
     "text": [
      "tensor(0.4681, grad_fn=<MeanBackward0>)\n",
      "tensor(0.2869, grad_fn=<MeanBackward0>)\n",
      "tensor(0.3653, grad_fn=<MeanBackward0>)\n",
      "tensor(0.3845, grad_fn=<MeanBackward0>)\n",
      "tensor(0.5601, grad_fn=<MeanBackward0>)\n",
      "tensor(0.4813, grad_fn=<MeanBackward0>)\n",
      "tensor(0.4383, grad_fn=<MeanBackward0>)\n",
      "tensor(0.5079, grad_fn=<MeanBackward0>)\n",
      "tensor(0.4207, grad_fn=<MeanBackward0>)\n",
      "tensor(0.6968, grad_fn=<MeanBackward0>)\n",
      "tensor(0.4602, grad_fn=<MeanBackward0>)\n",
      "tensor(0.2811, grad_fn=<MeanBackward0>)\n",
      "tensor(0.3583, grad_fn=<MeanBackward0>)\n",
      "tensor(0.3767, grad_fn=<MeanBackward0>)\n",
      "tensor(0.5513, grad_fn=<MeanBackward0>)\n",
      "tensor(0.4716, grad_fn=<MeanBackward0>)\n",
      "tensor(0.4303, grad_fn=<MeanBackward0>)\n",
      "tensor(0.4988, grad_fn=<MeanBackward0>)\n",
      "tensor(0.4131, grad_fn=<MeanBackward0>)\n",
      "tensor(0.6865, grad_fn=<MeanBackward0>)\n",
      "tensor(0.4526, grad_fn=<MeanBackward0>)\n",
      "tensor(0.2755, grad_fn=<MeanBackward0>)\n",
      "tensor(0.3515, grad_fn=<MeanBackward0>)\n",
      "tensor(0.3691, grad_fn=<MeanBackward0>)\n",
      "tensor(0.5427, grad_fn=<MeanBackward0>)\n",
      "tensor(0.4622, grad_fn=<MeanBackward0>)\n",
      "tensor(0.4226, grad_fn=<MeanBackward0>)\n",
      "tensor(0.4900, grad_fn=<MeanBackward0>)\n",
      "tensor(0.4057, grad_fn=<MeanBackward0>)\n",
      "tensor(0.6765, grad_fn=<MeanBackward0>)\n",
      "tensor(0.4453, grad_fn=<MeanBackward0>)\n",
      "tensor(0.2702, grad_fn=<MeanBackward0>)\n",
      "tensor(0.3450, grad_fn=<MeanBackward0>)\n"
     ]
    },
    {
     "name": "stderr",
     "output_type": "stream",
     "text": [
      "\n",
      "\n",
      "\n",
      " 24%|███████████████████                                                           | 244/1000 [00:00<00:02, 303.21it/s]"
     ]
    },
    {
     "name": "stdout",
     "output_type": "stream",
     "text": [
      "tensor(0.3617, grad_fn=<MeanBackward0>)\n",
      "tensor(0.5344, grad_fn=<MeanBackward0>)\n",
      "tensor(0.4531, grad_fn=<MeanBackward0>)\n",
      "tensor(0.4151, grad_fn=<MeanBackward0>)\n",
      "tensor(0.4814, grad_fn=<MeanBackward0>)\n",
      "tensor(0.3986, grad_fn=<MeanBackward0>)\n",
      "tensor(0.6669, grad_fn=<MeanBackward0>)\n",
      "tensor(0.4382, grad_fn=<MeanBackward0>)\n",
      "tensor(0.2651, grad_fn=<MeanBackward0>)\n",
      "tensor(0.3387, grad_fn=<MeanBackward0>)\n",
      "tensor(0.3545, grad_fn=<MeanBackward0>)\n",
      "tensor(0.5263, grad_fn=<MeanBackward0>)\n",
      "tensor(0.4443, grad_fn=<MeanBackward0>)\n",
      "tensor(0.4079, grad_fn=<MeanBackward0>)\n",
      "tensor(0.4732, grad_fn=<MeanBackward0>)\n",
      "tensor(0.3918, grad_fn=<MeanBackward0>)\n",
      "tensor(0.6575, grad_fn=<MeanBackward0>)\n",
      "tensor(0.4313, grad_fn=<MeanBackward0>)\n",
      "tensor(0.2602, grad_fn=<MeanBackward0>)\n",
      "tensor(0.3326, grad_fn=<MeanBackward0>)\n",
      "tensor(0.3476, grad_fn=<MeanBackward0>)\n",
      "tensor(0.5185, grad_fn=<MeanBackward0>)\n",
      "tensor(0.4358, grad_fn=<MeanBackward0>)\n",
      "tensor(0.4009, grad_fn=<MeanBackward0>)\n",
      "tensor(0.4652, grad_fn=<MeanBackward0>)\n",
      "tensor(0.3851, grad_fn=<MeanBackward0>)\n",
      "tensor(0.6483, grad_fn=<MeanBackward0>)\n",
      "tensor(0.4247, grad_fn=<MeanBackward0>)\n",
      "tensor(0.2555, grad_fn=<MeanBackward0>)\n",
      "tensor(0.3268, grad_fn=<MeanBackward0>)\n",
      "tensor(0.3403, grad_fn=<MeanBackward0>)\n",
      "tensor(0.5108, grad_fn=<MeanBackward0>)\n",
      "tensor(0.4276, grad_fn=<MeanBackward0>)\n",
      "tensor(0.3941, grad_fn=<MeanBackward0>)\n"
     ]
    },
    {
     "name": "stderr",
     "output_type": "stream",
     "text": [
      "\n",
      "\n",
      "\n",
      " 28%|█████████████████████▋                                                        | 278/1000 [00:00<00:02, 311.86it/s]"
     ]
    },
    {
     "name": "stdout",
     "output_type": "stream",
     "text": [
      "tensor(0.4574, grad_fn=<MeanBackward0>)\n",
      "tensor(0.3779, grad_fn=<MeanBackward0>)\n",
      "tensor(0.6395, grad_fn=<MeanBackward0>)\n",
      "tensor(0.4183, grad_fn=<MeanBackward0>)\n",
      "tensor(0.2510, grad_fn=<MeanBackward0>)\n",
      "tensor(0.3212, grad_fn=<MeanBackward0>)\n",
      "tensor(0.3323, grad_fn=<MeanBackward0>)\n",
      "tensor(0.5034, grad_fn=<MeanBackward0>)\n",
      "tensor(0.4196, grad_fn=<MeanBackward0>)\n",
      "tensor(0.3876, grad_fn=<MeanBackward0>)\n",
      "tensor(0.4498, grad_fn=<MeanBackward0>)\n",
      "tensor(0.3709, grad_fn=<MeanBackward0>)\n",
      "tensor(0.6309, grad_fn=<MeanBackward0>)\n",
      "tensor(0.4121, grad_fn=<MeanBackward0>)\n",
      "tensor(0.2468, grad_fn=<MeanBackward0>)\n",
      "tensor(0.3159, grad_fn=<MeanBackward0>)\n",
      "tensor(0.3247, grad_fn=<MeanBackward0>)\n",
      "tensor(0.4962, grad_fn=<MeanBackward0>)\n",
      "tensor(0.4119, grad_fn=<MeanBackward0>)\n",
      "tensor(0.3812, grad_fn=<MeanBackward0>)\n",
      "tensor(0.4425, grad_fn=<MeanBackward0>)\n",
      "tensor(0.3643, grad_fn=<MeanBackward0>)\n",
      "tensor(0.6225, grad_fn=<MeanBackward0>)\n",
      "tensor(0.4061, grad_fn=<MeanBackward0>)\n",
      "tensor(0.2427, grad_fn=<MeanBackward0>)\n",
      "tensor(0.3107, grad_fn=<MeanBackward0>)\n",
      "tensor(0.3174, grad_fn=<MeanBackward0>)\n",
      "tensor(0.4892, grad_fn=<MeanBackward0>)\n",
      "tensor(0.4043, grad_fn=<MeanBackward0>)\n",
      "tensor(0.3751, grad_fn=<MeanBackward0>)\n",
      "tensor(0.4354, grad_fn=<MeanBackward0>)\n",
      "tensor(0.3579, grad_fn=<MeanBackward0>)\n",
      "tensor(0.6141, grad_fn=<MeanBackward0>)\n",
      "tensor(0.4003, grad_fn=<MeanBackward0>)\n",
      "tensor(0.2389, grad_fn=<MeanBackward0>)\n"
     ]
    },
    {
     "name": "stderr",
     "output_type": "stream",
     "text": [
      "\n",
      "\n",
      "\n",
      " 31%|████████████████████████▍                                                     | 313/1000 [00:01<00:02, 322.16it/s]"
     ]
    },
    {
     "name": "stdout",
     "output_type": "stream",
     "text": [
      "tensor(0.3058, grad_fn=<MeanBackward0>)\n",
      "tensor(0.3103, grad_fn=<MeanBackward0>)\n",
      "tensor(0.4824, grad_fn=<MeanBackward0>)\n",
      "tensor(0.3970, grad_fn=<MeanBackward0>)\n",
      "tensor(0.3692, grad_fn=<MeanBackward0>)\n",
      "tensor(0.4285, grad_fn=<MeanBackward0>)\n",
      "tensor(0.3517, grad_fn=<MeanBackward0>)\n",
      "tensor(0.6057, grad_fn=<MeanBackward0>)\n",
      "tensor(0.3946, grad_fn=<MeanBackward0>)\n",
      "tensor(0.2353, grad_fn=<MeanBackward0>)\n",
      "tensor(0.3012, grad_fn=<MeanBackward0>)\n",
      "tensor(0.3033, grad_fn=<MeanBackward0>)\n",
      "tensor(0.4755, grad_fn=<MeanBackward0>)\n",
      "tensor(0.3898, grad_fn=<MeanBackward0>)\n",
      "tensor(0.3635, grad_fn=<MeanBackward0>)\n",
      "tensor(0.4217, grad_fn=<MeanBackward0>)\n",
      "tensor(0.3456, grad_fn=<MeanBackward0>)\n",
      "tensor(0.5975, grad_fn=<MeanBackward0>)\n",
      "tensor(0.3879, grad_fn=<MeanBackward0>)\n",
      "tensor(0.2320, grad_fn=<MeanBackward0>)\n",
      "tensor(0.2969, grad_fn=<MeanBackward0>)\n",
      "tensor(0.2962, grad_fn=<MeanBackward0>)\n",
      "tensor(0.4652, grad_fn=<MeanBackward0>)\n",
      "tensor(0.3828, grad_fn=<MeanBackward0>)\n",
      "tensor(0.3579, grad_fn=<MeanBackward0>)\n",
      "tensor(0.4151, grad_fn=<MeanBackward0>)\n",
      "tensor(0.3397, grad_fn=<MeanBackward0>)\n",
      "tensor(0.5895, grad_fn=<MeanBackward0>)\n",
      "tensor(0.3809, grad_fn=<MeanBackward0>)\n",
      "tensor(0.2266, grad_fn=<MeanBackward0>)\n",
      "tensor(0.2929, grad_fn=<MeanBackward0>)\n",
      "tensor(0.2890, grad_fn=<MeanBackward0>)\n"
     ]
    },
    {
     "name": "stderr",
     "output_type": "stream",
     "text": [
      "\n",
      "\n",
      "\n",
      " 34%|██████████████████████████▉                                                   | 345/1000 [00:01<00:02, 315.53it/s]"
     ]
    },
    {
     "name": "stdout",
     "output_type": "stream",
     "text": [
      "tensor(0.4515, grad_fn=<MeanBackward0>)\n",
      "tensor(0.3739, grad_fn=<MeanBackward0>)\n",
      "tensor(0.3525, grad_fn=<MeanBackward0>)\n",
      "tensor(0.4085, grad_fn=<MeanBackward0>)\n",
      "tensor(0.3341, grad_fn=<MeanBackward0>)\n",
      "tensor(0.5818, grad_fn=<MeanBackward0>)\n",
      "tensor(0.3740, grad_fn=<MeanBackward0>)\n",
      "tensor(0.2207, grad_fn=<MeanBackward0>)\n",
      "tensor(0.2892, grad_fn=<MeanBackward0>)\n",
      "tensor(0.2821, grad_fn=<MeanBackward0>)\n",
      "tensor(0.4379, grad_fn=<MeanBackward0>)\n",
      "tensor(0.3648, grad_fn=<MeanBackward0>)\n",
      "tensor(0.3473, grad_fn=<MeanBackward0>)\n",
      "tensor(0.4020, grad_fn=<MeanBackward0>)\n",
      "tensor(0.3289, grad_fn=<MeanBackward0>)\n",
      "tensor(0.5744, grad_fn=<MeanBackward0>)\n",
      "tensor(0.3673, grad_fn=<MeanBackward0>)\n",
      "tensor(0.2145, grad_fn=<MeanBackward0>)\n",
      "tensor(0.2856, grad_fn=<MeanBackward0>)\n",
      "tensor(0.2751, grad_fn=<MeanBackward0>)\n",
      "tensor(0.4250, grad_fn=<MeanBackward0>)\n",
      "tensor(0.3560, grad_fn=<MeanBackward0>)\n",
      "tensor(0.3423, grad_fn=<MeanBackward0>)\n",
      "tensor(0.3957, grad_fn=<MeanBackward0>)\n",
      "tensor(0.3240, grad_fn=<MeanBackward0>)\n",
      "tensor(0.5672, grad_fn=<MeanBackward0>)\n",
      "tensor(0.3610, grad_fn=<MeanBackward0>)\n",
      "tensor(0.2085, grad_fn=<MeanBackward0>)\n",
      "tensor(0.2816, grad_fn=<MeanBackward0>)\n",
      "tensor(0.2679, grad_fn=<MeanBackward0>)\n",
      "tensor(0.4125, grad_fn=<MeanBackward0>)\n",
      "tensor(0.3475, grad_fn=<MeanBackward0>)\n"
     ]
    },
    {
     "name": "stderr",
     "output_type": "stream",
     "text": [
      "\n",
      "\n",
      "\n",
      " 38%|█████████████████████████████▍                                                | 377/1000 [00:01<00:02, 310.60it/s]"
     ]
    },
    {
     "name": "stdout",
     "output_type": "stream",
     "text": [
      "tensor(0.3374, grad_fn=<MeanBackward0>)\n",
      "tensor(0.3896, grad_fn=<MeanBackward0>)\n",
      "tensor(0.3194, grad_fn=<MeanBackward0>)\n",
      "tensor(0.5601, grad_fn=<MeanBackward0>)\n",
      "tensor(0.3548, grad_fn=<MeanBackward0>)\n",
      "tensor(0.2028, grad_fn=<MeanBackward0>)\n",
      "tensor(0.2765, grad_fn=<MeanBackward0>)\n",
      "tensor(0.2609, grad_fn=<MeanBackward0>)\n",
      "tensor(0.4004, grad_fn=<MeanBackward0>)\n",
      "tensor(0.3392, grad_fn=<MeanBackward0>)\n",
      "tensor(0.3327, grad_fn=<MeanBackward0>)\n",
      "tensor(0.3836, grad_fn=<MeanBackward0>)\n",
      "tensor(0.3152, grad_fn=<MeanBackward0>)\n",
      "tensor(0.5533, grad_fn=<MeanBackward0>)\n",
      "tensor(0.3465, grad_fn=<MeanBackward0>)\n",
      "tensor(0.1975, grad_fn=<MeanBackward0>)\n",
      "tensor(0.2717, grad_fn=<MeanBackward0>)\n",
      "tensor(0.2542, grad_fn=<MeanBackward0>)\n",
      "tensor(0.3886, grad_fn=<MeanBackward0>)\n",
      "tensor(0.3311, grad_fn=<MeanBackward0>)\n",
      "tensor(0.3283, grad_fn=<MeanBackward0>)\n",
      "tensor(0.3777, grad_fn=<MeanBackward0>)\n",
      "tensor(0.3113, grad_fn=<MeanBackward0>)\n",
      "tensor(0.5466, grad_fn=<MeanBackward0>)\n",
      "tensor(0.3378, grad_fn=<MeanBackward0>)\n",
      "tensor(0.1925, grad_fn=<MeanBackward0>)\n",
      "tensor(0.2672, grad_fn=<MeanBackward0>)\n",
      "tensor(0.2478, grad_fn=<MeanBackward0>)\n",
      "tensor(0.3771, grad_fn=<MeanBackward0>)\n",
      "tensor(0.3232, grad_fn=<MeanBackward0>)\n",
      "tensor(0.3240, grad_fn=<MeanBackward0>)\n"
     ]
    },
    {
     "name": "stderr",
     "output_type": "stream",
     "text": [
      "\n",
      "\n",
      "\n",
      " 41%|███████████████████████████████▊                                              | 408/1000 [00:01<00:01, 305.58it/s]"
     ]
    },
    {
     "name": "stdout",
     "output_type": "stream",
     "text": [
      "tensor(0.3720, grad_fn=<MeanBackward0>)\n",
      "tensor(0.3076, grad_fn=<MeanBackward0>)\n",
      "tensor(0.5402, grad_fn=<MeanBackward0>)\n",
      "tensor(0.3295, grad_fn=<MeanBackward0>)\n",
      "tensor(0.1878, grad_fn=<MeanBackward0>)\n",
      "tensor(0.2629, grad_fn=<MeanBackward0>)\n",
      "tensor(0.2416, grad_fn=<MeanBackward0>)\n",
      "tensor(0.3662, grad_fn=<MeanBackward0>)\n",
      "tensor(0.3156, grad_fn=<MeanBackward0>)\n",
      "tensor(0.3199, grad_fn=<MeanBackward0>)\n",
      "tensor(0.3664, grad_fn=<MeanBackward0>)\n",
      "tensor(0.3042, grad_fn=<MeanBackward0>)\n",
      "tensor(0.5336, grad_fn=<MeanBackward0>)\n",
      "tensor(0.3216, grad_fn=<MeanBackward0>)\n",
      "tensor(0.1834, grad_fn=<MeanBackward0>)\n",
      "tensor(0.2588, grad_fn=<MeanBackward0>)\n",
      "tensor(0.2358, grad_fn=<MeanBackward0>)\n",
      "tensor(0.3556, grad_fn=<MeanBackward0>)\n",
      "tensor(0.3083, grad_fn=<MeanBackward0>)\n",
      "tensor(0.3158, grad_fn=<MeanBackward0>)\n",
      "tensor(0.3612, grad_fn=<MeanBackward0>)\n",
      "tensor(0.3011, grad_fn=<MeanBackward0>)\n",
      "tensor(0.5243, grad_fn=<MeanBackward0>)\n",
      "tensor(0.3138, grad_fn=<MeanBackward0>)\n",
      "tensor(0.1792, grad_fn=<MeanBackward0>)\n",
      "tensor(0.2550, grad_fn=<MeanBackward0>)\n",
      "tensor(0.2302, grad_fn=<MeanBackward0>)\n",
      "tensor(0.3451, grad_fn=<MeanBackward0>)\n",
      "tensor(0.3011, grad_fn=<MeanBackward0>)\n",
      "tensor(0.3115, grad_fn=<MeanBackward0>)\n",
      "tensor(0.3555, grad_fn=<MeanBackward0>)\n",
      "tensor(0.2982, grad_fn=<MeanBackward0>)\n",
      "tensor(0.5144, grad_fn=<MeanBackward0>)\n"
     ]
    },
    {
     "name": "stderr",
     "output_type": "stream",
     "text": [
      "\n",
      "\n",
      "\n",
      " 44%|██████████████████████████████████▍                                           | 441/1000 [00:01<00:01, 310.07it/s]"
     ]
    },
    {
     "name": "stdout",
     "output_type": "stream",
     "text": [
      "tensor(0.3061, grad_fn=<MeanBackward0>)\n",
      "tensor(0.1753, grad_fn=<MeanBackward0>)\n",
      "tensor(0.2514, grad_fn=<MeanBackward0>)\n",
      "tensor(0.2248, grad_fn=<MeanBackward0>)\n",
      "tensor(0.3347, grad_fn=<MeanBackward0>)\n",
      "tensor(0.2940, grad_fn=<MeanBackward0>)\n",
      "tensor(0.3073, grad_fn=<MeanBackward0>)\n",
      "tensor(0.3498, grad_fn=<MeanBackward0>)\n",
      "tensor(0.2936, grad_fn=<MeanBackward0>)\n",
      "tensor(0.5046, grad_fn=<MeanBackward0>)\n",
      "tensor(0.2985, grad_fn=<MeanBackward0>)\n",
      "tensor(0.1715, grad_fn=<MeanBackward0>)\n",
      "tensor(0.2481, grad_fn=<MeanBackward0>)\n",
      "tensor(0.2195, grad_fn=<MeanBackward0>)\n",
      "tensor(0.3244, grad_fn=<MeanBackward0>)\n",
      "tensor(0.2870, grad_fn=<MeanBackward0>)\n",
      "tensor(0.3033, grad_fn=<MeanBackward0>)\n",
      "tensor(0.3430, grad_fn=<MeanBackward0>)\n",
      "tensor(0.2891, grad_fn=<MeanBackward0>)\n",
      "tensor(0.4949, grad_fn=<MeanBackward0>)\n",
      "tensor(0.2909, grad_fn=<MeanBackward0>)\n",
      "tensor(0.1679, grad_fn=<MeanBackward0>)\n",
      "tensor(0.2450, grad_fn=<MeanBackward0>)\n",
      "tensor(0.2144, grad_fn=<MeanBackward0>)\n",
      "tensor(0.3142, grad_fn=<MeanBackward0>)\n",
      "tensor(0.2801, grad_fn=<MeanBackward0>)\n",
      "tensor(0.2984, grad_fn=<MeanBackward0>)\n",
      "tensor(0.3363, grad_fn=<MeanBackward0>)\n",
      "tensor(0.2849, grad_fn=<MeanBackward0>)\n",
      "tensor(0.4854, grad_fn=<MeanBackward0>)\n",
      "tensor(0.2837, grad_fn=<MeanBackward0>)\n"
     ]
    },
    {
     "name": "stderr",
     "output_type": "stream",
     "text": [
      "\n",
      "\n",
      "\n",
      " 47%|████████████████████████████████████▊                                         | 472/1000 [00:01<00:01, 299.02it/s]"
     ]
    },
    {
     "name": "stdout",
     "output_type": "stream",
     "text": [
      "tensor(0.1647, grad_fn=<MeanBackward0>)\n",
      "tensor(0.2422, grad_fn=<MeanBackward0>)\n",
      "tensor(0.2096, grad_fn=<MeanBackward0>)\n",
      "tensor(0.3045, grad_fn=<MeanBackward0>)\n",
      "tensor(0.2735, grad_fn=<MeanBackward0>)\n",
      "tensor(0.2937, grad_fn=<MeanBackward0>)\n",
      "tensor(0.3299, grad_fn=<MeanBackward0>)\n",
      "tensor(0.2809, grad_fn=<MeanBackward0>)\n",
      "tensor(0.4763, grad_fn=<MeanBackward0>)\n",
      "tensor(0.2768, grad_fn=<MeanBackward0>)\n",
      "tensor(0.1617, grad_fn=<MeanBackward0>)\n",
      "tensor(0.2396, grad_fn=<MeanBackward0>)\n",
      "tensor(0.2051, grad_fn=<MeanBackward0>)\n",
      "tensor(0.2952, grad_fn=<MeanBackward0>)\n",
      "tensor(0.2673, grad_fn=<MeanBackward0>)\n",
      "tensor(0.2892, grad_fn=<MeanBackward0>)\n",
      "tensor(0.3238, grad_fn=<MeanBackward0>)\n",
      "tensor(0.2772, grad_fn=<MeanBackward0>)\n",
      "tensor(0.4677, grad_fn=<MeanBackward0>)\n",
      "tensor(0.2703, grad_fn=<MeanBackward0>)\n",
      "tensor(0.1590, grad_fn=<MeanBackward0>)\n",
      "tensor(0.2371, grad_fn=<MeanBackward0>)\n",
      "tensor(0.2008, grad_fn=<MeanBackward0>)\n",
      "tensor(0.2863, grad_fn=<MeanBackward0>)\n",
      "tensor(0.2612, grad_fn=<MeanBackward0>)\n",
      "tensor(0.2850, grad_fn=<MeanBackward0>)\n",
      "tensor(0.3181, grad_fn=<MeanBackward0>)\n",
      "tensor(0.2738, grad_fn=<MeanBackward0>)\n",
      "tensor(0.4595, grad_fn=<MeanBackward0>)\n",
      "tensor(0.2641, grad_fn=<MeanBackward0>)\n"
     ]
    },
    {
     "name": "stderr",
     "output_type": "stream",
     "text": [
      "\n",
      "\n",
      "\n",
      " 50%|███████████████████████████████████████▏                                      | 502/1000 [00:01<00:01, 294.22it/s]"
     ]
    },
    {
     "name": "stdout",
     "output_type": "stream",
     "text": [
      "tensor(0.1566, grad_fn=<MeanBackward0>)\n",
      "tensor(0.2349, grad_fn=<MeanBackward0>)\n",
      "tensor(0.1968, grad_fn=<MeanBackward0>)\n",
      "tensor(0.2779, grad_fn=<MeanBackward0>)\n",
      "tensor(0.2555, grad_fn=<MeanBackward0>)\n",
      "tensor(0.2810, grad_fn=<MeanBackward0>)\n",
      "tensor(0.3126, grad_fn=<MeanBackward0>)\n",
      "tensor(0.2706, grad_fn=<MeanBackward0>)\n",
      "tensor(0.4509, grad_fn=<MeanBackward0>)\n",
      "tensor(0.2582, grad_fn=<MeanBackward0>)\n",
      "tensor(0.1543, grad_fn=<MeanBackward0>)\n",
      "tensor(0.2327, grad_fn=<MeanBackward0>)\n",
      "tensor(0.1930, grad_fn=<MeanBackward0>)\n",
      "tensor(0.2697, grad_fn=<MeanBackward0>)\n",
      "tensor(0.2500, grad_fn=<MeanBackward0>)\n",
      "tensor(0.2771, grad_fn=<MeanBackward0>)\n",
      "tensor(0.3072, grad_fn=<MeanBackward0>)\n",
      "tensor(0.2665, grad_fn=<MeanBackward0>)\n",
      "tensor(0.4423, grad_fn=<MeanBackward0>)\n",
      "tensor(0.2523, grad_fn=<MeanBackward0>)\n",
      "tensor(0.1522, grad_fn=<MeanBackward0>)\n",
      "tensor(0.2307, grad_fn=<MeanBackward0>)\n",
      "tensor(0.1895, grad_fn=<MeanBackward0>)\n",
      "tensor(0.2617, grad_fn=<MeanBackward0>)\n",
      "tensor(0.2446, grad_fn=<MeanBackward0>)\n",
      "tensor(0.2735, grad_fn=<MeanBackward0>)\n",
      "tensor(0.3020, grad_fn=<MeanBackward0>)\n",
      "tensor(0.2628, grad_fn=<MeanBackward0>)\n",
      "tensor(0.4341, grad_fn=<MeanBackward0>)\n",
      "tensor(0.2467, grad_fn=<MeanBackward0>)\n",
      "tensor(0.1503, grad_fn=<MeanBackward0>)\n",
      "tensor(0.2289, grad_fn=<MeanBackward0>)\n"
     ]
    },
    {
     "name": "stderr",
     "output_type": "stream",
     "text": [
      "\n",
      "\n",
      "\n",
      " 53%|█████████████████████████████████████████▋                                    | 534/1000 [00:01<00:01, 301.28it/s]"
     ]
    },
    {
     "name": "stdout",
     "output_type": "stream",
     "text": [
      "tensor(0.1861, grad_fn=<MeanBackward0>)\n",
      "tensor(0.2541, grad_fn=<MeanBackward0>)\n",
      "tensor(0.2395, grad_fn=<MeanBackward0>)\n",
      "tensor(0.2701, grad_fn=<MeanBackward0>)\n",
      "tensor(0.2971, grad_fn=<MeanBackward0>)\n",
      "tensor(0.2593, grad_fn=<MeanBackward0>)\n",
      "tensor(0.4263, grad_fn=<MeanBackward0>)\n",
      "tensor(0.2414, grad_fn=<MeanBackward0>)\n",
      "tensor(0.1486, grad_fn=<MeanBackward0>)\n",
      "tensor(0.2272, grad_fn=<MeanBackward0>)\n",
      "tensor(0.1830, grad_fn=<MeanBackward0>)\n",
      "tensor(0.2468, grad_fn=<MeanBackward0>)\n",
      "tensor(0.2346, grad_fn=<MeanBackward0>)\n",
      "tensor(0.2669, grad_fn=<MeanBackward0>)\n",
      "tensor(0.2924, grad_fn=<MeanBackward0>)\n",
      "tensor(0.2561, grad_fn=<MeanBackward0>)\n",
      "tensor(0.4188, grad_fn=<MeanBackward0>)\n",
      "tensor(0.2363, grad_fn=<MeanBackward0>)\n",
      "tensor(0.1471, grad_fn=<MeanBackward0>)\n",
      "tensor(0.2256, grad_fn=<MeanBackward0>)\n",
      "tensor(0.1800, grad_fn=<MeanBackward0>)\n",
      "tensor(0.2398, grad_fn=<MeanBackward0>)\n",
      "tensor(0.2300, grad_fn=<MeanBackward0>)\n",
      "tensor(0.2639, grad_fn=<MeanBackward0>)\n",
      "tensor(0.2879, grad_fn=<MeanBackward0>)\n",
      "tensor(0.2532, grad_fn=<MeanBackward0>)\n",
      "tensor(0.4117, grad_fn=<MeanBackward0>)\n",
      "tensor(0.2314, grad_fn=<MeanBackward0>)\n",
      "tensor(0.1457, grad_fn=<MeanBackward0>)\n",
      "tensor(0.2241, grad_fn=<MeanBackward0>)\n",
      "tensor(0.1772, grad_fn=<MeanBackward0>)\n",
      "tensor(0.2331, grad_fn=<MeanBackward0>)\n",
      "tensor(0.2255, grad_fn=<MeanBackward0>)\n"
     ]
    },
    {
     "name": "stderr",
     "output_type": "stream",
     "text": [
      "\n",
      "\n",
      "\n",
      " 57%|████████████████████████████████████████████▏                                 | 567/1000 [00:01<00:01, 309.13it/s]"
     ]
    },
    {
     "name": "stdout",
     "output_type": "stream",
     "text": [
      "tensor(0.2610, grad_fn=<MeanBackward0>)\n",
      "tensor(0.2837, grad_fn=<MeanBackward0>)\n",
      "tensor(0.2505, grad_fn=<MeanBackward0>)\n",
      "tensor(0.4048, grad_fn=<MeanBackward0>)\n",
      "tensor(0.2268, grad_fn=<MeanBackward0>)\n",
      "tensor(0.1445, grad_fn=<MeanBackward0>)\n",
      "tensor(0.2226, grad_fn=<MeanBackward0>)\n",
      "tensor(0.1744, grad_fn=<MeanBackward0>)\n",
      "tensor(0.2267, grad_fn=<MeanBackward0>)\n",
      "tensor(0.2212, grad_fn=<MeanBackward0>)\n",
      "tensor(0.2583, grad_fn=<MeanBackward0>)\n",
      "tensor(0.2797, grad_fn=<MeanBackward0>)\n",
      "tensor(0.2481, grad_fn=<MeanBackward0>)\n",
      "tensor(0.3982, grad_fn=<MeanBackward0>)\n",
      "tensor(0.2223, grad_fn=<MeanBackward0>)\n",
      "tensor(0.1434, grad_fn=<MeanBackward0>)\n",
      "tensor(0.2211, grad_fn=<MeanBackward0>)\n",
      "tensor(0.1716, grad_fn=<MeanBackward0>)\n",
      "tensor(0.2204, grad_fn=<MeanBackward0>)\n",
      "tensor(0.2169, grad_fn=<MeanBackward0>)\n",
      "tensor(0.2558, grad_fn=<MeanBackward0>)\n",
      "tensor(0.2758, grad_fn=<MeanBackward0>)\n",
      "tensor(0.2459, grad_fn=<MeanBackward0>)\n",
      "tensor(0.3918, grad_fn=<MeanBackward0>)\n",
      "tensor(0.2180, grad_fn=<MeanBackward0>)\n",
      "tensor(0.1423, grad_fn=<MeanBackward0>)\n",
      "tensor(0.2196, grad_fn=<MeanBackward0>)\n",
      "tensor(0.1690, grad_fn=<MeanBackward0>)\n",
      "tensor(0.2144, grad_fn=<MeanBackward0>)\n",
      "tensor(0.2129, grad_fn=<MeanBackward0>)\n",
      "tensor(0.2534, grad_fn=<MeanBackward0>)\n",
      "tensor(0.2722, grad_fn=<MeanBackward0>)\n",
      "tensor(0.2438, grad_fn=<MeanBackward0>)\n",
      "tensor(0.3856, grad_fn=<MeanBackward0>)\n",
      "tensor(0.2138, grad_fn=<MeanBackward0>)\n",
      "tensor(0.1412, grad_fn=<MeanBackward0>)\n"
     ]
    },
    {
     "name": "stderr",
     "output_type": "stream",
     "text": [
      "\n",
      "\n",
      "\n",
      " 60%|███████████████████████████████████████████████                               | 603/1000 [00:01<00:01, 320.42it/s]"
     ]
    },
    {
     "name": "stdout",
     "output_type": "stream",
     "text": [
      "tensor(0.2183, grad_fn=<MeanBackward0>)\n",
      "tensor(0.1666, grad_fn=<MeanBackward0>)\n",
      "tensor(0.2085, grad_fn=<MeanBackward0>)\n",
      "tensor(0.2089, grad_fn=<MeanBackward0>)\n",
      "tensor(0.2511, grad_fn=<MeanBackward0>)\n",
      "tensor(0.2687, grad_fn=<MeanBackward0>)\n",
      "tensor(0.2420, grad_fn=<MeanBackward0>)\n",
      "tensor(0.3796, grad_fn=<MeanBackward0>)\n",
      "tensor(0.2097, grad_fn=<MeanBackward0>)\n",
      "tensor(0.1399, grad_fn=<MeanBackward0>)\n",
      "tensor(0.2170, grad_fn=<MeanBackward0>)\n",
      "tensor(0.1642, grad_fn=<MeanBackward0>)\n",
      "tensor(0.2029, grad_fn=<MeanBackward0>)\n",
      "tensor(0.2051, grad_fn=<MeanBackward0>)\n",
      "tensor(0.2489, grad_fn=<MeanBackward0>)\n",
      "tensor(0.2654, grad_fn=<MeanBackward0>)\n",
      "tensor(0.2402, grad_fn=<MeanBackward0>)\n",
      "tensor(0.3739, grad_fn=<MeanBackward0>)\n",
      "tensor(0.2058, grad_fn=<MeanBackward0>)\n",
      "tensor(0.1387, grad_fn=<MeanBackward0>)\n",
      "tensor(0.2159, grad_fn=<MeanBackward0>)\n",
      "tensor(0.1620, grad_fn=<MeanBackward0>)\n",
      "tensor(0.1975, grad_fn=<MeanBackward0>)\n",
      "tensor(0.2015, grad_fn=<MeanBackward0>)\n",
      "tensor(0.2469, grad_fn=<MeanBackward0>)\n",
      "tensor(0.2622, grad_fn=<MeanBackward0>)\n",
      "tensor(0.2387, grad_fn=<MeanBackward0>)\n",
      "tensor(0.3684, grad_fn=<MeanBackward0>)\n",
      "tensor(0.2021, grad_fn=<MeanBackward0>)\n",
      "tensor(0.1376, grad_fn=<MeanBackward0>)\n",
      "tensor(0.2147, grad_fn=<MeanBackward0>)\n",
      "tensor(0.1600, grad_fn=<MeanBackward0>)\n",
      "tensor(0.1923, grad_fn=<MeanBackward0>)\n"
     ]
    },
    {
     "name": "stderr",
     "output_type": "stream",
     "text": [
      "\n",
      "\n",
      "\n",
      " 64%|█████████████████████████████████████████████████▌                            | 636/1000 [00:02<00:01, 322.04it/s]"
     ]
    },
    {
     "name": "stdout",
     "output_type": "stream",
     "text": [
      "tensor(0.1979, grad_fn=<MeanBackward0>)\n",
      "tensor(0.2449, grad_fn=<MeanBackward0>)\n",
      "tensor(0.2593, grad_fn=<MeanBackward0>)\n",
      "tensor(0.2372, grad_fn=<MeanBackward0>)\n",
      "tensor(0.3631, grad_fn=<MeanBackward0>)\n",
      "tensor(0.1986, grad_fn=<MeanBackward0>)\n",
      "tensor(0.1366, grad_fn=<MeanBackward0>)\n",
      "tensor(0.2134, grad_fn=<MeanBackward0>)\n",
      "tensor(0.1580, grad_fn=<MeanBackward0>)\n",
      "tensor(0.1873, grad_fn=<MeanBackward0>)\n",
      "tensor(0.1946, grad_fn=<MeanBackward0>)\n",
      "tensor(0.2430, grad_fn=<MeanBackward0>)\n",
      "tensor(0.2565, grad_fn=<MeanBackward0>)\n",
      "tensor(0.2359, grad_fn=<MeanBackward0>)\n",
      "tensor(0.3580, grad_fn=<MeanBackward0>)\n",
      "tensor(0.1953, grad_fn=<MeanBackward0>)\n",
      "tensor(0.1358, grad_fn=<MeanBackward0>)\n",
      "tensor(0.2123, grad_fn=<MeanBackward0>)\n",
      "tensor(0.1561, grad_fn=<MeanBackward0>)\n",
      "tensor(0.1825, grad_fn=<MeanBackward0>)\n",
      "tensor(0.1914, grad_fn=<MeanBackward0>)\n",
      "tensor(0.2412, grad_fn=<MeanBackward0>)\n",
      "tensor(0.2538, grad_fn=<MeanBackward0>)\n",
      "tensor(0.2347, grad_fn=<MeanBackward0>)\n",
      "tensor(0.3530, grad_fn=<MeanBackward0>)\n",
      "tensor(0.1922, grad_fn=<MeanBackward0>)\n",
      "tensor(0.1351, grad_fn=<MeanBackward0>)\n",
      "tensor(0.2113, grad_fn=<MeanBackward0>)\n",
      "tensor(0.1543, grad_fn=<MeanBackward0>)\n",
      "tensor(0.1779, grad_fn=<MeanBackward0>)\n",
      "tensor(0.1883, grad_fn=<MeanBackward0>)\n",
      "tensor(0.2396, grad_fn=<MeanBackward0>)\n",
      "tensor(0.2513, grad_fn=<MeanBackward0>)\n",
      "tensor(0.2336, grad_fn=<MeanBackward0>)\n",
      "tensor(0.3483, grad_fn=<MeanBackward0>)\n"
     ]
    },
    {
     "name": "stderr",
     "output_type": "stream",
     "text": [
      "\n",
      "\n",
      "\n",
      " 67%|████████████████████████████████████████████████████▎                         | 671/1000 [00:02<00:01, 327.38it/s]"
     ]
    },
    {
     "name": "stdout",
     "output_type": "stream",
     "text": [
      "tensor(0.1892, grad_fn=<MeanBackward0>)\n",
      "tensor(0.1345, grad_fn=<MeanBackward0>)\n",
      "tensor(0.2104, grad_fn=<MeanBackward0>)\n",
      "tensor(0.1527, grad_fn=<MeanBackward0>)\n",
      "tensor(0.1735, grad_fn=<MeanBackward0>)\n",
      "tensor(0.1853, grad_fn=<MeanBackward0>)\n",
      "tensor(0.2380, grad_fn=<MeanBackward0>)\n",
      "tensor(0.2490, grad_fn=<MeanBackward0>)\n",
      "tensor(0.2326, grad_fn=<MeanBackward0>)\n",
      "tensor(0.3438, grad_fn=<MeanBackward0>)\n",
      "tensor(0.1863, grad_fn=<MeanBackward0>)\n",
      "tensor(0.1340, grad_fn=<MeanBackward0>)\n",
      "tensor(0.2095, grad_fn=<MeanBackward0>)\n",
      "tensor(0.1512, grad_fn=<MeanBackward0>)\n",
      "tensor(0.1693, grad_fn=<MeanBackward0>)\n",
      "tensor(0.1825, grad_fn=<MeanBackward0>)\n",
      "tensor(0.2366, grad_fn=<MeanBackward0>)\n",
      "tensor(0.2468, grad_fn=<MeanBackward0>)\n",
      "tensor(0.2318, grad_fn=<MeanBackward0>)\n",
      "tensor(0.3394, grad_fn=<MeanBackward0>)\n",
      "tensor(0.1836, grad_fn=<MeanBackward0>)\n",
      "tensor(0.1336, grad_fn=<MeanBackward0>)\n",
      "tensor(0.2088, grad_fn=<MeanBackward0>)\n",
      "tensor(0.1497, grad_fn=<MeanBackward0>)\n",
      "tensor(0.1653, grad_fn=<MeanBackward0>)\n",
      "tensor(0.1797, grad_fn=<MeanBackward0>)\n",
      "tensor(0.2352, grad_fn=<MeanBackward0>)\n",
      "tensor(0.2447, grad_fn=<MeanBackward0>)\n",
      "tensor(0.2311, grad_fn=<MeanBackward0>)\n",
      "tensor(0.3353, grad_fn=<MeanBackward0>)\n",
      "tensor(0.1810, grad_fn=<MeanBackward0>)\n",
      "tensor(0.1332, grad_fn=<MeanBackward0>)\n",
      "tensor(0.2081, grad_fn=<MeanBackward0>)\n",
      "tensor(0.1484, grad_fn=<MeanBackward0>)\n"
     ]
    },
    {
     "name": "stderr",
     "output_type": "stream",
     "text": [
      "\n",
      "\n",
      "\n",
      " 70%|██████████████████████████████████████████████████████▉                       | 705/1000 [00:02<00:00, 329.84it/s]"
     ]
    },
    {
     "name": "stdout",
     "output_type": "stream",
     "text": [
      "tensor(0.1614, grad_fn=<MeanBackward0>)\n",
      "tensor(0.1771, grad_fn=<MeanBackward0>)\n",
      "tensor(0.2340, grad_fn=<MeanBackward0>)\n",
      "tensor(0.2428, grad_fn=<MeanBackward0>)\n",
      "tensor(0.2305, grad_fn=<MeanBackward0>)\n",
      "tensor(0.3313, grad_fn=<MeanBackward0>)\n",
      "tensor(0.1786, grad_fn=<MeanBackward0>)\n",
      "tensor(0.1330, grad_fn=<MeanBackward0>)\n",
      "tensor(0.2075, grad_fn=<MeanBackward0>)\n",
      "tensor(0.1472, grad_fn=<MeanBackward0>)\n",
      "tensor(0.1577, grad_fn=<MeanBackward0>)\n",
      "tensor(0.1746, grad_fn=<MeanBackward0>)\n",
      "tensor(0.2329, grad_fn=<MeanBackward0>)\n",
      "tensor(0.2410, grad_fn=<MeanBackward0>)\n",
      "tensor(0.2300, grad_fn=<MeanBackward0>)\n",
      "tensor(0.3275, grad_fn=<MeanBackward0>)\n",
      "tensor(0.1762, grad_fn=<MeanBackward0>)\n",
      "tensor(0.1328, grad_fn=<MeanBackward0>)\n",
      "tensor(0.2069, grad_fn=<MeanBackward0>)\n",
      "tensor(0.1461, grad_fn=<MeanBackward0>)\n",
      "tensor(0.1542, grad_fn=<MeanBackward0>)\n",
      "tensor(0.1722, grad_fn=<MeanBackward0>)\n",
      "tensor(0.2319, grad_fn=<MeanBackward0>)\n",
      "tensor(0.2393, grad_fn=<MeanBackward0>)\n",
      "tensor(0.2296, grad_fn=<MeanBackward0>)\n",
      "tensor(0.3238, grad_fn=<MeanBackward0>)\n",
      "tensor(0.1740, grad_fn=<MeanBackward0>)\n",
      "tensor(0.1327, grad_fn=<MeanBackward0>)\n",
      "tensor(0.2065, grad_fn=<MeanBackward0>)\n",
      "tensor(0.1450, grad_fn=<MeanBackward0>)\n",
      "tensor(0.1508, grad_fn=<MeanBackward0>)\n",
      "tensor(0.1699, grad_fn=<MeanBackward0>)\n",
      "tensor(0.2310, grad_fn=<MeanBackward0>)\n",
      "tensor(0.2378, grad_fn=<MeanBackward0>)\n"
     ]
    },
    {
     "name": "stderr",
     "output_type": "stream",
     "text": [
      "\n",
      "\n",
      "\n",
      " 74%|█████████████████████████████████████████████████████████▋                    | 739/1000 [00:02<00:00, 322.60it/s]"
     ]
    },
    {
     "name": "stdout",
     "output_type": "stream",
     "text": [
      "tensor(0.2293, grad_fn=<MeanBackward0>)\n",
      "tensor(0.3204, grad_fn=<MeanBackward0>)\n",
      "tensor(0.1719, grad_fn=<MeanBackward0>)\n",
      "tensor(0.1326, grad_fn=<MeanBackward0>)\n",
      "tensor(0.2060, grad_fn=<MeanBackward0>)\n",
      "tensor(0.1441, grad_fn=<MeanBackward0>)\n",
      "tensor(0.1476, grad_fn=<MeanBackward0>)\n",
      "tensor(0.1678, grad_fn=<MeanBackward0>)\n",
      "tensor(0.2301, grad_fn=<MeanBackward0>)\n",
      "tensor(0.2363, grad_fn=<MeanBackward0>)\n",
      "tensor(0.2291, grad_fn=<MeanBackward0>)\n",
      "tensor(0.3170, grad_fn=<MeanBackward0>)\n",
      "tensor(0.1699, grad_fn=<MeanBackward0>)\n",
      "tensor(0.1326, grad_fn=<MeanBackward0>)\n",
      "tensor(0.2057, grad_fn=<MeanBackward0>)\n",
      "tensor(0.1432, grad_fn=<MeanBackward0>)\n",
      "tensor(0.1445, grad_fn=<MeanBackward0>)\n",
      "tensor(0.1657, grad_fn=<MeanBackward0>)\n",
      "tensor(0.2294, grad_fn=<MeanBackward0>)\n",
      "tensor(0.2350, grad_fn=<MeanBackward0>)\n",
      "tensor(0.2290, grad_fn=<MeanBackward0>)\n",
      "tensor(0.3139, grad_fn=<MeanBackward0>)\n",
      "tensor(0.1680, grad_fn=<MeanBackward0>)\n",
      "tensor(0.1326, grad_fn=<MeanBackward0>)\n",
      "tensor(0.2054, grad_fn=<MeanBackward0>)\n",
      "tensor(0.1424, grad_fn=<MeanBackward0>)\n",
      "tensor(0.1416, grad_fn=<MeanBackward0>)\n",
      "tensor(0.1637, grad_fn=<MeanBackward0>)\n",
      "tensor(0.2287, grad_fn=<MeanBackward0>)\n",
      "tensor(0.2338, grad_fn=<MeanBackward0>)\n",
      "tensor(0.2290, grad_fn=<MeanBackward0>)\n",
      "tensor(0.3108, grad_fn=<MeanBackward0>)\n",
      "tensor(0.1662, grad_fn=<MeanBackward0>)\n"
     ]
    },
    {
     "name": "stderr",
     "output_type": "stream",
     "text": [
      "\n",
      "\n",
      "\n",
      " 77%|████████████████████████████████████████████████████████████▏                 | 772/1000 [00:02<00:00, 318.41it/s]"
     ]
    },
    {
     "name": "stdout",
     "output_type": "stream",
     "text": [
      "tensor(0.1327, grad_fn=<MeanBackward0>)\n",
      "tensor(0.2051, grad_fn=<MeanBackward0>)\n",
      "tensor(0.1417, grad_fn=<MeanBackward0>)\n",
      "tensor(0.1388, grad_fn=<MeanBackward0>)\n",
      "tensor(0.1618, grad_fn=<MeanBackward0>)\n",
      "tensor(0.2281, grad_fn=<MeanBackward0>)\n",
      "tensor(0.2326, grad_fn=<MeanBackward0>)\n",
      "tensor(0.2290, grad_fn=<MeanBackward0>)\n",
      "tensor(0.3080, grad_fn=<MeanBackward0>)\n",
      "tensor(0.1645, grad_fn=<MeanBackward0>)\n",
      "tensor(0.1328, grad_fn=<MeanBackward0>)\n",
      "tensor(0.2049, grad_fn=<MeanBackward0>)\n",
      "tensor(0.1410, grad_fn=<MeanBackward0>)\n",
      "tensor(0.1361, grad_fn=<MeanBackward0>)\n",
      "tensor(0.1599, grad_fn=<MeanBackward0>)\n",
      "tensor(0.2276, grad_fn=<MeanBackward0>)\n",
      "tensor(0.2316, grad_fn=<MeanBackward0>)\n",
      "tensor(0.2291, grad_fn=<MeanBackward0>)\n",
      "tensor(0.3052, grad_fn=<MeanBackward0>)\n",
      "tensor(0.1628, grad_fn=<MeanBackward0>)\n",
      "tensor(0.1330, grad_fn=<MeanBackward0>)\n",
      "tensor(0.2048, grad_fn=<MeanBackward0>)\n",
      "tensor(0.1404, grad_fn=<MeanBackward0>)\n",
      "tensor(0.1336, grad_fn=<MeanBackward0>)\n",
      "tensor(0.1582, grad_fn=<MeanBackward0>)\n",
      "tensor(0.2272, grad_fn=<MeanBackward0>)\n",
      "tensor(0.2306, grad_fn=<MeanBackward0>)\n",
      "tensor(0.2292, grad_fn=<MeanBackward0>)\n",
      "tensor(0.3026, grad_fn=<MeanBackward0>)\n",
      "tensor(0.1613, grad_fn=<MeanBackward0>)\n",
      "tensor(0.1332, grad_fn=<MeanBackward0>)\n",
      "tensor(0.2047, grad_fn=<MeanBackward0>)\n",
      "tensor(0.1399, grad_fn=<MeanBackward0>)\n"
     ]
    },
    {
     "name": "stderr",
     "output_type": "stream",
     "text": [
      "\n",
      "\n",
      "\n",
      " 80%|██████████████████████████████████████████████████████████████▊               | 805/1000 [00:02<00:00, 320.61it/s]"
     ]
    },
    {
     "name": "stdout",
     "output_type": "stream",
     "text": [
      "tensor(0.1312, grad_fn=<MeanBackward0>)\n",
      "tensor(0.1565, grad_fn=<MeanBackward0>)\n",
      "tensor(0.2268, grad_fn=<MeanBackward0>)\n",
      "tensor(0.2297, grad_fn=<MeanBackward0>)\n",
      "tensor(0.2294, grad_fn=<MeanBackward0>)\n",
      "tensor(0.3001, grad_fn=<MeanBackward0>)\n",
      "tensor(0.1598, grad_fn=<MeanBackward0>)\n",
      "tensor(0.1334, grad_fn=<MeanBackward0>)\n",
      "tensor(0.2046, grad_fn=<MeanBackward0>)\n",
      "tensor(0.1394, grad_fn=<MeanBackward0>)\n",
      "tensor(0.1289, grad_fn=<MeanBackward0>)\n",
      "tensor(0.1549, grad_fn=<MeanBackward0>)\n",
      "tensor(0.2265, grad_fn=<MeanBackward0>)\n",
      "tensor(0.2289, grad_fn=<MeanBackward0>)\n",
      "tensor(0.2297, grad_fn=<MeanBackward0>)\n",
      "tensor(0.2977, grad_fn=<MeanBackward0>)\n",
      "tensor(0.1585, grad_fn=<MeanBackward0>)\n",
      "tensor(0.1336, grad_fn=<MeanBackward0>)\n",
      "tensor(0.2046, grad_fn=<MeanBackward0>)\n",
      "tensor(0.1390, grad_fn=<MeanBackward0>)\n",
      "tensor(0.1267, grad_fn=<MeanBackward0>)\n",
      "tensor(0.1534, grad_fn=<MeanBackward0>)\n",
      "tensor(0.2262, grad_fn=<MeanBackward0>)\n",
      "tensor(0.2282, grad_fn=<MeanBackward0>)\n",
      "tensor(0.2300, grad_fn=<MeanBackward0>)\n",
      "tensor(0.2955, grad_fn=<MeanBackward0>)\n",
      "tensor(0.1572, grad_fn=<MeanBackward0>)\n",
      "tensor(0.1339, grad_fn=<MeanBackward0>)\n",
      "tensor(0.2045, grad_fn=<MeanBackward0>)\n",
      "tensor(0.1386, grad_fn=<MeanBackward0>)\n",
      "tensor(0.1246, grad_fn=<MeanBackward0>)\n",
      "tensor(0.1520, grad_fn=<MeanBackward0>)\n",
      "tensor(0.2259, grad_fn=<MeanBackward0>)\n",
      "tensor(0.2275, grad_fn=<MeanBackward0>)\n"
     ]
    },
    {
     "name": "stderr",
     "output_type": "stream",
     "text": [
      "\n",
      "\n",
      "\n",
      " 84%|█████████████████████████████████████████████████████████████████▍            | 839/1000 [00:02<00:00, 323.61it/s]"
     ]
    },
    {
     "name": "stdout",
     "output_type": "stream",
     "text": [
      "tensor(0.2303, grad_fn=<MeanBackward0>)\n",
      "tensor(0.2933, grad_fn=<MeanBackward0>)\n",
      "tensor(0.1559, grad_fn=<MeanBackward0>)\n",
      "tensor(0.1342, grad_fn=<MeanBackward0>)\n",
      "tensor(0.2046, grad_fn=<MeanBackward0>)\n",
      "tensor(0.1383, grad_fn=<MeanBackward0>)\n",
      "tensor(0.1226, grad_fn=<MeanBackward0>)\n",
      "tensor(0.1506, grad_fn=<MeanBackward0>)\n",
      "tensor(0.2258, grad_fn=<MeanBackward0>)\n",
      "tensor(0.2269, grad_fn=<MeanBackward0>)\n",
      "tensor(0.2307, grad_fn=<MeanBackward0>)\n",
      "tensor(0.2913, grad_fn=<MeanBackward0>)\n",
      "tensor(0.1547, grad_fn=<MeanBackward0>)\n",
      "tensor(0.1345, grad_fn=<MeanBackward0>)\n",
      "tensor(0.2046, grad_fn=<MeanBackward0>)\n",
      "tensor(0.1380, grad_fn=<MeanBackward0>)\n",
      "tensor(0.1208, grad_fn=<MeanBackward0>)\n",
      "tensor(0.1493, grad_fn=<MeanBackward0>)\n",
      "tensor(0.2256, grad_fn=<MeanBackward0>)\n",
      "tensor(0.2262, grad_fn=<MeanBackward0>)\n",
      "tensor(0.2310, grad_fn=<MeanBackward0>)\n",
      "tensor(0.2893, grad_fn=<MeanBackward0>)\n",
      "tensor(0.1537, grad_fn=<MeanBackward0>)\n",
      "tensor(0.1349, grad_fn=<MeanBackward0>)\n",
      "tensor(0.2047, grad_fn=<MeanBackward0>)\n",
      "tensor(0.1377, grad_fn=<MeanBackward0>)\n",
      "tensor(0.1191, grad_fn=<MeanBackward0>)\n",
      "tensor(0.1482, grad_fn=<MeanBackward0>)\n",
      "tensor(0.2254, grad_fn=<MeanBackward0>)\n",
      "tensor(0.2253, grad_fn=<MeanBackward0>)\n",
      "tensor(0.2313, grad_fn=<MeanBackward0>)\n",
      "tensor(0.2873, grad_fn=<MeanBackward0>)\n",
      "tensor(0.1528, grad_fn=<MeanBackward0>)\n"
     ]
    },
    {
     "name": "stderr",
     "output_type": "stream",
     "text": [
      "\n",
      "\n",
      "\n",
      " 87%|████████████████████████████████████████████████████████████████████          | 872/1000 [00:02<00:00, 322.38it/s]"
     ]
    },
    {
     "name": "stdout",
     "output_type": "stream",
     "text": [
      "tensor(0.1353, grad_fn=<MeanBackward0>)\n",
      "tensor(0.2048, grad_fn=<MeanBackward0>)\n",
      "tensor(0.1375, grad_fn=<MeanBackward0>)\n",
      "tensor(0.1175, grad_fn=<MeanBackward0>)\n",
      "tensor(0.1471, grad_fn=<MeanBackward0>)\n",
      "tensor(0.2251, grad_fn=<MeanBackward0>)\n",
      "tensor(0.2244, grad_fn=<MeanBackward0>)\n",
      "tensor(0.2316, grad_fn=<MeanBackward0>)\n",
      "tensor(0.2854, grad_fn=<MeanBackward0>)\n",
      "tensor(0.1520, grad_fn=<MeanBackward0>)\n",
      "tensor(0.1357, grad_fn=<MeanBackward0>)\n",
      "tensor(0.2050, grad_fn=<MeanBackward0>)\n",
      "tensor(0.1373, grad_fn=<MeanBackward0>)\n",
      "tensor(0.1160, grad_fn=<MeanBackward0>)\n",
      "tensor(0.1461, grad_fn=<MeanBackward0>)\n",
      "tensor(0.2248, grad_fn=<MeanBackward0>)\n",
      "tensor(0.2235, grad_fn=<MeanBackward0>)\n",
      "tensor(0.2318, grad_fn=<MeanBackward0>)\n",
      "tensor(0.2836, grad_fn=<MeanBackward0>)\n",
      "tensor(0.1512, grad_fn=<MeanBackward0>)\n",
      "tensor(0.1362, grad_fn=<MeanBackward0>)\n",
      "tensor(0.2052, grad_fn=<MeanBackward0>)\n",
      "tensor(0.1371, grad_fn=<MeanBackward0>)\n",
      "tensor(0.1146, grad_fn=<MeanBackward0>)\n",
      "tensor(0.1451, grad_fn=<MeanBackward0>)\n",
      "tensor(0.2245, grad_fn=<MeanBackward0>)\n",
      "tensor(0.2227, grad_fn=<MeanBackward0>)\n",
      "tensor(0.2321, grad_fn=<MeanBackward0>)\n",
      "tensor(0.2819, grad_fn=<MeanBackward0>)\n",
      "tensor(0.1505, grad_fn=<MeanBackward0>)\n",
      "tensor(0.1367, grad_fn=<MeanBackward0>)\n",
      "tensor(0.2054, grad_fn=<MeanBackward0>)\n",
      "tensor(0.1369, grad_fn=<MeanBackward0>)\n"
     ]
    },
    {
     "name": "stderr",
     "output_type": "stream",
     "text": [
      "\n",
      "\n",
      "\n",
      " 90%|██████████████████████████████████████████████████████████████████████▌       | 905/1000 [00:02<00:00, 317.79it/s]"
     ]
    },
    {
     "name": "stdout",
     "output_type": "stream",
     "text": [
      "tensor(0.1132, grad_fn=<MeanBackward0>)\n",
      "tensor(0.1442, grad_fn=<MeanBackward0>)\n",
      "tensor(0.2243, grad_fn=<MeanBackward0>)\n",
      "tensor(0.2219, grad_fn=<MeanBackward0>)\n",
      "tensor(0.2323, grad_fn=<MeanBackward0>)\n",
      "tensor(0.2803, grad_fn=<MeanBackward0>)\n",
      "tensor(0.1499, grad_fn=<MeanBackward0>)\n",
      "tensor(0.1371, grad_fn=<MeanBackward0>)\n",
      "tensor(0.2055, grad_fn=<MeanBackward0>)\n",
      "tensor(0.1368, grad_fn=<MeanBackward0>)\n",
      "tensor(0.1120, grad_fn=<MeanBackward0>)\n",
      "tensor(0.1434, grad_fn=<MeanBackward0>)\n",
      "tensor(0.2241, grad_fn=<MeanBackward0>)\n",
      "tensor(0.2211, grad_fn=<MeanBackward0>)\n",
      "tensor(0.2326, grad_fn=<MeanBackward0>)\n",
      "tensor(0.2788, grad_fn=<MeanBackward0>)\n",
      "tensor(0.1493, grad_fn=<MeanBackward0>)\n",
      "tensor(0.1376, grad_fn=<MeanBackward0>)\n",
      "tensor(0.2058, grad_fn=<MeanBackward0>)\n",
      "tensor(0.1366, grad_fn=<MeanBackward0>)\n",
      "tensor(0.1108, grad_fn=<MeanBackward0>)\n",
      "tensor(0.1426, grad_fn=<MeanBackward0>)\n",
      "tensor(0.2240, grad_fn=<MeanBackward0>)\n",
      "tensor(0.2201, grad_fn=<MeanBackward0>)\n",
      "tensor(0.2329, grad_fn=<MeanBackward0>)\n",
      "tensor(0.2774, grad_fn=<MeanBackward0>)\n",
      "tensor(0.1487, grad_fn=<MeanBackward0>)\n",
      "tensor(0.1380, grad_fn=<MeanBackward0>)\n",
      "tensor(0.2060, grad_fn=<MeanBackward0>)\n",
      "tensor(0.1365, grad_fn=<MeanBackward0>)\n",
      "tensor(0.1097, grad_fn=<MeanBackward0>)\n",
      "tensor(0.1418, grad_fn=<MeanBackward0>)\n",
      "tensor(0.2237, grad_fn=<MeanBackward0>)\n",
      "tensor(0.2191, grad_fn=<MeanBackward0>)\n",
      "tensor(0.2332, grad_fn=<MeanBackward0>)\n"
     ]
    },
    {
     "name": "stderr",
     "output_type": "stream",
     "text": [
      "\n",
      "\n",
      "\n",
      " 94%|█████████████████████████████████████████████████████████████████████████▎    | 940/1000 [00:02<00:00, 326.11it/s]"
     ]
    },
    {
     "name": "stdout",
     "output_type": "stream",
     "text": [
      "tensor(0.2761, grad_fn=<MeanBackward0>)\n",
      "tensor(0.1481, grad_fn=<MeanBackward0>)\n",
      "tensor(0.1384, grad_fn=<MeanBackward0>)\n",
      "tensor(0.2062, grad_fn=<MeanBackward0>)\n",
      "tensor(0.1364, grad_fn=<MeanBackward0>)\n",
      "tensor(0.1086, grad_fn=<MeanBackward0>)\n",
      "tensor(0.1411, grad_fn=<MeanBackward0>)\n",
      "tensor(0.2228, grad_fn=<MeanBackward0>)\n",
      "tensor(0.2179, grad_fn=<MeanBackward0>)\n",
      "tensor(0.2334, grad_fn=<MeanBackward0>)\n",
      "tensor(0.2750, grad_fn=<MeanBackward0>)\n",
      "tensor(0.1474, grad_fn=<MeanBackward0>)\n",
      "tensor(0.1387, grad_fn=<MeanBackward0>)\n",
      "tensor(0.2064, grad_fn=<MeanBackward0>)\n",
      "tensor(0.1364, grad_fn=<MeanBackward0>)\n",
      "tensor(0.1076, grad_fn=<MeanBackward0>)\n",
      "tensor(0.1405, grad_fn=<MeanBackward0>)\n",
      "tensor(0.2220, grad_fn=<MeanBackward0>)\n",
      "tensor(0.2168, grad_fn=<MeanBackward0>)\n",
      "tensor(0.2336, grad_fn=<MeanBackward0>)\n",
      "tensor(0.2739, grad_fn=<MeanBackward0>)\n",
      "tensor(0.1469, grad_fn=<MeanBackward0>)\n",
      "tensor(0.1391, grad_fn=<MeanBackward0>)\n",
      "tensor(0.2066, grad_fn=<MeanBackward0>)\n",
      "tensor(0.1364, grad_fn=<MeanBackward0>)\n",
      "tensor(0.1067, grad_fn=<MeanBackward0>)\n",
      "tensor(0.1399, grad_fn=<MeanBackward0>)\n",
      "tensor(0.2211, grad_fn=<MeanBackward0>)\n",
      "tensor(0.2157, grad_fn=<MeanBackward0>)\n",
      "tensor(0.2339, grad_fn=<MeanBackward0>)\n",
      "tensor(0.2729, grad_fn=<MeanBackward0>)\n",
      "tensor(0.1463, grad_fn=<MeanBackward0>)\n",
      "tensor(0.1394, grad_fn=<MeanBackward0>)\n"
     ]
    },
    {
     "name": "stderr",
     "output_type": "stream",
     "text": [
      "\n",
      "\n",
      "\n",
      " 97%|███████████████████████████████████████████████████████████████████████████▉  | 973/1000 [00:03<00:00, 327.01it/s]"
     ]
    },
    {
     "name": "stdout",
     "output_type": "stream",
     "text": [
      "tensor(0.2066, grad_fn=<MeanBackward0>)\n",
      "tensor(0.1364, grad_fn=<MeanBackward0>)\n",
      "tensor(0.1058, grad_fn=<MeanBackward0>)\n",
      "tensor(0.1394, grad_fn=<MeanBackward0>)\n",
      "tensor(0.2202, grad_fn=<MeanBackward0>)\n",
      "tensor(0.2146, grad_fn=<MeanBackward0>)\n",
      "tensor(0.2341, grad_fn=<MeanBackward0>)\n",
      "tensor(0.2721, grad_fn=<MeanBackward0>)\n",
      "tensor(0.1458, grad_fn=<MeanBackward0>)\n",
      "tensor(0.1397, grad_fn=<MeanBackward0>)\n",
      "tensor(0.2059, grad_fn=<MeanBackward0>)\n",
      "tensor(0.1365, grad_fn=<MeanBackward0>)\n",
      "tensor(0.1050, grad_fn=<MeanBackward0>)\n",
      "tensor(0.1389, grad_fn=<MeanBackward0>)\n",
      "tensor(0.2192, grad_fn=<MeanBackward0>)\n",
      "tensor(0.2133, grad_fn=<MeanBackward0>)\n",
      "tensor(0.2335, grad_fn=<MeanBackward0>)\n",
      "tensor(0.2711, grad_fn=<MeanBackward0>)\n",
      "tensor(0.1452, grad_fn=<MeanBackward0>)\n",
      "tensor(0.1399, grad_fn=<MeanBackward0>)\n",
      "tensor(0.2050, grad_fn=<MeanBackward0>)\n",
      "tensor(0.1365, grad_fn=<MeanBackward0>)\n",
      "tensor(0.1042, grad_fn=<MeanBackward0>)\n",
      "tensor(0.1385, grad_fn=<MeanBackward0>)\n",
      "tensor(0.2179, grad_fn=<MeanBackward0>)\n",
      "tensor(0.2119, grad_fn=<MeanBackward0>)\n",
      "tensor(0.2326, grad_fn=<MeanBackward0>)\n",
      "tensor(0.2691, grad_fn=<MeanBackward0>)\n"
     ]
    },
    {
     "name": "stderr",
     "output_type": "stream",
     "text": [
      "\n",
      "\n",
      "\n",
      "100%|█████████████████████████████████████████████████████████████████████████████| 1000/1000 [00:03<00:00, 314.17it/s]"
     ]
    }
   ],
   "source": [
    "train()"
   ]
  },
  {
   "cell_type": "code",
   "execution_count": 294,
   "metadata": {},
   "outputs": [
    {
     "name": "stdout",
     "output_type": "stream",
     "text": [
      "Parameter containing:\n",
      "tensor([[-0.5154,  0.5064],\n",
      "        [-0.4271, -0.6083],\n",
      "        [ 0.3605,  0.4855],\n",
      "        [ 0.4849, -0.3776]], requires_grad=True)\n"
     ]
    }
   ],
   "source": [
    "print(net.SOM_layer)"
   ]
  },
  {
   "cell_type": "code",
   "execution_count": 295,
   "metadata": {},
   "outputs": [],
   "source": [
    "t = Variable(x[0:30,:])"
   ]
  },
  {
   "cell_type": "code",
   "execution_count": 296,
   "metadata": {},
   "outputs": [],
   "source": [
    "mask,index = net(t)"
   ]
  },
  {
   "cell_type": "code",
   "execution_count": 297,
   "metadata": {},
   "outputs": [
    {
     "name": "stdout",
     "output_type": "stream",
     "text": [
      "tensor([[-0.2482, -0.0183],\n",
      "        [-0.5811,  0.4649],\n",
      "        [ 0.2651,  0.8779],\n",
      "        [-0.9236,  0.1781],\n",
      "        [-0.4558, -0.6179],\n",
      "        [ 0.8128, -0.8141],\n",
      "        [ 0.0343,  0.7702],\n",
      "        [-0.6515,  0.4358],\n",
      "        [ 0.6286, -0.2264],\n",
      "        [-0.7297, -0.7144],\n",
      "        [ 0.0033,  0.3639],\n",
      "        [ 0.0313, -0.1684],\n",
      "        [-0.9364,  0.7031],\n",
      "        [-0.4996,  0.3105],\n",
      "        [-0.6468,  0.1440],\n",
      "        [-0.3446,  0.1056],\n",
      "        [ 0.8663, -0.3479],\n",
      "        [ 0.2766, -0.3012],\n",
      "        [ 0.1555, -0.5591],\n",
      "        [-0.5479,  0.7852],\n",
      "        [ 0.4759, -0.4999],\n",
      "        [ 0.0480,  0.9180],\n",
      "        [ 0.2658,  0.8724],\n",
      "        [ 0.1820,  0.1807],\n",
      "        [ 0.5025,  0.3723],\n",
      "        [ 0.0173,  0.0979],\n",
      "        [ 0.9150,  0.4223],\n",
      "        [-0.9687,  0.4475],\n",
      "        [-0.6129, -0.1055],\n",
      "        [ 0.1401, -0.8575]])\n"
     ]
    }
   ],
   "source": [
    "print(t)"
   ]
  },
  {
   "cell_type": "code",
   "execution_count": 298,
   "metadata": {},
   "outputs": [
    {
     "name": "stdout",
     "output_type": "stream",
     "text": [
      "torch.Size([4, 2])\n",
      "torch.Size([30, 4])\n"
     ]
    }
   ],
   "source": [
    "print(net.SOM_layer.shape)\n",
    "print(mask.shape)"
   ]
  },
  {
   "cell_type": "code",
   "execution_count": 299,
   "metadata": {},
   "outputs": [
    {
     "data": {
      "text/plain": [
       "tensor([[0.5889, 0.0000, 0.0000, 0.0000],\n",
       "        [0.0777, 0.0000, 0.0000, 0.0000],\n",
       "        [0.0000, 0.0000, 0.4038, 0.0000],\n",
       "        [0.5239, 0.0000, 0.0000, 0.0000],\n",
       "        [0.0000, 0.0303, 0.0000, 0.0000],\n",
       "        [0.0000, 0.0000, 0.0000, 0.5460],\n",
       "        [0.0000, 0.0000, 0.4330, 0.0000],\n",
       "        [0.1534, 0.0000, 0.0000, 0.0000],\n",
       "        [0.0000, 0.0000, 0.0000, 0.2086],\n",
       "        [0.0000, 0.3207, 0.0000, 0.0000],\n",
       "        [0.0000, 0.0000, 0.3773, 0.0000],\n",
       "        [0.0000, 0.0000, 0.0000, 0.4995],\n",
       "        [0.4646, 0.0000, 0.0000, 0.0000],\n",
       "        [0.1966, 0.0000, 0.0000, 0.0000],\n",
       "        [0.3855, 0.0000, 0.0000, 0.0000],\n",
       "        [0.4357, 0.0000, 0.0000, 0.0000],\n",
       "        [0.0000, 0.0000, 0.0000, 0.3826],\n",
       "        [0.0000, 0.0000, 0.0000, 0.2219],\n",
       "        [0.0000, 0.0000, 0.0000, 0.3762],\n",
       "        [0.2807, 0.0000, 0.0000, 0.0000],\n",
       "        [0.0000, 0.0000, 0.0000, 0.1227],\n",
       "        [0.0000, 0.0000, 0.5336, 0.0000],\n",
       "        [0.0000, 0.0000, 0.3983, 0.0000],\n",
       "        [0.0000, 0.0000, 0.3532, 0.0000],\n",
       "        [0.0000, 0.0000, 0.1817, 0.0000],\n",
       "        [0.0000, 0.0000, 0.5177, 0.0000],\n",
       "        [0.0000, 0.0000, 0.5582, 0.0000],\n",
       "        [0.4571, 0.0000, 0.0000, 0.0000],\n",
       "        [0.0000, 0.5361, 0.0000, 0.0000],\n",
       "        [0.0000, 0.0000, 0.0000, 0.5910]], grad_fn=<ThMulBackward>)"
      ]
     },
     "execution_count": 299,
     "metadata": {},
     "output_type": "execute_result"
    }
   ],
   "source": [
    "torch.cat([(((t-w)**2).sum(-1)**0.5).unsqueeze(-1) for w in net.SOM_layer],dim=-1)*mask"
   ]
  },
  {
   "cell_type": "code",
   "execution_count": 300,
   "metadata": {},
   "outputs": [
    {
     "data": {
      "text/plain": [
       "tensor([0, 0, 2, 0, 1, 3, 2, 0, 3, 1, 2, 3, 0, 0, 0, 0, 3, 3, 3, 0, 3, 2, 2, 2,\n",
       "        2, 2, 2, 0, 1, 3])"
      ]
     },
     "execution_count": 300,
     "metadata": {},
     "output_type": "execute_result"
    }
   ],
   "source": [
    "index"
   ]
  },
  {
   "cell_type": "code",
   "execution_count": 303,
   "metadata": {},
   "outputs": [],
   "source": [
    "distance = [(((t-w)**2).sum(-1)**0.5).unsqueeze(-1) for w in net.SOM_layer]\n",
    "distance = torch.cat(distance,dim=-1)\n",
    "_, index = distance.min(dim=1)"
   ]
  },
  {
   "cell_type": "code",
   "execution_count": 304,
   "metadata": {},
   "outputs": [
    {
     "data": {
      "text/plain": [
       "tensor([0, 0, 2, 0, 1, 3, 2, 0, 3, 1, 2, 3, 0, 0, 0, 0, 3, 3, 3, 0, 3, 2, 2, 2,\n",
       "        2, 2, 2, 0, 1, 3])"
      ]
     },
     "execution_count": 304,
     "metadata": {},
     "output_type": "execute_result"
    }
   ],
   "source": [
    "index"
   ]
  },
  {
   "cell_type": "code",
   "execution_count": 305,
   "metadata": {},
   "outputs": [
    {
     "data": {
      "text/plain": [
       "tensor([2, 4, 1, 4, 2, 3, 1, 4, 3, 2, 1, 3, 4, 4, 4, 4, 3, 3, 3, 4, 3, 1, 1, 1,\n",
       "        1, 1, 1, 4, 2, 3], dtype=torch.int32)"
      ]
     },
     "execution_count": 305,
     "metadata": {},
     "output_type": "execute_result"
    }
   ],
   "source": [
    "y[0:30]"
   ]
  },
  {
   "cell_type": "markdown",
   "metadata": {},
   "source": [
    "可以看到这里，基本上是0->4,2->1,3->3,1->2\n",
    "的聚类结果"
   ]
  },
  {
   "cell_type": "code",
   "execution_count": null,
   "metadata": {},
   "outputs": [],
   "source": []
  }
 ],
 "metadata": {
  "kernelspec": {
   "display_name": "Python 3",
   "language": "python",
   "name": "python3"
  },
  "language_info": {
   "codemirror_mode": {
    "name": "ipython",
    "version": 3
   },
   "file_extension": ".py",
   "mimetype": "text/x-python",
   "name": "python",
   "nbconvert_exporter": "python",
   "pygments_lexer": "ipython3",
   "version": "3.7.0"
  }
 },
 "nbformat": 4,
 "nbformat_minor": 2
}
