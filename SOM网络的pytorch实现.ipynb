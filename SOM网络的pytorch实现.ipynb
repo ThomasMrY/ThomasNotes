{
 "cells": [
  {
   "cell_type": "code",
   "execution_count": 35,
   "metadata": {},
   "outputs": [],
   "source": [
    "#SOM网络pytorch实现\n",
    "import numpy as np\n",
    "c1 = np.array([1,1])\n",
    "c2 = np.array([-1,-1])\n",
    "c3 = np.array([1,-1])\n",
    "c4 = np.array([-1,1])"
   ]
  },
  {
   "cell_type": "code",
   "execution_count": 36,
   "metadata": {},
   "outputs": [],
   "source": [
    "x1 = c1 + np.random.random_sample([100,2])-1\n",
    "x2 = c2 + np.random.random_sample([100,2])\n",
    "x3 = c3 + np.random.random_sample([100,2])-1\n",
    "x4 = c4 + np.random.random_sample([100,2])-1\n",
    "x3[:,1] = x3[:,1] + 1\n",
    "x4[:,0] = x4[:,0] + 1"
   ]
  },
  {
   "cell_type": "code",
   "execution_count": 37,
   "metadata": {},
   "outputs": [
    {
     "data": {
      "image/png": "[encoded data removed]",
      "text/plain": [
       "<Figure size 432x288 with 1 Axes>"
      ]
     },
     "metadata": {
      "needs_background": "light"
     },
     "output_type": "display_data"
    }
   ],
   "source": [
    "import matplotlib.pyplot as plt\n",
    "plt.plot(x1[:,0],x1[:,1],'b.')\n",
    "plt.plot(x2[:,0],x2[:,1],'r.')\n",
    "plt.plot(x3[:,0],x3[:,1],'g.')\n",
    "plt.plot(x4[:,0],x4[:,1],'k.')\n",
    "plt.show()"
   ]
  },
  {
   "cell_type": "code",
   "execution_count": 38,
   "metadata": {},
   "outputs": [],
   "source": [
    "x = np.concatenate((x1,x2,x3,x4))\n",
    "label = np.concatenate((np.array([1]*100),np.array([2]*100),np.array([3]*100),np.array([4]*100)))"
   ]
  },
  {
   "cell_type": "code",
   "execution_count": 39,
   "metadata": {},
   "outputs": [
    {
     "name": "stdout",
     "output_type": "stream",
     "text": [
      "(400, 2)\n",
      "(400,)\n"
     ]
    }
   ],
   "source": [
    "print(x.shape)\n",
    "print(label.shape)"
   ]
  },
  {
   "cell_type": "code",
   "execution_count": 40,
   "metadata": {},
   "outputs": [],
   "source": [
    "rng_state = np.random.get_state()\n",
    "np.random.shuffle(x)\n",
    "np.random.set_state(rng_state)\n",
    "np.random.shuffle(label)"
   ]
  },
  {
   "cell_type": "code",
   "execution_count": 41,
   "metadata": {},
   "outputs": [
    {
     "name": "stdout",
     "output_type": "stream",
     "text": [
      "tensor([ 0.6824, -0.9177])\n"
     ]
    }
   ],
   "source": [
    "import torch\n",
    "import torch.nn as nn\n",
    "x = torch.FloatTensor(x)\n",
    "y = torch.tensor(label)\n",
    "print(x[1])"
   ]
  },
  {
   "cell_type": "code",
   "execution_count": 42,
   "metadata": {},
   "outputs": [],
   "source": [
    "def kaiming_init(m):\n",
    "    if isinstance(m, (nn.Linear, nn.Conv2d)):\n",
    "        init.kaiming_normal(m.weight)\n",
    "        if m.bias is not None:\n",
    "            m.bias.data.fill_(0)\n",
    "    elif isinstance(m, (nn.BatchNorm1d, nn.BatchNorm2d)):\n",
    "        m.weight.data.fill_(1)\n",
    "        if m.bias is not None:\n",
    "            m.bias.data.fill_(0)\n",
    "def normal_init(m, mean, std):\n",
    "    if isinstance(m, (nn.Linear, nn.Conv2d)):\n",
    "        m.weight.data.normal_(mean, std)\n",
    "        if m.bias.data is not None:\n",
    "            m.bias.data.zero_()\n",
    "    elif isinstance(m, (nn.BatchNorm2d, nn.BatchNorm1d)):\n",
    "        m.weight.data.fill_(1)\n",
    "        if m.bias.data is not None:\n",
    "            m.bias.data.zero_()"
   ]
  },
  {
   "cell_type": "code",
   "execution_count": 252,
   "metadata": {},
   "outputs": [],
   "source": [
    "class SOM(nn.Module):\n",
    "    \"\"\"Model proposed in understanding beta-VAE paper(Burgess et al, arxiv:1804.03599, 2018).\"\"\"\n",
    "\n",
    "    def __init__(self):\n",
    "        super(SOM, self).__init__()\n",
    "        self.SOM_layer = nn.Parameter(torch.rand(4,2))\n",
    "        self.first = True\n",
    "        self.weight_init()\n",
    "\n",
    "    def weight_init(self):\n",
    "        for w in self.SOM_layer:\n",
    "            kaiming_init(w)\n",
    "    def forward(self, x, y = None):\n",
    "        if self.first is True:\n",
    "            self.SOM_layer.data = torch.cat([x.mean(0).unsqueeze(0)]*4,dim=0)+0.1*torch.rand(4,2)\n",
    "            self.first = False\n",
    "        distance = [(((x-w)**2).sum(-1)**0.5).unsqueeze(-1) for w in self.SOM_layer]\n",
    "        distance = torch.cat(distance,dim=-1)\n",
    "        if y is None:\n",
    "            _, index = distance.min(dim=1)\n",
    "        else:\n",
    "            index = y-1\n",
    "        mask = Variable(torch.eye(4).index_select(dim=0, index=index.data))\n",
    "\n",
    "        return mask, index"
   ]
  },
  {
   "cell_type": "code",
   "execution_count": 253,
   "metadata": {},
   "outputs": [],
   "source": [
    "from torch.utils.data import Dataset, DataLoader\n",
    "class CustomTensorDataset(Dataset):\n",
    "    def __init__(self, data_tensor, label_tensor):\n",
    "        self.data_tensor = data_tensor\n",
    "        self.label_tensor = label_tensor\n",
    "\n",
    "    def __getitem__(self, index):\n",
    "        return self.data_tensor[index],self.label_tensor[index]\n",
    "\n",
    "    def __len__(self):\n",
    "        return self.data_tensor.size(0)\n",
    "def return_data(it):\n",
    "    return x[10*(it-1):it*10,:],y[10*(it-1):it*10]"
   ]
  },
  {
   "cell_type": "code",
   "execution_count": 255,
   "metadata": {},
   "outputs": [],
   "source": [
    "from tqdm import tqdm\n",
    "from torch.autograd import Variable\n",
    "import torch.optim as optim\n",
    "net = SOM()\n",
    "\n",
    "def train():\n",
    "    optimizer = optim.Adam(net.parameters(), lr=10e-4,\n",
    "                                    betas=(0.9, 0.99))\n",
    "    print(\"training start!!!\")\n",
    "    global_iter = 0\n",
    "    it = 1\n",
    "    pbar = tqdm(total=1000)\n",
    "    pbar.update(global_iter)\n",
    "    for i in range(1000):\n",
    "        x_,y = return_data(it)\n",
    "        pbar.update(1)\n",
    "        if it == 10:\n",
    "            it = 1\n",
    "        else:\n",
    "            it += 1\n",
    "        global_iter += 1\n",
    "        x_ = Variable(x_)\n",
    "        y = Variable(y)\n",
    "        mask, index = net(x_)\n",
    "        cluster_loss = (torch.cat([(((x_-w)**2).sum(-1)).unsqueeze(-1) for w in net.SOM_layer],dim=-1)*mask).sum(1).mean(0)\n",
    "        optimizer.zero_grad()\n",
    "        cluster_loss.backward()\n",
    "        optimizer.step()\n",
    "    pbar.close()"
   ]
  },
  {
   "cell_type": "code",
   "execution_count": 256,
   "metadata": {},
   "outputs": [
    {
     "data": {
      "text/plain": [
       "torch.Size([400, 2])"
      ]
     },
     "execution_count": 256,
     "metadata": {},
     "output_type": "execute_result"
    }
   ],
   "source": [
    "x.shape"
   ]
  },
  {
   "cell_type": "code",
   "execution_count": 257,
   "metadata": {},
   "outputs": [
    {
     "name": "stdout",
     "output_type": "stream",
     "text": [
      "training start!!!\n"
     ]
    },
    {
     "name": "stderr",
     "output_type": "stream",
     "text": [
      "\n",
      "\n",
      "\n",
      "\n",
      "\n",
      "  0%|                                                                                         | 0/1000 [00:00<?, ?it/s]\n",
      "\n",
      "\n",
      "\n",
      "\n",
      " 16%|████████████                                                                 | 157/1000 [00:00<00:00, 1565.87it/s]\n",
      "\n",
      "\n",
      "\n",
      "\n",
      " 33%|█████████████████████████▎                                                   | 329/1000 [00:00<00:00, 1607.92it/s]\n",
      "\n",
      "\n",
      "\n",
      "\n",
      " 50%|██████████████████████████████████████▊                                      | 504/1000 [00:00<00:00, 1646.83it/s]\n",
      "\n",
      "\n",
      "\n",
      "\n",
      " 68%|████████████████████████████████████████████████████▋                        | 685/1000 [00:00<00:00, 1691.35it/s]\n",
      "\n",
      "\n",
      "\n",
      "\n",
      " 87%|██████████████████████████████████████████████████████████████████▊          | 867/1000 [00:00<00:00, 1726.68it/s]\n",
      "\n",
      "\n",
      "\n",
      "\n",
      "100%|████████████████████████████████████████████████████████████████████████████| 1000/1000 [00:00<00:00, 1725.52it/s]"
     ]
    }
   ],
   "source": [
    "train()"
   ]
  },
  {
   "cell_type": "code",
   "execution_count": 258,
   "metadata": {},
   "outputs": [
    {
     "name": "stdout",
     "output_type": "stream",
     "text": [
      "Parameter containing:\n",
      "tensor([[ 0.2974,  0.4295],\n",
      "        [-0.6174, -0.3616],\n",
      "        [ 0.3303, -0.5044],\n",
      "        [-0.6791,  0.5775]], requires_grad=True)\n"
     ]
    }
   ],
   "source": [
    "print(net.SOM_layer)"
   ]
  },
  {
   "cell_type": "code",
   "execution_count": 259,
   "metadata": {},
   "outputs": [],
   "source": [
    "t = Variable(x)"
   ]
  },
  {
   "cell_type": "code",
   "execution_count": 260,
   "metadata": {},
   "outputs": [],
   "source": [
    "mask,index = net(t)"
   ]
  },
  {
   "cell_type": "code",
   "execution_count": 261,
   "metadata": {},
   "outputs": [
    {
     "name": "stdout",
     "output_type": "stream",
     "text": [
      "tensor([[-0.8278, -0.0241],\n",
      "        [ 0.6824, -0.9177],\n",
      "        [-0.6851,  0.8486],\n",
      "        [-0.9046,  0.9694],\n",
      "        [ 0.1630, -0.5054],\n",
      "        [-0.9428,  0.3229],\n",
      "        [-0.0110, -0.8066],\n",
      "        [-0.1697,  0.5600],\n",
      "        [-0.7821, -0.7359],\n",
      "        [-0.4868,  0.7081],\n",
      "        [-0.1584,  0.5184],\n",
      "        [-0.1585, -0.9237],\n",
      "        [ 0.7563, -0.1593],\n",
      "        [-0.3272, -0.0689],\n",
      "        [-0.4920, -0.8587],\n",
      "        [-0.7372, -0.2388],\n",
      "        [-0.6846,  0.6307],\n",
      "        [-0.5881,  0.2466],\n",
      "        [-0.9577,  0.8292],\n",
      "        [-0.5457, -0.8680],\n",
      "        [-0.9637, -0.1503],\n",
      "        [ 0.6216, -0.7430],\n",
      "        [-0.2576,  0.0906],\n",
      "        [ 0.9477,  0.9109],\n",
      "        [-0.3584,  0.4710],\n",
      "        [ 0.2038,  0.9495],\n",
      "        [ 0.6540, -0.0466],\n",
      "        [ 0.4316, -0.9174],\n",
      "        [ 0.8259,  0.0187],\n",
      "        [-0.2784,  0.9989],\n",
      "        [-0.0420,  0.0783],\n",
      "        [ 0.2860, -0.2770],\n",
      "        [-0.0059, -0.4913],\n",
      "        [ 0.1889,  0.8240],\n",
      "        [ 0.7576,  0.1044],\n",
      "        [-0.3518, -0.3406],\n",
      "        [-0.7229,  0.7517],\n",
      "        [-0.6322,  0.7110],\n",
      "        [ 0.0561,  0.1390],\n",
      "        [-0.3308,  0.5430],\n",
      "        [ 0.9545,  0.8535],\n",
      "        [-0.0557, -0.4134],\n",
      "        [-0.8472,  0.4438],\n",
      "        [-0.1168, -0.2253],\n",
      "        [-0.8413,  0.2338],\n",
      "        [ 0.8327, -0.8095],\n",
      "        [-0.5492,  0.3365],\n",
      "        [-0.6728, -0.1326],\n",
      "        [-0.0841,  0.4034],\n",
      "        [ 0.1655,  0.9463],\n",
      "        [-0.4622, -0.8391],\n",
      "        [ 0.9506,  0.3303],\n",
      "        [-0.9666,  0.5679],\n",
      "        [ 0.9046, -0.0848],\n",
      "        [ 0.9187, -0.0786],\n",
      "        [-0.4314,  0.9768],\n",
      "        [ 0.9966, -0.6195],\n",
      "        [ 0.5682,  0.0751],\n",
      "        [-0.4072,  0.7818],\n",
      "        [-0.9258,  0.9648],\n",
      "        [-0.6204, -0.5028],\n",
      "        [-0.8044, -0.0590],\n",
      "        [ 0.0150, -0.1785],\n",
      "        [-0.5143, -0.3726],\n",
      "        [-0.7782, -0.2311],\n",
      "        [ 0.6898,  0.0565],\n",
      "        [-0.7105,  0.0543],\n",
      "        [-0.1005,  0.6149],\n",
      "        [-0.4912, -0.5686],\n",
      "        [ 0.9093, -0.2451],\n",
      "        [-0.9948,  0.0240],\n",
      "        [ 0.4174,  0.2802],\n",
      "        [-0.1547, -0.1452],\n",
      "        [ 0.6429, -0.9247],\n",
      "        [-0.8845,  0.4759],\n",
      "        [-0.5197,  0.8352],\n",
      "        [ 0.3426,  0.1217],\n",
      "        [ 0.9845,  0.2813],\n",
      "        [-0.5381, -0.4876],\n",
      "        [-0.3854, -0.5156],\n",
      "        [-0.9171,  0.3708],\n",
      "        [-0.8782,  0.2359],\n",
      "        [-0.8131,  0.2488],\n",
      "        [ 0.9994, -0.6176],\n",
      "        [ 0.2077, -0.7493],\n",
      "        [ 0.0111,  0.5763],\n",
      "        [-0.8947, -0.7858],\n",
      "        [ 0.1818,  0.1485],\n",
      "        [ 0.2360, -0.2967],\n",
      "        [-0.6546,  0.6832],\n",
      "        [ 0.3753,  0.9478],\n",
      "        [ 0.5709, -0.7994],\n",
      "        [-0.7902,  0.4363],\n",
      "        [ 0.6806, -0.5073],\n",
      "        [ 0.7416,  0.0641],\n",
      "        [ 0.2018, -0.6252],\n",
      "        [ 0.1858, -0.9242],\n",
      "        [-0.3561,  0.3157],\n",
      "        [ 0.5028,  0.2473],\n",
      "        [ 0.4138,  0.9788],\n",
      "        [ 0.7763, -0.9756],\n",
      "        [ 0.4363, -0.8475],\n",
      "        [-0.2647,  0.9020],\n",
      "        [-0.8156,  0.2304],\n",
      "        [ 0.7981, -0.9921],\n",
      "        [-0.4467, -0.0809],\n",
      "        [ 0.7851,  0.0948],\n",
      "        [ 0.3615,  0.4402],\n",
      "        [-0.9877, -0.6689],\n",
      "        [ 0.9980,  0.7640],\n",
      "        [-0.3696, -0.3543],\n",
      "        [-0.1481,  0.8766],\n",
      "        [ 0.9486,  0.2620],\n",
      "        [ 0.1991, -0.2476],\n",
      "        [ 0.0691,  0.5194],\n",
      "        [ 0.8039, -0.2151],\n",
      "        [-0.5761,  0.9466],\n",
      "        [-0.7883,  0.7431],\n",
      "        [ 0.7577, -0.3148],\n",
      "        [ 0.2623, -0.4952],\n",
      "        [ 0.3458,  0.5348],\n",
      "        [ 0.9870, -0.2265],\n",
      "        [-0.9232,  0.0548],\n",
      "        [ 0.1608, -0.7426],\n",
      "        [ 0.0722,  0.2454],\n",
      "        [ 0.0969, -0.6267],\n",
      "        [ 0.9167, -0.8100],\n",
      "        [ 0.3172, -0.6404],\n",
      "        [ 0.0235, -0.7779],\n",
      "        [ 0.7341, -0.0073],\n",
      "        [-0.0883, -0.1299],\n",
      "        [-0.6189,  0.6161],\n",
      "        [-0.3084, -0.2684],\n",
      "        [-0.8189, -0.3454],\n",
      "        [ 0.3424,  0.1080],\n",
      "        [-0.5702,  0.9896],\n",
      "        [-0.0886, -0.7455],\n",
      "        [-0.1832, -0.7199],\n",
      "        [-0.0807,  0.1507],\n",
      "        [-0.1705,  0.4754],\n",
      "        [-0.3997, -0.4005],\n",
      "        [-0.4299,  0.3322],\n",
      "        [ 0.2728, -0.4378],\n",
      "        [ 0.5019, -0.7808],\n",
      "        [ 0.7699,  0.7566],\n",
      "        [-0.2768, -0.4388],\n",
      "        [ 0.9218,  0.2521],\n",
      "        [ 0.7618, -0.3843],\n",
      "        [-0.5943,  0.2633],\n",
      "        [ 0.9107, -0.6897],\n",
      "        [-0.4500, -0.0923],\n",
      "        [-0.8633,  0.4589],\n",
      "        [-0.6179, -0.8021],\n",
      "        [ 0.9249,  0.8223],\n",
      "        [-0.7166,  0.4981],\n",
      "        [ 0.7362,  0.2050],\n",
      "        [ 0.4398, -0.1912],\n",
      "        [-0.6577,  0.0522],\n",
      "        [ 0.7620,  0.5954],\n",
      "        [ 0.3370,  0.5004],\n",
      "        [ 0.8795,  0.2921],\n",
      "        [ 0.0553, -0.8010],\n",
      "        [ 0.0537,  0.5309],\n",
      "        [-0.6645, -0.4074],\n",
      "        [-0.0128,  0.8702],\n",
      "        [ 0.3597, -0.1329],\n",
      "        [ 0.1479,  0.3672],\n",
      "        [ 0.2261,  0.1459],\n",
      "        [ 0.0301,  0.4908],\n",
      "        [-0.1073,  0.4336],\n",
      "        [ 0.9011,  0.2859],\n",
      "        [ 0.8724,  0.7171],\n",
      "        [-0.1098, -0.3287],\n",
      "        [-0.2097,  0.3209],\n",
      "        [ 0.5801,  0.2456],\n",
      "        [-0.7788,  0.8440],\n",
      "        [ 0.9952,  0.2455],\n",
      "        [-0.5873, -0.2698],\n",
      "        [-0.7352,  0.9847],\n",
      "        [ 0.4511,  0.9416],\n",
      "        [ 0.7531,  0.7531],\n",
      "        [ 0.2852, -0.3869],\n",
      "        [-0.2125, -0.5719],\n",
      "        [-0.6042, -0.2858],\n",
      "        [ 0.2435, -0.1922],\n",
      "        [ 0.9883, -0.2016],\n",
      "        [-0.2860, -0.7997],\n",
      "        [ 0.2381, -0.9614],\n",
      "        [-0.8483,  0.7052],\n",
      "        [-0.7115,  0.9577],\n",
      "        [ 0.1683, -0.4171],\n",
      "        [ 0.7392, -0.0357],\n",
      "        [-0.0923, -0.3943],\n",
      "        [-0.1271, -0.2254],\n",
      "        [ 0.4626,  0.5149],\n",
      "        [-0.7952, -0.0995],\n",
      "        [ 0.1931,  0.0995],\n",
      "        [-0.6975,  0.3728],\n",
      "        [ 0.2449,  0.8718],\n",
      "        [ 0.2074, -0.5795],\n",
      "        [ 0.4275,  0.4659],\n",
      "        [-0.1957,  0.9616],\n",
      "        [-0.1519, -0.0420],\n",
      "        [ 0.2437, -0.2012],\n",
      "        [ 0.8230, -0.1776],\n",
      "        [ 0.5394,  0.2957],\n",
      "        [-0.5709, -0.7536],\n",
      "        [ 0.4702, -0.2029],\n",
      "        [-0.7027,  0.5813],\n",
      "        [-0.9815, -0.7370],\n",
      "        [-0.6018,  0.3193],\n",
      "        [ 0.9551,  0.0430],\n",
      "        [-0.9995,  0.3828],\n",
      "        [ 0.6547,  0.8875],\n",
      "        [-0.3095,  0.1175],\n",
      "        [ 0.0675, -0.9211],\n",
      "        [-0.7164, -0.7876],\n",
      "        [-0.5874,  0.2042],\n",
      "        [ 0.5771,  0.7357],\n",
      "        [ 0.7746,  0.7857],\n",
      "        [-0.3372, -0.0743],\n",
      "        [ 0.0125, -0.5161],\n",
      "        [ 0.9165, -0.7187],\n",
      "        [ 0.8892, -0.2332],\n",
      "        [-0.8227,  0.2295],\n",
      "        [ 0.6740,  0.3385],\n",
      "        [ 0.1975,  0.3466],\n",
      "        [ 0.5402, -0.4507],\n",
      "        [ 0.3499,  0.7839],\n",
      "        [-0.2985, -0.2465],\n",
      "        [ 0.0482,  0.2206],\n",
      "        [-0.0810, -0.6618],\n",
      "        [ 0.3277, -0.5542],\n",
      "        [-0.4777,  0.7240],\n",
      "        [ 0.3020, -0.2342],\n",
      "        [ 0.2089, -0.4191],\n",
      "        [-0.0630,  0.8797],\n",
      "        [-0.5358, -0.8377],\n",
      "        [ 0.7752,  0.2023],\n",
      "        [-0.6556,  0.4957],\n",
      "        [-0.6234, -0.2251],\n",
      "        [-0.2729,  0.2861],\n",
      "        [ 0.8223, -0.3010],\n",
      "        [-0.5226,  0.7501],\n",
      "        [-0.3902, -0.3824],\n",
      "        [-0.2772,  0.7089],\n",
      "        [ 0.3229, -0.4909],\n",
      "        [-0.2297,  0.8524],\n",
      "        [-0.7601, -0.4288],\n",
      "        [-0.7950,  0.0918],\n",
      "        [ 0.8803, -0.8606],\n",
      "        [-0.2752, -0.4574],\n",
      "        [ 0.2481, -0.6092],\n",
      "        [-0.1411, -0.3253],\n",
      "        [ 0.8490, -0.3839],\n",
      "        [-0.8543, -0.8083],\n",
      "        [ 0.5092, -0.5430],\n",
      "        [ 0.8007, -0.2763],\n",
      "        [ 0.6391,  0.3506],\n",
      "        [-0.1057, -0.9747],\n",
      "        [ 0.1410,  0.5855],\n",
      "        [ 0.3459, -0.5185],\n",
      "        [ 0.7457,  0.2078],\n",
      "        [-0.8894,  0.8554],\n",
      "        [ 0.3593, -0.3230],\n",
      "        [ 0.3575, -0.1307],\n",
      "        [ 0.7372, -0.5393],\n",
      "        [-0.1341,  0.6022],\n",
      "        [-0.6630,  0.6195],\n",
      "        [-0.5216,  0.2786],\n",
      "        [-0.3462,  0.5998],\n",
      "        [-0.8765, -0.0076],\n",
      "        [ 0.6758, -0.0108],\n",
      "        [-0.8449, -0.5885],\n",
      "        [-0.1506,  0.5165],\n",
      "        [ 0.0223,  0.7752],\n",
      "        [-0.7199,  0.3299],\n",
      "        [ 0.5112, -0.8345],\n",
      "        [ 0.9757, -0.4504],\n",
      "        [-0.1080, -0.2963],\n",
      "        [-0.7472, -0.8512],\n",
      "        [ 0.9035, -0.1645],\n",
      "        [ 0.4097, -0.3697],\n",
      "        [-0.2107,  0.1337],\n",
      "        [ 0.0440,  0.6312],\n",
      "        [ 0.7132,  0.8287],\n",
      "        [-0.0308, -0.7740],\n",
      "        [ 0.6176, -0.3370],\n",
      "        [ 0.3489,  0.2709],\n",
      "        [-0.2263,  0.9580],\n",
      "        [ 0.5762,  0.2627],\n",
      "        [ 0.5378,  0.6097],\n",
      "        [-0.3264, -0.6389],\n",
      "        [ 0.0778, -0.8212],\n",
      "        [-0.1255, -0.0877],\n",
      "        [ 0.8981,  0.0490],\n",
      "        [-0.4511, -0.5238],\n",
      "        [ 0.2053,  0.3972],\n",
      "        [ 0.6115,  0.6517],\n",
      "        [ 0.2301, -0.1492],\n",
      "        [-0.9101,  0.2734],\n",
      "        [ 0.8397,  0.2488],\n",
      "        [-0.2648, -0.3056],\n",
      "        [ 0.8490,  0.2754],\n",
      "        [ 0.2299, -0.1314],\n",
      "        [ 0.8163,  0.0421],\n",
      "        [-0.7875, -0.6662],\n",
      "        [-0.4699,  0.6512],\n",
      "        [-0.0250, -0.7483],\n",
      "        [ 0.8818, -0.2633],\n",
      "        [ 0.1544, -0.3428],\n",
      "        [ 0.9574,  0.1673],\n",
      "        [-0.9547, -0.7696],\n",
      "        [ 0.0946,  0.6484],\n",
      "        [-0.7502, -0.6754],\n",
      "        [-0.0366,  0.4301],\n",
      "        [-0.9866,  0.6750],\n",
      "        [-0.2421, -0.8127],\n",
      "        [-0.9459,  0.9891],\n",
      "        [ 0.3690,  0.8049],\n",
      "        [-0.5302, -0.0011],\n",
      "        [ 0.7690,  0.8934],\n",
      "        [ 0.0850,  0.1472],\n",
      "        [-0.9379,  0.3437],\n",
      "        [ 0.8087, -0.3369],\n",
      "        [ 0.1244,  0.4258],\n",
      "        [-0.0819, -0.0923],\n",
      "        [-0.8011,  0.0844],\n",
      "        [ 0.2498,  0.5227],\n",
      "        [ 0.2601, -0.5288],\n",
      "        [ 0.4201,  0.8580],\n",
      "        [-0.3011, -0.0611],\n",
      "        [ 0.4068, -0.0772],\n",
      "        [ 0.6194,  0.1223],\n",
      "        [ 0.9551, -0.2275],\n",
      "        [-0.6972,  0.6333],\n",
      "        [ 0.6892,  0.8884],\n",
      "        [ 0.8537,  0.8448],\n",
      "        [-0.7792, -0.5942],\n",
      "        [ 0.7007, -0.7115],\n",
      "        [-0.1099,  0.5045],\n",
      "        [-0.4984, -0.9510],\n",
      "        [-0.6418,  0.2632],\n",
      "        [-0.5511, -0.3916],\n",
      "        [-0.5183,  0.3093],\n",
      "        [ 0.4149,  0.0003],\n",
      "        [-0.5020, -0.2723],\n",
      "        [ 0.0892, -0.1541],\n",
      "        [-0.5504, -0.7767],\n",
      "        [ 0.0405, -0.8959],\n",
      "        [ 0.9531,  0.2618],\n",
      "        [-0.1460, -0.6880],\n",
      "        [ 0.3384,  0.4184],\n",
      "        [-0.3057, -0.7610],\n",
      "        [-0.8662,  0.2146],\n",
      "        [-0.4967, -0.8381],\n",
      "        [-0.0186,  0.0906],\n",
      "        [ 0.3057, -0.8023],\n",
      "        [ 0.2184, -0.9730],\n",
      "        [-0.3291, -0.7665],\n",
      "        [ 0.0033, -0.8588],\n",
      "        [ 0.4556, -0.1923],\n",
      "        [-0.7160, -0.7146],\n",
      "        [ 0.0927,  0.1625],\n",
      "        [ 0.4291, -0.5852],\n",
      "        [-0.0252, -0.6244],\n",
      "        [-0.8097,  0.0014],\n",
      "        [-0.8535, -0.0197],\n",
      "        [-0.6942, -0.8463],\n",
      "        [ 0.0923,  0.6393],\n",
      "        [-0.5387, -0.6106],\n",
      "        [-0.1394, -0.1269],\n",
      "        [ 0.4877,  0.9086],\n",
      "        [-0.4907, -0.3191],\n",
      "        [ 0.5788,  0.0525],\n",
      "        [ 0.2223, -0.1774],\n",
      "        [-0.2570,  0.5974],\n",
      "        [ 0.2175,  0.1221],\n",
      "        [ 0.2867, -0.5361],\n",
      "        [-0.4908, -0.8332],\n",
      "        [ 0.7553,  0.5299],\n",
      "        [-0.6196, -0.3098],\n",
      "        [ 0.0480, -0.3473],\n",
      "        [ 0.6904,  0.8140],\n",
      "        [ 0.0989,  0.3960],\n",
      "        [-0.0215,  0.8346],\n",
      "        [-0.5709, -0.1803],\n",
      "        [-0.1232,  0.1077],\n",
      "        [ 0.0332,  0.3399],\n",
      "        [ 0.7800,  0.9645],\n",
      "        [-0.7764, -0.3289],\n",
      "        [ 0.7584, -0.3447],\n",
      "        [-0.6710, -0.1879],\n",
      "        [ 0.1331, -0.8288],\n",
      "        [ 0.4043,  0.4225],\n",
      "        [ 0.1675, -0.1751],\n",
      "        [-0.7184, -0.4451],\n",
      "        [-0.8916,  0.9348],\n",
      "        [-0.3240, -0.8035],\n"
     ]
    },
    {
     "name": "stdout",
     "output_type": "stream",
     "text": [
      "        [ 0.4210,  0.7316]])\n"
     ]
    }
   ],
   "source": [
    "print(t)"
   ]
  },
  {
   "cell_type": "code",
   "execution_count": 262,
   "metadata": {},
   "outputs": [
    {
     "name": "stdout",
     "output_type": "stream",
     "text": [
      "torch.Size([4, 2])\n",
      "torch.Size([400, 4])\n"
     ]
    }
   ],
   "source": [
    "print(net.SOM_layer.shape)\n",
    "print(mask.shape)"
   ]
  },
  {
   "cell_type": "code",
   "execution_count": 263,
   "metadata": {},
   "outputs": [
    {
     "data": {
      "text/plain": [
       "tensor([[0.0000, 0.3977, 0.0000, 0.0000],\n",
       "        [0.0000, 0.0000, 0.5430, 0.0000],\n",
       "        [0.0000, 0.0000, 0.0000, 0.2711],\n",
       "        ...,\n",
       "        [0.0000, 0.0000, 0.0000, 0.4157],\n",
       "        [0.0000, 0.5305, 0.0000, 0.0000],\n",
       "        [0.3265, 0.0000, 0.0000, 0.0000]], grad_fn=<ThMulBackward>)"
      ]
     },
     "execution_count": 263,
     "metadata": {},
     "output_type": "execute_result"
    }
   ],
   "source": [
    "torch.cat([(((t-w)**2).sum(-1)**0.5).unsqueeze(-1) for w in net.SOM_layer],dim=-1)*mask"
   ]
  },
  {
   "cell_type": "code",
   "execution_count": 264,
   "metadata": {},
   "outputs": [
    {
     "data": {
      "text/plain": [
       "tensor([-0.0039,  0.0075])"
      ]
     },
     "execution_count": 264,
     "metadata": {},
     "output_type": "execute_result"
    }
   ],
   "source": [
    "x.mean(0)"
   ]
  },
  {
   "cell_type": "code",
   "execution_count": 265,
   "metadata": {},
   "outputs": [],
   "source": [
    "distance = [(((t-w)**2).sum(-1)**0.5).unsqueeze(-1) for w in net.SOM_layer]\n",
    "distance = torch.cat(distance,dim=-1)\n",
    "_, index = distance.min(dim=1)"
   ]
  },
  {
   "cell_type": "code",
   "execution_count": 266,
   "metadata": {},
   "outputs": [
    {
     "data": {
      "text/plain": [
       "tensor([1, 2, 3, 3, 2, 3, 2, 0, 1, 3, 0, 2, 2, 1, 1, 1, 3, 3, 3, 1, 1, 2, 1, 0,\n",
       "        3, 0, 2, 2, 0, 3, 0, 2, 2, 0, 0, 1, 3, 3, 0, 3, 0, 2, 3, 1, 3, 2, 3, 1,\n",
       "        0, 0, 1, 0, 3, 2, 2, 3, 2, 0, 3, 3, 1, 1, 2, 1, 1, 0, 1, 0, 1, 2, 1, 0,\n",
       "        1, 2, 3, 3, 0, 0, 1, 1, 3, 3, 3, 2, 2, 0, 1, 0, 2, 3, 0, 2, 3, 2, 0, 2,\n",
       "        2, 3, 0, 0, 2, 2, 3, 3, 2, 1, 0, 0, 1, 0, 1, 3, 0, 2, 0, 2, 3, 3, 2, 2,\n",
       "        0, 2, 1, 2, 0, 2, 2, 2, 2, 0, 2, 3, 1, 1, 0, 3, 2, 2, 0, 0, 1, 3, 2, 2,\n",
       "        0, 1, 0, 2, 3, 2, 1, 3, 1, 0, 3, 0, 2, 1, 0, 0, 0, 2, 0, 1, 0, 2, 0, 0,\n",
       "        0, 0, 0, 0, 2, 0, 0, 3, 0, 1, 3, 0, 0, 2, 1, 1, 2, 2, 1, 2, 3, 3, 2, 2,\n",
       "        2, 1, 0, 1, 0, 3, 0, 2, 0, 3, 1, 2, 2, 0, 1, 2, 3, 1, 3, 0, 3, 0, 1, 2,\n",
       "        1, 3, 0, 0, 1, 2, 2, 2, 3, 0, 0, 2, 0, 1, 0, 2, 2, 3, 2, 2, 0, 1, 0, 3,\n",
       "        1, 3, 2, 3, 1, 3, 2, 3, 1, 1, 2, 1, 2, 1, 2, 1, 2, 2, 0, 2, 0, 2, 0, 3,\n",
       "        2, 2, 2, 0, 3, 3, 3, 1, 0, 1, 0, 0, 3, 2, 2, 2, 1, 2, 2, 0, 0, 0, 2, 2,\n",
       "        0, 3, 0, 0, 1, 2, 1, 0, 1, 0, 0, 2, 3, 0, 1, 0, 2, 0, 1, 3, 2, 2, 2, 0,\n",
       "        1, 0, 1, 0, 3, 1, 3, 0, 1, 0, 0, 3, 2, 0, 2, 1, 0, 2, 0, 1, 2, 0, 2, 3,\n",
       "        0, 0, 1, 2, 0, 1, 3, 1, 3, 0, 1, 2, 1, 2, 0, 2, 0, 1, 3, 1, 0, 2, 2, 1,\n",
       "        2, 2, 1, 0, 2, 2, 1, 1, 1, 0, 1, 1, 0, 1, 0, 2, 3, 0, 2, 1, 0, 1, 2, 0,\n",
       "        0, 0, 1, 0, 0, 0, 1, 2, 1, 2, 0, 2, 1, 3, 1, 0])"
      ]
     },
     "execution_count": 266,
     "metadata": {},
     "output_type": "execute_result"
    }
   ],
   "source": [
    "index"
   ]
  },
  {
   "cell_type": "code",
   "execution_count": 267,
   "metadata": {},
   "outputs": [
    {
     "data": {
      "text/plain": [
       "400"
      ]
     },
     "execution_count": 267,
     "metadata": {},
     "output_type": "execute_result"
    }
   ],
   "source": [
    "y.shape[0]"
   ]
  },
  {
   "cell_type": "markdown",
   "metadata": {},
   "source": [
    "可以看到这里，基本上是0->4,2->1,3->3,1->2\n",
    "的聚类结果"
   ]
  },
  {
   "cell_type": "code",
   "execution_count": 268,
   "metadata": {},
   "outputs": [
    {
     "data": {
      "image/png": "[encoded data removed]",
      "text/plain": [
       "<Figure size 432x288 with 1 Axes>"
      ]
     },
     "metadata": {
      "needs_background": "light"
     },
     "output_type": "display_data"
    }
   ],
   "source": [
    "import matplotlib.pyplot as plt\n",
    "for i in range(y.shape[0]):\n",
    "    if index[i] == 0:\n",
    "        plt.plot(x[i,0],x[i,1],'b.')\n",
    "    elif index[i] == 1:\n",
    "        plt.plot(x[i,0],x[i,1],'r.')\n",
    "    elif index[i] == 2:\n",
    "        plt.plot(x[i,0],x[i,1],'g.')\n",
    "    else:\n",
    "        plt.plot(x[i,0],x[i,1],'k.')\n",
    "plt.show()"
   ]
  },
  {
   "cell_type": "code",
   "execution_count": null,
   "metadata": {},
   "outputs": [],
   "source": []
  }
 ],
 "metadata": {
  "kernelspec": {
   "display_name": "Python 3",
   "language": "python",
   "name": "python3"
  },
  "language_info": {
   "codemirror_mode": {
    "name": "ipython",
    "version": 3
   },
   "file_extension": ".py",
   "mimetype": "text/x-python",
   "name": "python",
   "nbconvert_exporter": "python",
   "pygments_lexer": "ipython3",
   "version": "3.7.0"
  }
 },
 "nbformat": 4,
 "nbformat_minor": 2
}
