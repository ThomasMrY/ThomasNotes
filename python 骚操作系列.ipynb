{
 "cells": [
  {
   "cell_type": "code",
   "execution_count": 1,
   "metadata": {},
   "outputs": [],
   "source": [
    "def f1(arg):\n",
    "    print (\"f1\")\n",
    "    rl = arg()\n",
    "    print (rl)\n",
    "    return rl + \"f1\""
   ]
  },
  {
   "cell_type": "code",
   "execution_count": 12,
   "metadata": {},
   "outputs": [
    {
     "name": "stdout",
     "output_type": "stream",
     "text": [
      "f1\n",
      "kkk\n",
      "f2r\n"
     ]
    }
   ],
   "source": [
    "@f1\n",
    "def f2(arg = \"\"):\n",
    "    print (\"kkk\")\n",
    "    return arg + \"f2r\""
   ]
  },
  {
   "cell_type": "code",
   "execution_count": 13,
   "metadata": {},
   "outputs": [
    {
     "name": "stdout",
     "output_type": "stream",
     "text": [
      "start\n",
      "f2rf1\n"
     ]
    }
   ],
   "source": [
    "print (\"start\")\n",
    "print (f2)\n",
    "#按ptyhon自带说明， 这里@符作符相当于 f1(f2()) 。但是从输出可以看出，这个运算其实在开始 import 时就已经在执行了，这也就是 f1 f2 f2r这几行会在 start 之前就出现的原因。而当运行到代码时，其实 f2函数已经不存在了， f2 在这里已经变成一个字符串了， 这就是后面 #print f2(“1”) 会出错的原因，"
   ]
  },
  {
   "cell_type": "code",
   "execution_count": 14,
   "metadata": {},
   "outputs": [],
   "source": [
    "#print f2(\"1\") 出错\n",
    "#print f1(None)\n",
    "#也就是说，实际上前面那些个 @ 操作符完成了这么一个操作： \n",
    "#f2 = f1(f2()) \n",
    "class myDecorator(object):\n",
    "\n",
    "    def __init__(self, f):\n",
    "        print (\"inside myDecorator.__init__()\")\n",
    "        self.f = f\n",
    "\n",
    "    def __call__(self):\n",
    "        print (\"inside myDecorator.__call__()\")\n",
    "        self.f()"
   ]
  },
  {
   "cell_type": "code",
   "execution_count": 15,
   "metadata": {},
   "outputs": [
    {
     "name": "stdout",
     "output_type": "stream",
     "text": [
      "inside myDecorator.__init__()\n"
     ]
    }
   ],
   "source": [
    "@myDecorator\n",
    "def aFunction():\n",
    "    print (\"inside aFunction()\")"
   ]
  },
  {
   "cell_type": "code",
   "execution_count": 16,
   "metadata": {},
   "outputs": [
    {
     "name": "stdout",
     "output_type": "stream",
     "text": [
      "Finished decorating aFunction()\n",
      "inside myDecorator.__call__()\n",
      "inside aFunction()\n"
     ]
    }
   ],
   "source": [
    "print (\"Finished decorating aFunction()\")\n",
    "\n",
    "aFunction()"
   ]
  },
  {
   "cell_type": "code",
   "execution_count": 22,
   "metadata": {},
   "outputs": [],
   "source": [
    "#以上，初始化时 aFunction 会变成myDecorator类的一个实例，通过重载()操作符的办法，这样子aFunction实际上就变成了myDecorator.()操作了。于是从外型上看，这还是一个普通的函数的调用，但其实暗地里你可以做出很多不为人知的操作的……\n",
    "def entryExit(f):\n",
    "    print(\"__init__\")\n",
    "    def new_f():\n",
    "        print (\"Entering\", f.__name__)\n",
    "        f()\n",
    "        print (\"Exited\", f.__name__)\n",
    "    return new_f"
   ]
  },
  {
   "cell_type": "code",
   "execution_count": 23,
   "metadata": {},
   "outputs": [
    {
     "name": "stdout",
     "output_type": "stream",
     "text": [
      "__init__\n"
     ]
    }
   ],
   "source": [
    "@entryExit\n",
    "def func1():\n",
    "    print (\"inside func1()\")"
   ]
  },
  {
   "cell_type": "code",
   "execution_count": 24,
   "metadata": {},
   "outputs": [
    {
     "name": "stdout",
     "output_type": "stream",
     "text": [
      "Entering func1\n",
      "inside func1()\n",
      "Exited func1\n"
     ]
    }
   ],
   "source": [
    "func1()"
   ]
  },
  {
   "cell_type": "code",
   "execution_count": 43,
   "metadata": {},
   "outputs": [],
   "source": [
    "class C:\n",
    "    def __init__(self):\n",
    "          self.__x=None\n",
    "    def getx(self):\n",
    "        return self.__x\n",
    "    def setx(self,value):\n",
    "        self.__x=value\n",
    "    def delx(self):\n",
    "        del self.__x\n",
    "        x=property(getx,setx,delx,'')"
   ]
  },
  {
   "cell_type": "code",
   "execution_count": 44,
   "metadata": {},
   "outputs": [],
   "source": [
    "class C:\n",
    "    def __init__(self):\n",
    "        self.__x=None\n",
    "    @property\n",
    "    def x(self):\n",
    "        return self.__x\n",
    "    @x.setter\n",
    "    def x(self,value):\n",
    "        self.__x=value\n",
    "    @x.deleter\n",
    "    def x(self):\n",
    "        del self.__x"
   ]
  },
  {
   "cell_type": "code",
   "execution_count": 54,
   "metadata": {},
   "outputs": [],
   "source": [
    "a = C()\n",
    "a.x = 10\n",
    "y=a.x\n",
    "del a.x"
   ]
  },
  {
   "cell_type": "code",
   "execution_count": 55,
   "metadata": {},
   "outputs": [
    {
     "name": "stdout",
     "output_type": "stream",
     "text": [
      "10\n"
     ]
    }
   ],
   "source": [
    "print(a.x)"
   ]
  },
  {
   "cell_type": "code",
   "execution_count": 56,
   "metadata": {},
   "outputs": [],
   "source": [
    "########################################################################\n",
    "class Person(object):\n",
    "    \"\"\"\"\"\"\n",
    " \n",
    "    #----------------------------------------------------------------------\n",
    "    def __init__(self, first_name, last_name):\n",
    "        \"\"\"Constructor\"\"\"\n",
    "        self.first_name = first_name\n",
    "        self.last_name = last_name\n",
    " \n",
    "    #----------------------------------------------------------------------\n",
    "    @property\n",
    "    def full_name(self):\n",
    "        \"\"\"\n",
    "        Return the full name\n",
    "        \"\"\"\n",
    "        return \"%s %s\" % (self.first_name, self.last_name)"
   ]
  },
  {
   "cell_type": "code",
   "execution_count": 57,
   "metadata": {},
   "outputs": [],
   "source": [
    "yt = Person(\"Tao\",\"Yang\")"
   ]
  },
  {
   "cell_type": "code",
   "execution_count": 58,
   "metadata": {},
   "outputs": [
    {
     "data": {
      "text/plain": [
       "'Tao'"
      ]
     },
     "execution_count": 58,
     "metadata": {},
     "output_type": "execute_result"
    }
   ],
   "source": [
    "yt.first_name"
   ]
  },
  {
   "cell_type": "code",
   "execution_count": 59,
   "metadata": {},
   "outputs": [
    {
     "data": {
      "text/plain": [
       "'Yang'"
      ]
     },
     "execution_count": 59,
     "metadata": {},
     "output_type": "execute_result"
    }
   ],
   "source": [
    "yt.last_name"
   ]
  },
  {
   "cell_type": "code",
   "execution_count": 60,
   "metadata": {},
   "outputs": [
    {
     "data": {
      "text/plain": [
       "'Tao Yang'"
      ]
     },
     "execution_count": 60,
     "metadata": {},
     "output_type": "execute_result"
    }
   ],
   "source": [
    "yt.full_name"
   ]
  },
  {
   "cell_type": "code",
   "execution_count": 61,
   "metadata": {},
   "outputs": [],
   "source": [
    "yt.last_name = \"Wang\""
   ]
  },
  {
   "cell_type": "code",
   "execution_count": 62,
   "metadata": {},
   "outputs": [
    {
     "data": {
      "text/plain": [
       "'Tao Wang'"
      ]
     },
     "execution_count": 62,
     "metadata": {},
     "output_type": "execute_result"
    }
   ],
   "source": [
    "yt.full_name"
   ]
  },
  {
   "cell_type": "code",
   "execution_count": 63,
   "metadata": {},
   "outputs": [],
   "source": [
    "from decimal import Decimal\n",
    " \n",
    "########################################################################\n",
    "class Fees(object):\n",
    "    \"\"\"\"\"\"\n",
    " \n",
    "    #----------------------------------------------------------------------\n",
    "    def __init__(self):\n",
    "        \"\"\"Constructor\"\"\"\n",
    "        self._fee = None\n",
    " \n",
    "    #----------------------------------------------------------------------\n",
    "    def get_fee(self):\n",
    "        \"\"\"\n",
    "        Return the current fee\n",
    "        \"\"\"\n",
    "        return self._fee\n",
    " \n",
    "    #----------------------------------------------------------------------\n",
    "    def set_fee(self, value):\n",
    "        \"\"\"\n",
    "        Set the fee\n",
    "        \"\"\"\n",
    "        if isinstance(value, str):\n",
    "            self._fee = Decimal(value)\n",
    "        elif isinstance(value, Decimal):\n",
    "            self._fee = value"
   ]
  },
  {
   "cell_type": "code",
   "execution_count": 64,
   "metadata": {},
   "outputs": [
    {
     "data": {
      "text/plain": [
       "Decimal('1')"
      ]
     },
     "execution_count": 64,
     "metadata": {},
     "output_type": "execute_result"
    }
   ],
   "source": [
    "f = Fees()\n",
    "f.set_fee(\"1\")\n",
    "f.get_fee()"
   ]
  },
  {
   "cell_type": "code",
   "execution_count": 65,
   "metadata": {},
   "outputs": [],
   "source": [
    "from decimal import Decimal\n",
    " \n",
    "########################################################################\n",
    "class Fees(object):\n",
    "    \"\"\"\"\"\"\n",
    " \n",
    "    #----------------------------------------------------------------------\n",
    "    def __init__(self):\n",
    "        \"\"\"Constructor\"\"\"\n",
    "        self._fee = None\n",
    " \n",
    "    #----------------------------------------------------------------------\n",
    "    def get_fee(self):\n",
    "        \"\"\"\n",
    "        Return the current fee\n",
    "        \"\"\"\n",
    "        return self._fee\n",
    " \n",
    "    #----------------------------------------------------------------------\n",
    "    def set_fee(self, value):\n",
    "        \"\"\"\n",
    "        Set the fee\n",
    "        \"\"\"\n",
    "        if isinstance(value, str):\n",
    "            self._fee = Decimal(value)\n",
    "        elif isinstance(value, Decimal):\n",
    "            self._fee = value\n",
    "    fee = property(get_fee, set_fee)"
   ]
  },
  {
   "cell_type": "code",
   "execution_count": 66,
   "metadata": {},
   "outputs": [
    {
     "data": {
      "text/plain": [
       "Decimal('1')"
      ]
     },
     "execution_count": 66,
     "metadata": {},
     "output_type": "execute_result"
    }
   ],
   "source": [
    "f = Fees()\n",
    "f.set_fee(\"1\")\n",
    "f.get_fee()"
   ]
  },
  {
   "cell_type": "code",
   "execution_count": 11,
   "metadata": {},
   "outputs": [],
   "source": [
    "def log_call(func):\n",
    "    def proxy(*args, **kwargs):\n",
    "        print('begin call')\n",
    "        result = func(*args, **kwargs)\n",
    "        print('call done')\n",
    "        return result\n",
    "    return proxy\n",
    "@log_call\n",
    "def work_bar(data):\n",
    "    return data"
   ]
  },
  {
   "cell_type": "code",
   "execution_count": 12,
   "metadata": {},
   "outputs": [
    {
     "name": "stdout",
     "output_type": "stream",
     "text": [
      "begin call\n",
      "call done\n"
     ]
    },
    {
     "data": {
      "text/plain": [
       "111"
      ]
     },
     "execution_count": 12,
     "metadata": {},
     "output_type": "execute_result"
    }
   ],
   "source": [
    "work_bar(111)"
   ]
  },
  {
   "cell_type": "code",
   "execution_count": null,
   "metadata": {},
   "outputs": [],
   "source": []
  }
 ],
 "metadata": {
  "kernelspec": {
   "display_name": "Python 3",
   "language": "python",
   "name": "python3"
  },
  "language_info": {
   "codemirror_mode": {
    "name": "ipython",
    "version": 3
   },
   "file_extension": ".py",
   "mimetype": "text/x-python",
   "name": "python",
   "nbconvert_exporter": "python",
   "pygments_lexer": "ipython3",
   "version": "3.7.0"
  }
 },
 "nbformat": 4,
 "nbformat_minor": 2
}
