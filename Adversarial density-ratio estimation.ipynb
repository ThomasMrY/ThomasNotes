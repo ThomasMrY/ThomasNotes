{
 "cells": [
  {
   "cell_type": "markdown",
   "metadata": {},
   "source": [
    "# 用Adversarial density-ratio estimation估计KL的学习\n",
    "Given a convex function $f$ for which $f(1) = 0$, the $f-$divergence between $p_x$ and $p_y$ is defined as\n",
    "$$D_f(p_x||p_y) = \\int f({\\frac{p_x(x)}{p_y(x)}}) p_x(x)dx$$\n",
    "For example, the choice $f(t) = tlog t$ corresponds to $D_f (p_{x}p_y) = D_{KL}(p_{x}p_y)$. Given samples\n",
    "from $p_x$ and $p_y$ we can estimate the $f-$divergence using the density-ratio trick , popularized\n",
    "recently through the generative adversarial network (GAN) framework. The trick is to express\n",
    "$p_x$ and $p_y$ as conditional distributions, conditioned on a label $c \\in \\{0, 1\\}$, and reduce the task to\n",
    "binary classification. In particular, let $p_x(x) = p(x|c = 1)$, $p_y(x) = p(x|c = 0)$, and consider a\n",
    "discriminator $Sη$ trained to predict the probability that its input is a sample from distributions px\n",
    "rather than py, i.e, predict $p(c = 1|x)$. The density ratio can be expressed as\n",
    "$$\\frac{p_x(x)}{p_y(x)} = \\frac{p(x|c = 1)}{p(x|c = 0)} = \\frac{p(c = 1|x)}{p(c = 0|x)} = \\frac{Sη(x)}{1-Sη(x)}$$\n",
    "where the second equality follows from Bayes’ rule under the assumption that the marginal class\n",
    "probabilities are equal. As such, given N i.i.d. samples $\\{x^{(i)}\\}^N_{i=1}$ from $p_x$ and a trained classifier$Sη$ one can estimate the KL-divergence by simply computing\n",
    "$$D_{KL}(p_x(x)||p_y(x)) = \\frac{1}{N}\\sum_{i=0}^{N}log\\frac{Sη(x^{(i)})}{1-Sη(x^{(i)})}$$\n",
    "As a practical alternative, some approaches replace the KL term in (1) with an arbitrary divergence\n",
    "(e.g., maximum mean discrepancy). Note, however, that the resulting objective does not necessarily\n",
    "lower-bound the marginal log-likelihood of the data.\n",
    "![image](Images/2019_3_13_1.png)"
   ]
  },
  {
   "cell_type": "markdown",
   "metadata": {},
   "source": [
    "现在，我们假设要估计的两个分布是高斯分布，均值方差如下："
   ]
  },
  {
   "cell_type": "code",
   "execution_count": 28,
   "metadata": {},
   "outputs": [
    {
     "data": {
      "image/png": "[encoded data removed]",
      "text/plain": [
       "<Figure size 432x288 with 1 Axes>"
      ]
     },
     "metadata": {
      "needs_background": "light"
     },
     "output_type": "display_data"
    }
   ],
   "source": [
    "import numpy as np\n",
    "import matplotlib.pyplot as plt\n",
    "mu1 = 10\n",
    "sigma1 = 10\n",
    "mu2 = 1\n",
    "sigma2 = 30\n",
    "x = np.linspace(-90,90,1000)\n",
    "y1 = 1/(np.sqrt(2*np.pi)*sigma1)*np.exp(-0.5*(x-mu1)**2/sigma1**2)\n",
    "y2 = 1/(np.sqrt(2*np.pi)*sigma2)*np.exp(-0.5*(x-mu2)**2/sigma2**2)\n",
    "plt.plot(x,y1,'b')\n",
    "plt.plot(x,y2,'r')\n",
    "plt.show()"
   ]
  },
  {
   "cell_type": "markdown",
   "metadata": {},
   "source": [
    "## 理论计算两个高斯分布的KL散度\n",
    "如果两个分布都是高斯分布，kl散度可以使用下面的公式计算:\n",
    "$$ D_{KL}(p_1||p_2) = log\\frac{\\sigma_2}{\\sigma_1} + \\frac{\\sigma_1^2 + (\\mu_1 - \\mu_2)^2}{2\\sigma_2^2}-\\frac{1}{2}$$"
   ]
  },
  {
   "cell_type": "code",
   "execution_count": 46,
   "metadata": {},
   "outputs": [
    {
     "name": "stdout",
     "output_type": "stream",
     "text": [
      "0.6991678442236653\n"
     ]
    }
   ],
   "source": [
    "KL = np.log(sigma2/sigma1) + (sigma1**2+(mu1-mu2)**2)/(2*sigma2**2) - 0.5\n",
    "print(KL)"
   ]
  },
  {
   "cell_type": "code",
   "execution_count": 30,
   "metadata": {},
   "outputs": [],
   "source": [
    "#接下来对两个分布进行采样\n",
    "import torch\n",
    "e1 = np.random.normal(size=1000)\n",
    "s1 = mu1 + e1*sigma1\n",
    "e2 = np.random.normal(size=1000)\n",
    "s2 = mu2 + e2*sigma2"
   ]
  },
  {
   "cell_type": "markdown",
   "metadata": {},
   "source": [
    "我们建立一个两层的神经网络来模拟一个判别器"
   ]
  },
  {
   "cell_type": "code",
   "execution_count": 31,
   "metadata": {},
   "outputs": [],
   "source": [
    "import torch.nn as nn\n",
    "import torch.nn.init as init\n",
    "def kaiming_init(m):\n",
    "    if isinstance(m, (nn.Linear, nn.Conv2d)):\n",
    "        init.kaiming_normal(m.weight)\n",
    "        if m.bias is not None:\n",
    "            m.bias.data.fill_(0)\n",
    "    elif isinstance(m, (nn.BatchNorm1d, nn.BatchNorm2d)):\n",
    "        m.weight.data.fill_(1)\n",
    "        if m.bias is not None:\n",
    "            m.bias.data.fill_(0)\n",
    "class Discriminator(nn.Module):\n",
    "    \"\"\"Model proposed in understanding beta-VAE paper(Burgess et al, arxiv:1804.03599, 2018).\"\"\"\n",
    "\n",
    "    def __init__(self):\n",
    "        super(Discriminator, self).__init__()\n",
    "        self.layers = nn.Sequential(\n",
    "            nn.Linear(1, 100),               # B, 256\n",
    "            nn.ReLU(True),\n",
    "            nn.Linear(100, 1),                 # B, 256\n",
    "            nn.Sigmoid(),\n",
    "        )\n",
    "        self.weight_init()\n",
    "\n",
    "    def weight_init(self):\n",
    "        for block in self._modules:\n",
    "            for m in self._modules[block]:\n",
    "                kaiming_init(m)\n",
    "    def forward(self, x):\n",
    "        v = self.layers(x)\n",
    "        return v"
   ]
  },
  {
   "cell_type": "code",
   "execution_count": 32,
   "metadata": {},
   "outputs": [],
   "source": [
    "x = np.concatenate((s1,s2))\n",
    "y = np.concatenate((np.array([1]*1000),np.array([0]*1000)))\n",
    "rng_state = np.random.get_state()\n",
    "np.random.shuffle(x)\n",
    "np.random.set_state(rng_state)\n",
    "np.random.shuffle(y)\n",
    "x = torch.FloatTensor(x).unsqueeze(1)\n",
    "y = torch.FloatTensor(y).unsqueeze(1)\n",
    "def return_data(it):\n",
    "    return x[100*(it-1):it*100,:],y[100*(it-1):it*100]"
   ]
  },
  {
   "cell_type": "code",
   "execution_count": 41,
   "metadata": {},
   "outputs": [
    {
     "name": "stderr",
     "output_type": "stream",
     "text": [
      "C:\\Users\\v-tayan\\AppData\\Local\\Continuum\\anaconda3\\lib\\site-packages\\ipykernel_launcher.py:5: UserWarning: nn.init.kaiming_normal is now deprecated in favor of nn.init.kaiming_normal_.\n",
      "  \"\"\"\n"
     ]
    }
   ],
   "source": [
    "from tqdm import tqdm\n",
    "from torch.autograd import Variable\n",
    "import torch.optim as optim\n",
    "import torch.nn.functional as F\n",
    "net = Discriminator()\n",
    "criterion = nn.BCELoss()\n",
    "def train():\n",
    "    optimizer = optim.Adam(net.parameters(), lr=10e-4,\n",
    "                                    betas=(0.9, 0.99))\n",
    "    print(\"training start!!!\")\n",
    "    global_iter = 0\n",
    "    it = 1\n",
    "    pbar = tqdm(total=5000)\n",
    "    pbar.update(global_iter)\n",
    "    for i in range(5000):\n",
    "        x_,y_ = return_data(it)\n",
    "        pbar.update(1)\n",
    "        if it == 10:\n",
    "            it = 1\n",
    "        else:\n",
    "            it += 1\n",
    "        global_iter += 1\n",
    "        x_ = Variable(x_)\n",
    "        y_ = Variable(y_)\n",
    "        value = net(x_)\n",
    "        adv_loss = criterion(value,y_)\n",
    "        optimizer.zero_grad()\n",
    "        adv_loss.backward()\n",
    "        optimizer.step()\n",
    "    pbar.close()"
   ]
  },
  {
   "cell_type": "code",
   "execution_count": 47,
   "metadata": {},
   "outputs": [
    {
     "name": "stdout",
     "output_type": "stream",
     "text": [
      "training start!!!\n"
     ]
    },
    {
     "name": "stderr",
     "output_type": "stream",
     "text": [
      "\n",
      "  0%|                                                                                         | 0/5000 [00:00<?, ?it/s]\n",
      "  5%|███▊                                                                         | 244/5000 [00:00<00:01, 2433.38it/s]\n",
      " 10%|███████▉                                                                     | 516/5000 [00:00<00:01, 2512.56it/s]\n",
      " 16%|███████████▉                                                                 | 776/5000 [00:00<00:01, 2536.17it/s]\n",
      " 21%|███████████████▊                                                            | 1039/5000 [00:00<00:01, 2561.59it/s]\n",
      " 26%|███████████████████▊                                                        | 1303/5000 [00:00<00:01, 2582.60it/s]\n",
      " 31%|███████████████████████▎                                                    | 1533/5000 [00:00<00:01, 2488.65it/s]\n",
      " 35%|██████████████████████████▊                                                 | 1760/5000 [00:00<00:01, 2416.70it/s]\n",
      " 40%|██████████████████████████████▌                                             | 2007/5000 [00:00<00:01, 2430.55it/s]\n",
      " 45%|██████████████████████████████████▎                                         | 2256/5000 [00:00<00:01, 2446.17it/s]\n",
      " 50%|█████████████████████████████████████▉                                      | 2498/5000 [00:01<00:01, 2436.30it/s]\n",
      " 55%|█████████████████████████████████████████▊                                  | 2753/5000 [00:01<00:00, 2467.43it/s]\n",
      " 60%|█████████████████████████████████████████████▊                              | 3014/5000 [00:01<00:00, 2506.62it/s]\n",
      " 65%|█████████████████████████████████████████████████▋                          | 3270/5000 [00:01<00:00, 2520.42it/s]\n",
      " 71%|█████████████████████████████████████████████████████▊                      | 3540/5000 [00:01<00:00, 2569.78it/s]\n",
      " 76%|█████████████████████████████████████████████████████████▉                  | 3810/5000 [00:01<00:00, 2605.51it/s]\n",
      " 81%|█████████████████████████████████████████████████████████████▊              | 4070/5000 [00:01<00:00, 2586.21it/s]\n",
      " 87%|█████████████████████████████████████████████████████████████████▊          | 4329/5000 [00:01<00:00, 2566.03it/s]\n",
      " 92%|█████████████████████████████████████████████████████████████████████▊      | 4589/5000 [00:01<00:00, 2574.10it/s]\n",
      " 97%|█████████████████████████████████████████████████████████████████████████▋  | 4847/5000 [00:01<00:00, 2573.82it/s]\n",
      "100%|████████████████████████████████████████████████████████████████████████████| 5000/5000 [00:01<00:00, 2537.42it/s]"
     ]
    }
   ],
   "source": [
    "train()"
   ]
  },
  {
   "cell_type": "code",
   "execution_count": 48,
   "metadata": {},
   "outputs": [
    {
     "data": {
      "text/plain": [
       "tensor(-1.1185, grad_fn=<DivBackward0>)"
      ]
     },
     "execution_count": 48,
     "metadata": {},
     "output_type": "execute_result"
    }
   ],
   "source": [
    "index = net(x)\n",
    "(index/(1-index)).log().sum()/2000"
   ]
  },
  {
   "cell_type": "code",
   "execution_count": null,
   "metadata": {},
   "outputs": [],
   "source": []
  }
 ],
 "metadata": {
  "kernelspec": {
   "display_name": "Python 3",
   "language": "python",
   "name": "python3"
  },
  "language_info": {
   "codemirror_mode": {
    "name": "ipython",
    "version": 3
   },
   "file_extension": ".py",
   "mimetype": "text/x-python",
   "name": "python",
   "nbconvert_exporter": "python",
   "pygments_lexer": "ipython3",
   "version": "3.7.0"
  }
 },
 "nbformat": 4,
 "nbformat_minor": 2
}
