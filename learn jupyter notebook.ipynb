{
 "cells": [
  {
   "cell_type": "code",
   "execution_count": 1,
   "metadata": {},
   "outputs": [],
   "source": [
    "!cd ../"
   ]
  },
  {
   "cell_type": "code",
   "execution_count": 4,
   "metadata": {},
   "outputs": [
    {
     "name": "stdout",
     "output_type": "stream",
     "text": [
      "\n",
      "Pinging www.wshifen.com [119.63.197.139] with 32 bytes of data:\n",
      "Reply from 119.63.197.139: bytes=32 time=67ms TTL=46\n",
      "Reply from 119.63.197.139: bytes=32 time=67ms TTL=46\n",
      "Reply from 119.63.197.139: bytes=32 time=67ms TTL=46\n",
      "Reply from 119.63.197.139: bytes=32 time=67ms TTL=46\n",
      "\n",
      "Ping statistics for 119.63.197.139:\n",
      "    Packets: Sent = 4, Received = 4, Lost = 0 (0% loss),\n",
      "Approximate round trip times in milli-seconds:\n",
      "    Minimum = 67ms, Maximum = 67ms, Average = 67ms\n"
     ]
    }
   ],
   "source": [
    "!ping www.baidu.com"
   ]
  },
  {
   "cell_type": "code",
   "execution_count": 5,
   "metadata": {},
   "outputs": [
    {
     "name": "stdout",
     "output_type": "stream",
     "text": [
      "\"hello world\" \n"
     ]
    }
   ],
   "source": [
    "!echo \"hello world\" "
   ]
  },
  {
   "cell_type": "code",
   "execution_count": 6,
   "metadata": {},
   "outputs": [
    {
     "name": "stdout",
     "output_type": "stream",
     "text": [
      " Volume in drive C is OS\n",
      " Volume Serial Number is 34E5-EBF8\n",
      "\n",
      " Directory of C:\\Users\\v-tayan\\Notebooks\n",
      "\n",
      "03/22/2019  02:18 PM    <DIR>          .\n",
      "03/22/2019  02:18 PM    <DIR>          ..\n",
      "03/05/2019  09:15 PM    <DIR>          .idea\n",
      "03/22/2019  02:16 PM    <DIR>          .ipynb_checkpoints\n",
      "03/14/2019  03:47 PM            30,058 Adversarial density-ratio estimation.ipynb\n",
      "03/15/2019  09:53 AM            99,844 Gumbel distribution learning.ipynb\n",
      "03/20/2019  12:26 PM    <DIR>          Images\n",
      "02/27/2019  05:18 PM            12,008 python ?????.ipynb\n",
      "03/06/2019  07:38 PM               838 README.md\n",
      "03/08/2019  05:27 PM           337,707 SOM??.ipynb\n",
      "03/14/2019  08:50 PM            70,691 SOM???pytorch??.ipynb\n",
      "03/13/2019  07:06 PM           102,929 Untitled.ipynb\n",
      "03/13/2019  10:18 PM               580 Untitled1.ipynb\n",
      "03/15/2019  04:10 PM             6,725 Untitled2.ipynb\n",
      "03/22/2019  02:18 PM             1,767 Untitled3.ipynb\n",
      "03/20/2019  12:59 PM           131,070 weibull distribution learning.ipynb\n",
      "03/06/2019  07:33 PM            13,200 ??????????.ipynb\n",
      "              12 File(s)        807,417 bytes\n",
      "               5 Dir(s)  54,751,612,928 bytes free\n"
     ]
    }
   ],
   "source": [
    "!dir"
   ]
  },
  {
   "cell_type": "code",
   "execution_count": 7,
   "metadata": {},
   "outputs": [
    {
     "name": "stdout",
     "output_type": "stream",
     "text": [
      "[' Volume in drive C is OS', ' Volume Serial Number is 34E5-EBF8', '', ' Directory of C:\\\\Users\\\\v-tayan\\\\Notebooks', '', '03/22/2019  02:18 PM    <DIR>          .', '03/22/2019  02:18 PM    <DIR>          ..', '03/05/2019  09:15 PM    <DIR>          .idea', '03/22/2019  02:16 PM    <DIR>          .ipynb_checkpoints', '03/14/2019  03:47 PM            30,058 Adversarial density-ratio estimation.ipynb', '03/15/2019  09:53 AM            99,844 Gumbel distribution learning.ipynb', '03/20/2019  12:26 PM    <DIR>          Images', '02/27/2019  05:18 PM            12,008 python ?????.ipynb', '03/06/2019  07:38 PM               838 README.md', '03/08/2019  05:27 PM           337,707 SOM??.ipynb', '03/14/2019  08:50 PM            70,691 SOM???pytorch??.ipynb', '03/13/2019  07:06 PM           102,929 Untitled.ipynb', '03/13/2019  10:18 PM               580 Untitled1.ipynb', '03/15/2019  04:10 PM             6,725 Untitled2.ipynb', '03/22/2019  02:18 PM             1,767 Untitled3.ipynb', '03/20/2019  12:59 PM           131,070 weibull distribution learning.ipynb', '03/06/2019  07:33 PM            13,200 ??????????.ipynb', '              12 File(s)        807,417 bytes', '               5 Dir(s)  54,750,810,112 bytes free']\n"
     ]
    }
   ],
   "source": [
    "files = !dir\n",
    "print(files)"
   ]
  },
  {
   "cell_type": "code",
   "execution_count": 8,
   "metadata": {},
   "outputs": [
    {
     "name": "stdout",
     "output_type": "stream",
     "text": [
      "Collecting jupyterthemes\n",
      "  Downloading https://files.pythonhosted.org/packages/8a/08/9dee6dfd7f2aad6c30282d55c8f495b4dc1e4747b4e2bdbeb80572ddf312/jupyterthemes-0.20.0-py2.py3-none-any.whl (7.0MB)\n",
      "Requirement already satisfied: matplotlib>=1.4.3 in c:\\users\\v-tayan\\appdata\\local\\continuum\\anaconda3\\lib\\site-packages (from jupyterthemes) (2.2.3)\n",
      "Requirement already satisfied: notebook>=5.6.0 in c:\\users\\v-tayan\\appdata\\local\\continuum\\anaconda3\\lib\\site-packages (from jupyterthemes) (5.6.0)\n",
      "Requirement already satisfied: jupyter-core in c:\\users\\v-tayan\\appdata\\local\\continuum\\anaconda3\\lib\\site-packages (from jupyterthemes) (4.4.0)\n",
      "Requirement already satisfied: ipython>=5.4.1 in c:\\users\\v-tayan\\appdata\\local\\continuum\\anaconda3\\lib\\site-packages (from jupyterthemes) (7.2.0)\n",
      "Collecting lesscpy>=0.11.2 (from jupyterthemes)\n",
      "  Downloading https://files.pythonhosted.org/packages/10/d0/fdd9874972e07ae8727a3d26b433891d8605b96999ea99bbf506e756a7b1/lesscpy-0.13.0-py2.py3-none-any.whl (48kB)\n",
      "Requirement already satisfied: numpy>=1.7.1 in c:\\users\\v-tayan\\appdata\\local\\continuum\\anaconda3\\lib\\site-packages (from matplotlib>=1.4.3->jupyterthemes) (1.15.4)\n",
      "Requirement already satisfied: cycler>=0.10 in c:\\users\\v-tayan\\appdata\\local\\continuum\\anaconda3\\lib\\site-packages (from matplotlib>=1.4.3->jupyterthemes) (0.10.0)\n",
      "Requirement already satisfied: pyparsing!=2.0.4,!=2.1.2,!=2.1.6,>=2.0.1 in c:\\users\\v-tayan\\appdata\\local\\continuum\\anaconda3\\lib\\site-packages (from matplotlib>=1.4.3->jupyterthemes) (2.2.0)\n",
      "Requirement already satisfied: python-dateutil>=2.1 in c:\\users\\v-tayan\\appdata\\local\\continuum\\anaconda3\\lib\\site-packages (from matplotlib>=1.4.3->jupyterthemes) (2.7.5)\n",
      "Requirement already satisfied: pytz in c:\\users\\v-tayan\\appdata\\local\\continuum\\anaconda3\\lib\\site-packages (from matplotlib>=1.4.3->jupyterthemes) (2018.5)\n",
      "Requirement already satisfied: six>=1.10 in c:\\users\\v-tayan\\appdata\\local\\continuum\\anaconda3\\lib\\site-packages (from matplotlib>=1.4.3->jupyterthemes) (1.11.0)\n",
      "Requirement already satisfied: kiwisolver>=1.0.1 in c:\\users\\v-tayan\\appdata\\local\\continuum\\anaconda3\\lib\\site-packages (from matplotlib>=1.4.3->jupyterthemes) (1.0.1)\n",
      "Requirement already satisfied: terminado>=0.8.1 in c:\\users\\v-tayan\\appdata\\local\\continuum\\anaconda3\\lib\\site-packages (from notebook>=5.6.0->jupyterthemes) (0.8.1)\n",
      "Requirement already satisfied: traitlets>=4.2.1 in c:\\users\\v-tayan\\appdata\\local\\continuum\\anaconda3\\lib\\site-packages (from notebook>=5.6.0->jupyterthemes) (4.3.2)\n",
      "Requirement already satisfied: tornado>=4 in c:\\users\\v-tayan\\appdata\\local\\continuum\\anaconda3\\lib\\site-packages (from notebook>=5.6.0->jupyterthemes) (5.1)\n",
      "Requirement already satisfied: Send2Trash in c:\\users\\v-tayan\\appdata\\local\\continuum\\anaconda3\\lib\\site-packages (from notebook>=5.6.0->jupyterthemes) (1.5.0)\n",
      "Requirement already satisfied: nbconvert in c:\\users\\v-tayan\\appdata\\local\\continuum\\anaconda3\\lib\\site-packages (from notebook>=5.6.0->jupyterthemes) (5.4.0)\n",
      "Requirement already satisfied: jinja2 in c:\\users\\v-tayan\\appdata\\local\\continuum\\anaconda3\\lib\\site-packages (from notebook>=5.6.0->jupyterthemes) (2.10)\n",
      "Requirement already satisfied: ipython-genutils in c:\\users\\v-tayan\\appdata\\local\\continuum\\anaconda3\\lib\\site-packages (from notebook>=5.6.0->jupyterthemes) (0.2.0)\n",
      "Requirement already satisfied: prometheus-client in c:\\users\\v-tayan\\appdata\\local\\continuum\\anaconda3\\lib\\site-packages (from notebook>=5.6.0->jupyterthemes) (0.3.1)\n",
      "Requirement already satisfied: jupyter-client>=5.2.0 in c:\\users\\v-tayan\\appdata\\local\\continuum\\anaconda3\\lib\\site-packages (from notebook>=5.6.0->jupyterthemes) (5.2.3)\n",
      "Requirement already satisfied: pyzmq>=17 in c:\\users\\v-tayan\\appdata\\local\\continuum\\anaconda3\\lib\\site-packages (from notebook>=5.6.0->jupyterthemes) (17.1.2)\n",
      "Requirement already satisfied: ipykernel in c:\\users\\v-tayan\\appdata\\local\\continuum\\anaconda3\\lib\\site-packages (from notebook>=5.6.0->jupyterthemes) (4.10.0)\n",
      "Requirement already satisfied: nbformat in c:\\users\\v-tayan\\appdata\\local\\continuum\\anaconda3\\lib\\site-packages (from notebook>=5.6.0->jupyterthemes) (4.4.0)\n",
      "Requirement already satisfied: backcall in c:\\users\\v-tayan\\appdata\\local\\continuum\\anaconda3\\lib\\site-packages (from ipython>=5.4.1->jupyterthemes) (0.1.0)\n",
      "Requirement already satisfied: colorama; sys_platform == \"win32\" in c:\\users\\v-tayan\\appdata\\local\\continuum\\anaconda3\\lib\\site-packages (from ipython>=5.4.1->jupyterthemes) (0.3.9)\n",
      "Requirement already satisfied: decorator in c:\\users\\v-tayan\\appdata\\local\\continuum\\anaconda3\\lib\\site-packages (from ipython>=5.4.1->jupyterthemes) (4.3.0)\n",
      "Requirement already satisfied: pickleshare in c:\\users\\v-tayan\\appdata\\local\\continuum\\anaconda3\\lib\\site-packages (from ipython>=5.4.1->jupyterthemes) (0.7.4)\n",
      "Requirement already satisfied: prompt-toolkit<2.1.0,>=2.0.0 in c:\\users\\v-tayan\\appdata\\local\\continuum\\anaconda3\\lib\\site-packages (from ipython>=5.4.1->jupyterthemes) (2.0.7)\n",
      "Requirement already satisfied: jedi>=0.10 in c:\\users\\v-tayan\\appdata\\local\\continuum\\anaconda3\\lib\\site-packages (from ipython>=5.4.1->jupyterthemes) (0.12.1)\n",
      "Requirement already satisfied: setuptools>=18.5 in c:\\users\\v-tayan\\appdata\\local\\continuum\\anaconda3\\lib\\site-packages (from ipython>=5.4.1->jupyterthemes) (40.2.0)\n",
      "Requirement already satisfied: pygments in c:\\users\\v-tayan\\appdata\\local\\continuum\\anaconda3\\lib\\site-packages (from ipython>=5.4.1->jupyterthemes) (2.2.0)\n",
      "Requirement already satisfied: ply in c:\\users\\v-tayan\\appdata\\local\\continuum\\anaconda3\\lib\\site-packages (from lesscpy>=0.11.2->jupyterthemes) (3.11)\n",
      "Requirement already satisfied: mistune>=0.8.1 in c:\\users\\v-tayan\\appdata\\local\\continuum\\anaconda3\\lib\\site-packages (from nbconvert->notebook>=5.6.0->jupyterthemes) (0.8.3)\n",
      "Requirement already satisfied: entrypoints>=0.2.2 in c:\\users\\v-tayan\\appdata\\local\\continuum\\anaconda3\\lib\\site-packages (from nbconvert->notebook>=5.6.0->jupyterthemes) (0.2.3)\n",
      "Requirement already satisfied: bleach in c:\\users\\v-tayan\\appdata\\local\\continuum\\anaconda3\\lib\\site-packages (from nbconvert->notebook>=5.6.0->jupyterthemes) (2.1.4)\n",
      "Requirement already satisfied: pandocfilters>=1.4.1 in c:\\users\\v-tayan\\appdata\\local\\continuum\\anaconda3\\lib\\site-packages (from nbconvert->notebook>=5.6.0->jupyterthemes) (1.4.2)\n",
      "Requirement already satisfied: testpath in c:\\users\\v-tayan\\appdata\\local\\continuum\\anaconda3\\lib\\site-packages (from nbconvert->notebook>=5.6.0->jupyterthemes) (0.3.1)\n",
      "Requirement already satisfied: defusedxml in c:\\users\\v-tayan\\appdata\\local\\continuum\\anaconda3\\lib\\site-packages (from nbconvert->notebook>=5.6.0->jupyterthemes) (0.5.0)\n",
      "Requirement already satisfied: MarkupSafe>=0.23 in c:\\users\\v-tayan\\appdata\\local\\continuum\\anaconda3\\lib\\site-packages (from jinja2->notebook>=5.6.0->jupyterthemes) (1.0)\n",
      "Requirement already satisfied: jsonschema!=2.5.0,>=2.4 in c:\\users\\v-tayan\\appdata\\local\\continuum\\anaconda3\\lib\\site-packages (from nbformat->notebook>=5.6.0->jupyterthemes) (2.6.0)\n",
      "Requirement already satisfied: wcwidth in c:\\users\\v-tayan\\appdata\\local\\continuum\\anaconda3\\lib\\site-packages (from prompt-toolkit<2.1.0,>=2.0.0->ipython>=5.4.1->jupyterthemes) (0.1.7)\n",
      "Requirement already satisfied: parso>=0.3.0 in c:\\users\\v-tayan\\appdata\\local\\continuum\\anaconda3\\lib\\site-packages (from jedi>=0.10->ipython>=5.4.1->jupyterthemes) (0.3.1)\n",
      "Requirement already satisfied: html5lib!=1.0b1,!=1.0b2,!=1.0b3,!=1.0b4,!=1.0b5,!=1.0b6,!=1.0b7,!=1.0b8,>=0.99999999pre in c:\\users\\v-tayan\\appdata\\local\\continuum\\anaconda3\\lib\\site-packages (from bleach->nbconvert->notebook>=5.6.0->jupyterthemes) (1.0.1)\n",
      "Requirement already satisfied: webencodings in c:\\users\\v-tayan\\appdata\\local\\continuum\\anaconda3\\lib\\site-packages (from html5lib!=1.0b1,!=1.0b2,!=1.0b3,!=1.0b4,!=1.0b5,!=1.0b6,!=1.0b7,!=1.0b8,>=0.99999999pre->bleach->nbconvert->notebook>=5.6.0->jupyterthemes) (0.5.1)\n",
      "Installing collected packages: lesscpy, jupyterthemes\n",
      "Successfully installed jupyterthemes-0.20.0 lesscpy-0.13.0\n"
     ]
    },
    {
     "name": "stderr",
     "output_type": "stream",
     "text": [
      "jupyter-console 5.2.0 has requirement prompt-toolkit<2.0.0,>=1.0.0, but you'll have prompt-toolkit 2.0.7 which is incompatible.\n",
      "django-taggit 0.23.0 has requirement Django>=1.11, but you'll have django 1.7.11 which is incompatible.\n",
      "django-haystack 2.8.1 has requirement Django>=1.11, but you'll have django 1.7.11 which is incompatible.\n",
      "blobxfer 1.5.5 has requirement ruamel.yaml~=0.15.78, but you'll have ruamel-yaml 0.15.46 which is incompatible.\n",
      "You are using pip version 10.0.1, however version 19.0.3 is available.\n",
      "You should consider upgrading via the 'python -m pip install --upgrade pip' command.\n"
     ]
    }
   ],
   "source": [
    "!pip install jupyterthemes"
   ]
  },
  {
   "cell_type": "markdown",
   "metadata": {},
   "source": [
    "## 更换主题"
   ]
  },
  {
   "cell_type": "code",
   "execution_count": null,
   "metadata": {},
   "outputs": [],
   "source": [
    "!jt -t oceans16"
   ]
  },
  {
   "cell_type": "markdown",
   "metadata": {},
   "source": [
    "## 还原主题"
   ]
  },
  {
   "cell_type": "code",
   "execution_count": null,
   "metadata": {},
   "outputs": [],
   "source": [
    "!jt -r"
   ]
  },
  {
   "cell_type": "markdown",
   "metadata": {},
   "source": [
    "## 安装插件"
   ]
  },
  {
   "cell_type": "code",
   "execution_count": null,
   "metadata": {},
   "outputs": [],
   "source": [
    "!pip install jupyter_contrib_nbextensions && jupyter contrib nbextension install"
   ]
  },
  {
   "cell_type": "markdown",
   "metadata": {},
   "source": [
    "## 安装Jupyter notebook交互组件"
   ]
  },
  {
   "cell_type": "code",
   "execution_count": 1,
   "metadata": {},
   "outputs": [
    {
     "name": "stdout",
     "output_type": "stream",
     "text": [
      "Requirement already satisfied: ipywidgets in c:\\users\\v-tayan\\appdata\\local\\continuum\\anaconda3\\lib\\site-packages (7.4.1)\n",
      "Requirement already satisfied: traitlets>=4.3.1 in c:\\users\\v-tayan\\appdata\\local\\continuum\\anaconda3\\lib\\site-packages (from ipywidgets) (4.3.2)\n",
      "Requirement already satisfied: nbformat>=4.2.0 in c:\\users\\v-tayan\\appdata\\local\\continuum\\anaconda3\\lib\\site-packages (from ipywidgets) (4.4.0)\n",
      "Requirement already satisfied: ipython>=4.0.0; python_version >= \"3.3\" in c:\\users\\v-tayan\\appdata\\local\\continuum\\anaconda3\\lib\\site-packages (from ipywidgets) (7.2.0)\n",
      "Requirement already satisfied: ipykernel>=4.5.1 in c:\\users\\v-tayan\\appdata\\local\\continuum\\anaconda3\\lib\\site-packages (from ipywidgets) (4.10.0)\n",
      "Requirement already satisfied: widgetsnbextension~=3.4.0 in c:\\users\\v-tayan\\appdata\\local\\continuum\\anaconda3\\lib\\site-packages (from ipywidgets) (3.4.1)\n",
      "Requirement already satisfied: decorator in c:\\users\\v-tayan\\appdata\\local\\continuum\\anaconda3\\lib\\site-packages (from traitlets>=4.3.1->ipywidgets) (4.3.0)\n",
      "Requirement already satisfied: six in c:\\users\\v-tayan\\appdata\\local\\continuum\\anaconda3\\lib\\site-packages (from traitlets>=4.3.1->ipywidgets) (1.11.0)\n",
      "Requirement already satisfied: ipython-genutils in c:\\users\\v-tayan\\appdata\\local\\continuum\\anaconda3\\lib\\site-packages (from traitlets>=4.3.1->ipywidgets) (0.2.0)\n",
      "Requirement already satisfied: jupyter-core in c:\\users\\v-tayan\\appdata\\local\\continuum\\anaconda3\\lib\\site-packages (from nbformat>=4.2.0->ipywidgets) (4.4.0)\n",
      "Requirement already satisfied: jsonschema!=2.5.0,>=2.4 in c:\\users\\v-tayan\\appdata\\local\\continuum\\anaconda3\\lib\\site-packages (from nbformat>=4.2.0->ipywidgets) (2.6.0)\n",
      "Requirement already satisfied: prompt-toolkit<2.1.0,>=2.0.0 in c:\\users\\v-tayan\\appdata\\local\\continuum\\anaconda3\\lib\\site-packages (from ipython>=4.0.0; python_version >= \"3.3\"->ipywidgets) (2.0.7)\n",
      "Requirement already satisfied: setuptools>=18.5 in c:\\users\\v-tayan\\appdata\\local\\continuum\\anaconda3\\lib\\site-packages (from ipython>=4.0.0; python_version >= \"3.3\"->ipywidgets) (40.2.0)\n",
      "Requirement already satisfied: backcall in c:\\users\\v-tayan\\appdata\\local\\continuum\\anaconda3\\lib\\site-packages (from ipython>=4.0.0; python_version >= \"3.3\"->ipywidgets) (0.1.0)\n",
      "Requirement already satisfied: colorama; sys_platform == \"win32\" in c:\\users\\v-tayan\\appdata\\local\\continuum\\anaconda3\\lib\\site-packages (from ipython>=4.0.0; python_version >= \"3.3\"->ipywidgets) (0.3.9)\n",
      "Requirement already satisfied: jedi>=0.10 in c:\\users\\v-tayan\\appdata\\local\\continuum\\anaconda3\\lib\\site-packages (from ipython>=4.0.0; python_version >= \"3.3\"->ipywidgets) (0.12.1)\n",
      "Requirement already satisfied: pickleshare in c:\\users\\v-tayan\\appdata\\local\\continuum\\anaconda3\\lib\\site-packages (from ipython>=4.0.0; python_version >= \"3.3\"->ipywidgets) (0.7.4)\n",
      "Requirement already satisfied: pygments in c:\\users\\v-tayan\\appdata\\local\\continuum\\anaconda3\\lib\\site-packages (from ipython>=4.0.0; python_version >= \"3.3\"->ipywidgets) (2.2.0)\n",
      "Requirement already satisfied: jupyter_client in c:\\users\\v-tayan\\appdata\\local\\continuum\\anaconda3\\lib\\site-packages (from ipykernel>=4.5.1->ipywidgets) (5.2.3)\n",
      "Requirement already satisfied: tornado>=4.0 in c:\\users\\v-tayan\\appdata\\local\\continuum\\anaconda3\\lib\\site-packages (from ipykernel>=4.5.1->ipywidgets) (5.1)\n",
      "Requirement already satisfied: notebook>=4.4.1 in c:\\users\\v-tayan\\appdata\\local\\continuum\\anaconda3\\lib\\site-packages (from widgetsnbextension~=3.4.0->ipywidgets) (5.6.0)\n",
      "Requirement already satisfied: wcwidth in c:\\users\\v-tayan\\appdata\\local\\continuum\\anaconda3\\lib\\site-packages (from prompt-toolkit<2.1.0,>=2.0.0->ipython>=4.0.0; python_version >= \"3.3\"->ipywidgets) (0.1.7)\n",
      "Requirement already satisfied: parso>=0.3.0 in c:\\users\\v-tayan\\appdata\\local\\continuum\\anaconda3\\lib\\site-packages (from jedi>=0.10->ipython>=4.0.0; python_version >= \"3.3\"->ipywidgets) (0.3.1)\n",
      "Requirement already satisfied: python-dateutil>=2.1 in c:\\users\\v-tayan\\appdata\\local\\continuum\\anaconda3\\lib\\site-packages (from jupyter_client->ipykernel>=4.5.1->ipywidgets) (2.7.5)\n",
      "Requirement already satisfied: pyzmq>=13 in c:\\users\\v-tayan\\appdata\\local\\continuum\\anaconda3\\lib\\site-packages (from jupyter_client->ipykernel>=4.5.1->ipywidgets) (17.1.2)\n",
      "Requirement already satisfied: Send2Trash in c:\\users\\v-tayan\\appdata\\local\\continuum\\anaconda3\\lib\\site-packages (from notebook>=4.4.1->widgetsnbextension~=3.4.0->ipywidgets) (1.5.0)\n",
      "Requirement already satisfied: prometheus-client in c:\\users\\v-tayan\\appdata\\local\\continuum\\anaconda3\\lib\\site-packages (from notebook>=4.4.1->widgetsnbextension~=3.4.0->ipywidgets) (0.3.1)\n",
      "Requirement already satisfied: nbconvert in c:\\users\\v-tayan\\appdata\\local\\continuum\\anaconda3\\lib\\site-packages (from notebook>=4.4.1->widgetsnbextension~=3.4.0->ipywidgets) (5.4.0)\n",
      "Requirement already satisfied: jinja2 in c:\\users\\v-tayan\\appdata\\local\\continuum\\anaconda3\\lib\\site-packages (from notebook>=4.4.1->widgetsnbextension~=3.4.0->ipywidgets) (2.10)\n",
      "Requirement already satisfied: terminado>=0.8.1 in c:\\users\\v-tayan\\appdata\\local\\continuum\\anaconda3\\lib\\site-packages (from notebook>=4.4.1->widgetsnbextension~=3.4.0->ipywidgets) (0.8.1)\n",
      "Requirement already satisfied: mistune>=0.8.1 in c:\\users\\v-tayan\\appdata\\local\\continuum\\anaconda3\\lib\\site-packages (from nbconvert->notebook>=4.4.1->widgetsnbextension~=3.4.0->ipywidgets) (0.8.3)\n",
      "Requirement already satisfied: entrypoints>=0.2.2 in c:\\users\\v-tayan\\appdata\\local\\continuum\\anaconda3\\lib\\site-packages (from nbconvert->notebook>=4.4.1->widgetsnbextension~=3.4.0->ipywidgets) (0.2.3)\n",
      "Requirement already satisfied: bleach in c:\\users\\v-tayan\\appdata\\local\\continuum\\anaconda3\\lib\\site-packages (from nbconvert->notebook>=4.4.1->widgetsnbextension~=3.4.0->ipywidgets) (2.1.4)\n",
      "Requirement already satisfied: pandocfilters>=1.4.1 in c:\\users\\v-tayan\\appdata\\local\\continuum\\anaconda3\\lib\\site-packages (from nbconvert->notebook>=4.4.1->widgetsnbextension~=3.4.0->ipywidgets) (1.4.2)\n",
      "Requirement already satisfied: testpath in c:\\users\\v-tayan\\appdata\\local\\continuum\\anaconda3\\lib\\site-packages (from nbconvert->notebook>=4.4.1->widgetsnbextension~=3.4.0->ipywidgets) (0.3.1)\n",
      "Requirement already satisfied: defusedxml in c:\\users\\v-tayan\\appdata\\local\\continuum\\anaconda3\\lib\\site-packages (from nbconvert->notebook>=4.4.1->widgetsnbextension~=3.4.0->ipywidgets) (0.5.0)\n",
      "Requirement already satisfied: MarkupSafe>=0.23 in c:\\users\\v-tayan\\appdata\\local\\continuum\\anaconda3\\lib\\site-packages (from jinja2->notebook>=4.4.1->widgetsnbextension~=3.4.0->ipywidgets) (1.0)\n",
      "Requirement already satisfied: html5lib!=1.0b1,!=1.0b2,!=1.0b3,!=1.0b4,!=1.0b5,!=1.0b6,!=1.0b7,!=1.0b8,>=0.99999999pre in c:\\users\\v-tayan\\appdata\\local\\continuum\\anaconda3\\lib\\site-packages (from bleach->nbconvert->notebook>=4.4.1->widgetsnbextension~=3.4.0->ipywidgets) (1.0.1)\n",
      "Requirement already satisfied: webencodings in c:\\users\\v-tayan\\appdata\\local\\continuum\\anaconda3\\lib\\site-packages (from html5lib!=1.0b1,!=1.0b2,!=1.0b3,!=1.0b4,!=1.0b5,!=1.0b6,!=1.0b7,!=1.0b8,>=0.99999999pre->bleach->nbconvert->notebook>=4.4.1->widgetsnbextension~=3.4.0->ipywidgets) (0.5.1)\n"
     ]
    },
    {
     "name": "stderr",
     "output_type": "stream",
     "text": [
      "jupyter-console 5.2.0 has requirement prompt-toolkit<2.0.0,>=1.0.0, but you'll have prompt-toolkit 2.0.7 which is incompatible.\n",
      "django-taggit 0.23.0 has requirement Django>=1.11, but you'll have django 1.7.11 which is incompatible.\n",
      "django-haystack 2.8.1 has requirement Django>=1.11, but you'll have django 1.7.11 which is incompatible.\n",
      "blobxfer 1.5.5 has requirement ruamel.yaml~=0.15.78, but you'll have ruamel-yaml 0.15.46 which is incompatible.\n",
      "You are using pip version 10.0.1, however version 19.0.3 is available.\n",
      "You should consider upgrading via the 'python -m pip install --upgrade pip' command.\n"
     ]
    }
   ],
   "source": [
    "!pip install ipywidgets"
   ]
  },
  {
   "cell_type": "code",
   "execution_count": 2,
   "metadata": {},
   "outputs": [],
   "source": [
    "from ipywidgets import interact\n",
    "import ipywidgets as widgets"
   ]
  },
  {
   "cell_type": "code",
   "execution_count": 15,
   "metadata": {},
   "outputs": [
    {
     "data": {
      "application/vnd.jupyter.widget-view+json": {
       "model_id": "d95c0d29c1604ae2966726a4f0a73b38",
       "version_major": 2,
       "version_minor": 0
      },
      "text/plain": [
       "interactive(children=(IntSlider(value=10, description='x', max=30, min=-10), Output()), _dom_classes=('widget-…"
      ]
     },
     "metadata": {},
     "output_type": "display_data"
    },
    {
     "data": {
      "text/plain": [
       "<function __main__.f(x)>"
      ]
     },
     "execution_count": 15,
     "metadata": {},
     "output_type": "execute_result"
    }
   ],
   "source": [
    "def f(x):\n",
    "    return x\n",
    "interact(f,x=10,)"
   ]
  },
  {
   "cell_type": "code",
   "execution_count": 5,
   "metadata": {},
   "outputs": [
    {
     "data": {
      "application/vnd.jupyter.widget-view+json": {
       "model_id": "cbf59148e82e4349ab3695c02a4491cf",
       "version_major": 2,
       "version_minor": 0
      },
      "text/plain": [
       "interactive(children=(Checkbox(value=True, description='x'), Output()), _dom_classes=('widget-interact',))"
      ]
     },
     "metadata": {},
     "output_type": "display_data"
    },
    {
     "data": {
      "text/plain": [
       "<function __main__.f(x)>"
      ]
     },
     "execution_count": 5,
     "metadata": {},
     "output_type": "execute_result"
    }
   ],
   "source": [
    "interact(f,x=True,)"
   ]
  },
  {
   "cell_type": "code",
   "execution_count": 6,
   "metadata": {},
   "outputs": [
    {
     "data": {
      "application/vnd.jupyter.widget-view+json": {
       "model_id": "7b6493a6a30e4b298fa2d9c5a3c16a5c",
       "version_major": 2,
       "version_minor": 0
      },
      "text/plain": [
       "interactive(children=(Text(value='Hello world!', description='x'), Output()), _dom_classes=('widget-interact',…"
      ]
     },
     "metadata": {},
     "output_type": "display_data"
    },
    {
     "data": {
      "text/plain": [
       "<function __main__.f(x)>"
      ]
     },
     "execution_count": 6,
     "metadata": {},
     "output_type": "execute_result"
    }
   ],
   "source": [
    "interact(f,x='Hello world!')"
   ]
  },
  {
   "cell_type": "markdown",
   "metadata": {},
   "source": [
    "## 高级用法\n",
    "### 播放组件"
   ]
  },
  {
   "cell_type": "code",
   "execution_count": 8,
   "metadata": {},
   "outputs": [
    {
     "data": {
      "application/vnd.jupyter.widget-view+json": {
       "model_id": "b41c0cde73da4c679ac6a36e1d0da220",
       "version_major": 2,
       "version_minor": 0
      },
      "text/plain": [
       "HBox(children=(Play(value=100, description='Press play'), IntSlider(value=0)))"
      ]
     },
     "metadata": {},
     "output_type": "display_data"
    }
   ],
   "source": [
    "play = widgets.Play(\n",
    "# interval = 10,\n",
    "    value = 150,\n",
    "    min = 0,\n",
    "    max = 100,\n",
    "    step  = 1,\n",
    "    description = \"Press play\",\n",
    "    disabled = False\n",
    ")\n",
    "slider = widgets.IntSlider()\n",
    "widgets.jslink((play,'value'),(slider,'value'))\n",
    "widgets.HBox([play,slider])"
   ]
  },
  {
   "cell_type": "markdown",
   "metadata": {},
   "source": [
    "### 日期选择器"
   ]
  },
  {
   "cell_type": "code",
   "execution_count": 9,
   "metadata": {},
   "outputs": [
    {
     "data": {
      "application/vnd.jupyter.widget-view+json": {
       "model_id": "50b951fa1c0246e8a06271de576ec482",
       "version_major": 2,
       "version_minor": 0
      },
      "text/plain": [
       "DatePicker(value=None, description='Pick a Date')"
      ]
     },
     "metadata": {},
     "output_type": "display_data"
    }
   ],
   "source": [
    "widgets.DatePicker(\n",
    "    description = \"Pick a Date\",\n",
    "    disabled = False\n",
    ")"
   ]
  },
  {
   "cell_type": "markdown",
   "metadata": {},
   "source": [
    "### 颜色选择器"
   ]
  },
  {
   "cell_type": "code",
   "execution_count": 10,
   "metadata": {},
   "outputs": [
    {
     "data": {
      "application/vnd.jupyter.widget-view+json": {
       "model_id": "a935b8fcf3774d5a81af671f6fd56b1b",
       "version_major": 2,
       "version_minor": 0
      },
      "text/plain": [
       "ColorPicker(value='blue', description='Pick a color')"
      ]
     },
     "metadata": {},
     "output_type": "display_data"
    }
   ],
   "source": [
    "widgets.ColorPicker(\n",
    "    concise = False,\n",
    "    description = 'Pick a color',\n",
    "    value = 'blue',\n",
    "    disabled = False\n",
    ")"
   ]
  },
  {
   "cell_type": "code",
   "execution_count": 12,
   "metadata": {},
   "outputs": [
    {
     "data": {
      "application/vnd.jupyter.widget-view+json": {
       "model_id": "de414d088442495d83c79ef2abc11374",
       "version_major": 2,
       "version_minor": 0
      },
      "text/plain": [
       "Tab(children=(Text(value='', description='P0'), Text(value='', description='P1'), Text(value='', description='…"
      ]
     },
     "metadata": {},
     "output_type": "display_data"
    }
   ],
   "source": [
    "tab_contents = ['P0', 'P1', 'P2', 'P3', 'P4']\n",
    "children = [widgets.Text(description=name) for name in tab_contents]\n",
    "tab = widgets.Tab()\n",
    "tab.children = children\n",
    "for i in range(len(children)):\n",
    "    tab.set_title(i, str(i))\n",
    "tab"
   ]
  },
  {
   "cell_type": "markdown",
   "metadata": {},
   "source": [
    "## Qgrid 更多的数据交互\n",
    "让数据格更具交互性\n",
    "\n",
    "Qgrid也是一个Jupyter notebook的组件但主要用在数据格上。它用 SlickGrid 来在Jupyter notebook中生成pandas的DataFrame。这让你可以很直观地通过滑动，排序和过滤来探索数据，还有通过双击单元格来编辑Dataframe中的一条数据。这个Gtihub项目包含更多细节和例子。"
   ]
  },
  {
   "cell_type": "code",
   "execution_count": 13,
   "metadata": {},
   "outputs": [
    {
     "name": "stdout",
     "output_type": "stream",
     "text": [
      "Collecting qgrid\n",
      "  Downloading https://files.pythonhosted.org/packages/70/63/0e0827682889f1a4ee74191b8bebc2e6fca1d18927d8875af0e37044d2d3/qgrid-1.1.1.tar.gz (793kB)\n",
      "Requirement already satisfied: notebook>=4.0.0 in c:\\users\\v-tayan\\appdata\\local\\continuum\\anaconda3\\lib\\site-packages (from qgrid) (5.6.0)\n",
      "Requirement already satisfied: pandas>=0.18.0 in c:\\users\\v-tayan\\appdata\\local\\continuum\\anaconda3\\lib\\site-packages (from qgrid) (0.23.4)\n",
      "Requirement already satisfied: ipywidgets>=7.0.0 in c:\\users\\v-tayan\\appdata\\local\\continuum\\anaconda3\\lib\\site-packages (from qgrid) (7.4.1)\n",
      "Requirement already satisfied: jupyter-core>=4.4.0 in c:\\users\\v-tayan\\appdata\\local\\continuum\\anaconda3\\lib\\site-packages (from notebook>=4.0.0->qgrid) (4.4.0)\n",
      "Requirement already satisfied: jupyter-client>=5.2.0 in c:\\users\\v-tayan\\appdata\\local\\continuum\\anaconda3\\lib\\site-packages (from notebook>=4.0.0->qgrid) (5.2.3)\n",
      "Requirement already satisfied: tornado>=4 in c:\\users\\v-tayan\\appdata\\local\\continuum\\anaconda3\\lib\\site-packages (from notebook>=4.0.0->qgrid) (5.1)\n",
      "Requirement already satisfied: Send2Trash in c:\\users\\v-tayan\\appdata\\local\\continuum\\anaconda3\\lib\\site-packages (from notebook>=4.0.0->qgrid) (1.5.0)\n",
      "Requirement already satisfied: ipython-genutils in c:\\users\\v-tayan\\appdata\\local\\continuum\\anaconda3\\lib\\site-packages (from notebook>=4.0.0->qgrid) (0.2.0)\n",
      "Requirement already satisfied: terminado>=0.8.1 in c:\\users\\v-tayan\\appdata\\local\\continuum\\anaconda3\\lib\\site-packages (from notebook>=4.0.0->qgrid) (0.8.1)\n",
      "Requirement already satisfied: traitlets>=4.2.1 in c:\\users\\v-tayan\\appdata\\local\\continuum\\anaconda3\\lib\\site-packages (from notebook>=4.0.0->qgrid) (4.3.2)\n",
      "Requirement already satisfied: pyzmq>=17 in c:\\users\\v-tayan\\appdata\\local\\continuum\\anaconda3\\lib\\site-packages (from notebook>=4.0.0->qgrid) (17.1.2)\n",
      "Requirement already satisfied: nbconvert in c:\\users\\v-tayan\\appdata\\local\\continuum\\anaconda3\\lib\\site-packages (from notebook>=4.0.0->qgrid) (5.4.0)\n",
      "Requirement already satisfied: prometheus-client in c:\\users\\v-tayan\\appdata\\local\\continuum\\anaconda3\\lib\\site-packages (from notebook>=4.0.0->qgrid) (0.3.1)\n",
      "Requirement already satisfied: jinja2 in c:\\users\\v-tayan\\appdata\\local\\continuum\\anaconda3\\lib\\site-packages (from notebook>=4.0.0->qgrid) (2.10)\n",
      "Requirement already satisfied: ipykernel in c:\\users\\v-tayan\\appdata\\local\\continuum\\anaconda3\\lib\\site-packages (from notebook>=4.0.0->qgrid) (4.10.0)\n",
      "Requirement already satisfied: nbformat in c:\\users\\v-tayan\\appdata\\local\\continuum\\anaconda3\\lib\\site-packages (from notebook>=4.0.0->qgrid) (4.4.0)\n",
      "Requirement already satisfied: python-dateutil>=2.5.0 in c:\\users\\v-tayan\\appdata\\local\\continuum\\anaconda3\\lib\\site-packages (from pandas>=0.18.0->qgrid) (2.7.5)\n",
      "Requirement already satisfied: pytz>=2011k in c:\\users\\v-tayan\\appdata\\local\\continuum\\anaconda3\\lib\\site-packages (from pandas>=0.18.0->qgrid) (2018.5)\n",
      "Requirement already satisfied: numpy>=1.9.0 in c:\\users\\v-tayan\\appdata\\local\\continuum\\anaconda3\\lib\\site-packages (from pandas>=0.18.0->qgrid) (1.15.4)\n",
      "Requirement already satisfied: ipython>=4.0.0; python_version >= \"3.3\" in c:\\users\\v-tayan\\appdata\\local\\continuum\\anaconda3\\lib\\site-packages (from ipywidgets>=7.0.0->qgrid) (7.2.0)\n",
      "Requirement already satisfied: widgetsnbextension~=3.4.0 in c:\\users\\v-tayan\\appdata\\local\\continuum\\anaconda3\\lib\\site-packages (from ipywidgets>=7.0.0->qgrid) (3.4.1)\n",
      "Requirement already satisfied: decorator in c:\\users\\v-tayan\\appdata\\local\\continuum\\anaconda3\\lib\\site-packages (from traitlets>=4.2.1->notebook>=4.0.0->qgrid) (4.3.0)\n",
      "Requirement already satisfied: six in c:\\users\\v-tayan\\appdata\\local\\continuum\\anaconda3\\lib\\site-packages (from traitlets>=4.2.1->notebook>=4.0.0->qgrid) (1.11.0)\n",
      "Requirement already satisfied: mistune>=0.8.1 in c:\\users\\v-tayan\\appdata\\local\\continuum\\anaconda3\\lib\\site-packages (from nbconvert->notebook>=4.0.0->qgrid) (0.8.3)\n",
      "Requirement already satisfied: pygments in c:\\users\\v-tayan\\appdata\\local\\continuum\\anaconda3\\lib\\site-packages (from nbconvert->notebook>=4.0.0->qgrid) (2.2.0)\n",
      "Requirement already satisfied: entrypoints>=0.2.2 in c:\\users\\v-tayan\\appdata\\local\\continuum\\anaconda3\\lib\\site-packages (from nbconvert->notebook>=4.0.0->qgrid) (0.2.3)\n",
      "Requirement already satisfied: bleach in c:\\users\\v-tayan\\appdata\\local\\continuum\\anaconda3\\lib\\site-packages (from nbconvert->notebook>=4.0.0->qgrid) (2.1.4)\n",
      "Requirement already satisfied: pandocfilters>=1.4.1 in c:\\users\\v-tayan\\appdata\\local\\continuum\\anaconda3\\lib\\site-packages (from nbconvert->notebook>=4.0.0->qgrid) (1.4.2)\n",
      "Requirement already satisfied: testpath in c:\\users\\v-tayan\\appdata\\local\\continuum\\anaconda3\\lib\\site-packages (from nbconvert->notebook>=4.0.0->qgrid) (0.3.1)\n",
      "Requirement already satisfied: defusedxml in c:\\users\\v-tayan\\appdata\\local\\continuum\\anaconda3\\lib\\site-packages (from nbconvert->notebook>=4.0.0->qgrid) (0.5.0)\n",
      "Requirement already satisfied: MarkupSafe>=0.23 in c:\\users\\v-tayan\\appdata\\local\\continuum\\anaconda3\\lib\\site-packages (from jinja2->notebook>=4.0.0->qgrid) (1.0)\n",
      "Requirement already satisfied: jsonschema!=2.5.0,>=2.4 in c:\\users\\v-tayan\\appdata\\local\\continuum\\anaconda3\\lib\\site-packages (from nbformat->notebook>=4.0.0->qgrid) (2.6.0)\n",
      "Requirement already satisfied: pickleshare in c:\\users\\v-tayan\\appdata\\local\\continuum\\anaconda3\\lib\\site-packages (from ipython>=4.0.0; python_version >= \"3.3\"->ipywidgets>=7.0.0->qgrid) (0.7.4)\n",
      "Requirement already satisfied: backcall in c:\\users\\v-tayan\\appdata\\local\\continuum\\anaconda3\\lib\\site-packages (from ipython>=4.0.0; python_version >= \"3.3\"->ipywidgets>=7.0.0->qgrid) (0.1.0)\n",
      "Requirement already satisfied: jedi>=0.10 in c:\\users\\v-tayan\\appdata\\local\\continuum\\anaconda3\\lib\\site-packages (from ipython>=4.0.0; python_version >= \"3.3\"->ipywidgets>=7.0.0->qgrid) (0.12.1)\n",
      "Requirement already satisfied: colorama; sys_platform == \"win32\" in c:\\users\\v-tayan\\appdata\\local\\continuum\\anaconda3\\lib\\site-packages (from ipython>=4.0.0; python_version >= \"3.3\"->ipywidgets>=7.0.0->qgrid) (0.3.9)\n",
      "Requirement already satisfied: prompt-toolkit<2.1.0,>=2.0.0 in c:\\users\\v-tayan\\appdata\\local\\continuum\\anaconda3\\lib\\site-packages (from ipython>=4.0.0; python_version >= \"3.3\"->ipywidgets>=7.0.0->qgrid) (2.0.7)\n",
      "Requirement already satisfied: setuptools>=18.5 in c:\\users\\v-tayan\\appdata\\local\\continuum\\anaconda3\\lib\\site-packages (from ipython>=4.0.0; python_version >= \"3.3\"->ipywidgets>=7.0.0->qgrid) (40.2.0)\n",
      "Requirement already satisfied: html5lib!=1.0b1,!=1.0b2,!=1.0b3,!=1.0b4,!=1.0b5,!=1.0b6,!=1.0b7,!=1.0b8,>=0.99999999pre in c:\\users\\v-tayan\\appdata\\local\\continuum\\anaconda3\\lib\\site-packages (from bleach->nbconvert->notebook>=4.0.0->qgrid) (1.0.1)\n",
      "Requirement already satisfied: parso>=0.3.0 in c:\\users\\v-tayan\\appdata\\local\\continuum\\anaconda3\\lib\\site-packages (from jedi>=0.10->ipython>=4.0.0; python_version >= \"3.3\"->ipywidgets>=7.0.0->qgrid) (0.3.1)\n",
      "Requirement already satisfied: wcwidth in c:\\users\\v-tayan\\appdata\\local\\continuum\\anaconda3\\lib\\site-packages (from prompt-toolkit<2.1.0,>=2.0.0->ipython>=4.0.0; python_version >= \"3.3\"->ipywidgets>=7.0.0->qgrid) (0.1.7)\n",
      "Requirement already satisfied: webencodings in c:\\users\\v-tayan\\appdata\\local\\continuum\\anaconda3\\lib\\site-packages (from html5lib!=1.0b1,!=1.0b2,!=1.0b3,!=1.0b4,!=1.0b5,!=1.0b6,!=1.0b7,!=1.0b8,>=0.99999999pre->bleach->nbconvert->notebook>=4.0.0->qgrid) (0.5.1)\n",
      "Building wheels for collected packages: qgrid\n",
      "  Running setup.py bdist_wheel for qgrid: started\n",
      "  Running setup.py bdist_wheel for qgrid: finished with status 'done'\n",
      "  Stored in directory: C:\\Users\\v-tayan\\AppData\\Local\\pip\\Cache\\wheels\\97\\71\\37\\8423045f66492c2b48ba9e968257ff7fdc7c941e2656380441\n",
      "Successfully built qgrid\n",
      "Installing collected packages: qgrid\n",
      "Successfully installed qgrid-1.1.1\n"
     ]
    },
    {
     "name": "stderr",
     "output_type": "stream",
     "text": [
      "jupyter-console 5.2.0 has requirement prompt-toolkit<2.0.0,>=1.0.0, but you'll have prompt-toolkit 2.0.7 which is incompatible.\n",
      "django-taggit 0.23.0 has requirement Django>=1.11, but you'll have django 1.7.11 which is incompatible.\n",
      "django-haystack 2.8.1 has requirement Django>=1.11, but you'll have django 1.7.11 which is incompatible.\n",
      "blobxfer 1.5.5 has requirement ruamel.yaml~=0.15.78, but you'll have ruamel-yaml 0.15.46 which is incompatible.\n",
      "You are using pip version 10.0.1, however version 19.0.3 is available.\n",
      "You should consider upgrading via the 'python -m pip install --upgrade pip' command.\n"
     ]
    }
   ],
   "source": [
    "!pip install qgrid"
   ]
  },
  {
   "cell_type": "code",
   "execution_count": 16,
   "metadata": {},
   "outputs": [],
   "source": [
    "import numpy as np\n",
    "import pandas as pd"
   ]
  },
  {
   "cell_type": "code",
   "execution_count": 19,
   "metadata": {},
   "outputs": [],
   "source": [
    "df = pd.read_csv('data/pima-data-orig.csv')"
   ]
  },
  {
   "cell_type": "code",
   "execution_count": 29,
   "metadata": {},
   "outputs": [
    {
     "data": {
      "application/vnd.jupyter.widget-view+json": {
       "model_id": "9dbc0f35bd9243d78b6572f4ab790949",
       "version_major": 2,
       "version_minor": 0
      },
      "text/plain": [
       "QgridWidget(grid_options={'fullWidthRows': True, 'syncColumnCellResize': True, 'forceFitColumns': True, 'defau…"
      ]
     },
     "metadata": {},
     "output_type": "display_data"
    }
   ],
   "source": [
    "import qgrid\n",
    "qgrid_wiget = qgrid.show_grid(df,show_toolbar = True)\n",
    "qgrid_wiget"
   ]
  },
  {
   "cell_type": "code",
   "execution_count": 28,
   "metadata": {},
   "outputs": [
    {
     "data": {
      "text/html": [
       "<div>\n",
       "<style scoped>\n",
       "    .dataframe tbody tr th:only-of-type {\n",
       "        vertical-align: middle;\n",
       "    }\n",
       "\n",
       "    .dataframe tbody tr th {\n",
       "        vertical-align: top;\n",
       "    }\n",
       "\n",
       "    .dataframe thead th {\n",
       "        text-align: right;\n",
       "    }\n",
       "</style>\n",
       "<table border=\"1\" class=\"dataframe\">\n",
       "  <thead>\n",
       "    <tr style=\"text-align: right;\">\n",
       "      <th></th>\n",
       "      <th>num_preg</th>\n",
       "      <th>glucose_conc</th>\n",
       "      <th>diastolic_bp</th>\n",
       "      <th>skin_thickness</th>\n",
       "      <th>insulin</th>\n",
       "      <th>bmi</th>\n",
       "      <th>diab_pred</th>\n",
       "      <th>age</th>\n",
       "      <th>diabetes</th>\n",
       "    </tr>\n",
       "  </thead>\n",
       "  <tbody>\n",
       "    <tr>\n",
       "      <th>0</th>\n",
       "      <td>6</td>\n",
       "      <td>148</td>\n",
       "      <td>72</td>\n",
       "      <td>35</td>\n",
       "      <td>0</td>\n",
       "      <td>33.6</td>\n",
       "      <td>0.627</td>\n",
       "      <td>50</td>\n",
       "      <td>1</td>\n",
       "    </tr>\n",
       "    <tr>\n",
       "      <th>1</th>\n",
       "      <td>1</td>\n",
       "      <td>85</td>\n",
       "      <td>66</td>\n",
       "      <td>29</td>\n",
       "      <td>0</td>\n",
       "      <td>26.6</td>\n",
       "      <td>0.351</td>\n",
       "      <td>31</td>\n",
       "      <td>0</td>\n",
       "    </tr>\n",
       "    <tr>\n",
       "      <th>2</th>\n",
       "      <td>8</td>\n",
       "      <td>183</td>\n",
       "      <td>64</td>\n",
       "      <td>0</td>\n",
       "      <td>0</td>\n",
       "      <td>23.3</td>\n",
       "      <td>0.672</td>\n",
       "      <td>32</td>\n",
       "      <td>1</td>\n",
       "    </tr>\n",
       "    <tr>\n",
       "      <th>3</th>\n",
       "      <td>1</td>\n",
       "      <td>89</td>\n",
       "      <td>66</td>\n",
       "      <td>23</td>\n",
       "      <td>94</td>\n",
       "      <td>28.1</td>\n",
       "      <td>0.167</td>\n",
       "      <td>21</td>\n",
       "      <td>0</td>\n",
       "    </tr>\n",
       "    <tr>\n",
       "      <th>4</th>\n",
       "      <td>0</td>\n",
       "      <td>137</td>\n",
       "      <td>40</td>\n",
       "      <td>35</td>\n",
       "      <td>168</td>\n",
       "      <td>43.1</td>\n",
       "      <td>2.288</td>\n",
       "      <td>33</td>\n",
       "      <td>1</td>\n",
       "    </tr>\n",
       "    <tr>\n",
       "      <th>5</th>\n",
       "      <td>5</td>\n",
       "      <td>116</td>\n",
       "      <td>74</td>\n",
       "      <td>0</td>\n",
       "      <td>0</td>\n",
       "      <td>25.6</td>\n",
       "      <td>0.201</td>\n",
       "      <td>30</td>\n",
       "      <td>0</td>\n",
       "    </tr>\n",
       "    <tr>\n",
       "      <th>6</th>\n",
       "      <td>3</td>\n",
       "      <td>78</td>\n",
       "      <td>50</td>\n",
       "      <td>32</td>\n",
       "      <td>88</td>\n",
       "      <td>31.0</td>\n",
       "      <td>0.248</td>\n",
       "      <td>26</td>\n",
       "      <td>1</td>\n",
       "    </tr>\n",
       "    <tr>\n",
       "      <th>7</th>\n",
       "      <td>10</td>\n",
       "      <td>115</td>\n",
       "      <td>0</td>\n",
       "      <td>0</td>\n",
       "      <td>0</td>\n",
       "      <td>35.3</td>\n",
       "      <td>0.134</td>\n",
       "      <td>29</td>\n",
       "      <td>0</td>\n",
       "    </tr>\n",
       "    <tr>\n",
       "      <th>8</th>\n",
       "      <td>2</td>\n",
       "      <td>197</td>\n",
       "      <td>70</td>\n",
       "      <td>45</td>\n",
       "      <td>543</td>\n",
       "      <td>30.5</td>\n",
       "      <td>0.158</td>\n",
       "      <td>53</td>\n",
       "      <td>1</td>\n",
       "    </tr>\n",
       "    <tr>\n",
       "      <th>9</th>\n",
       "      <td>8</td>\n",
       "      <td>125</td>\n",
       "      <td>96</td>\n",
       "      <td>0</td>\n",
       "      <td>0</td>\n",
       "      <td>0.0</td>\n",
       "      <td>0.232</td>\n",
       "      <td>54</td>\n",
       "      <td>1</td>\n",
       "    </tr>\n",
       "    <tr>\n",
       "      <th>10</th>\n",
       "      <td>4</td>\n",
       "      <td>110</td>\n",
       "      <td>92</td>\n",
       "      <td>0</td>\n",
       "      <td>0</td>\n",
       "      <td>37.6</td>\n",
       "      <td>0.191</td>\n",
       "      <td>30</td>\n",
       "      <td>0</td>\n",
       "    </tr>\n",
       "    <tr>\n",
       "      <th>11</th>\n",
       "      <td>10</td>\n",
       "      <td>168</td>\n",
       "      <td>74</td>\n",
       "      <td>0</td>\n",
       "      <td>0</td>\n",
       "      <td>38.0</td>\n",
       "      <td>0.537</td>\n",
       "      <td>34</td>\n",
       "      <td>1</td>\n",
       "    </tr>\n",
       "    <tr>\n",
       "      <th>12</th>\n",
       "      <td>10</td>\n",
       "      <td>139</td>\n",
       "      <td>80</td>\n",
       "      <td>0</td>\n",
       "      <td>0</td>\n",
       "      <td>27.1</td>\n",
       "      <td>1.441</td>\n",
       "      <td>57</td>\n",
       "      <td>0</td>\n",
       "    </tr>\n",
       "    <tr>\n",
       "      <th>13</th>\n",
       "      <td>1</td>\n",
       "      <td>189</td>\n",
       "      <td>60</td>\n",
       "      <td>23</td>\n",
       "      <td>846</td>\n",
       "      <td>30.1</td>\n",
       "      <td>0.398</td>\n",
       "      <td>59</td>\n",
       "      <td>1</td>\n",
       "    </tr>\n",
       "    <tr>\n",
       "      <th>14</th>\n",
       "      <td>5</td>\n",
       "      <td>166</td>\n",
       "      <td>72</td>\n",
       "      <td>19</td>\n",
       "      <td>175</td>\n",
       "      <td>25.8</td>\n",
       "      <td>0.587</td>\n",
       "      <td>51</td>\n",
       "      <td>1</td>\n",
       "    </tr>\n",
       "    <tr>\n",
       "      <th>15</th>\n",
       "      <td>7</td>\n",
       "      <td>100</td>\n",
       "      <td>0</td>\n",
       "      <td>0</td>\n",
       "      <td>0</td>\n",
       "      <td>30.0</td>\n",
       "      <td>0.484</td>\n",
       "      <td>32</td>\n",
       "      <td>1</td>\n",
       "    </tr>\n",
       "    <tr>\n",
       "      <th>16</th>\n",
       "      <td>0</td>\n",
       "      <td>118</td>\n",
       "      <td>84</td>\n",
       "      <td>47</td>\n",
       "      <td>230</td>\n",
       "      <td>45.8</td>\n",
       "      <td>0.551</td>\n",
       "      <td>31</td>\n",
       "      <td>1</td>\n",
       "    </tr>\n",
       "    <tr>\n",
       "      <th>17</th>\n",
       "      <td>7</td>\n",
       "      <td>107</td>\n",
       "      <td>74</td>\n",
       "      <td>0</td>\n",
       "      <td>0</td>\n",
       "      <td>29.6</td>\n",
       "      <td>0.254</td>\n",
       "      <td>31</td>\n",
       "      <td>1</td>\n",
       "    </tr>\n",
       "    <tr>\n",
       "      <th>18</th>\n",
       "      <td>1</td>\n",
       "      <td>103</td>\n",
       "      <td>30</td>\n",
       "      <td>38</td>\n",
       "      <td>83</td>\n",
       "      <td>43.3</td>\n",
       "      <td>0.183</td>\n",
       "      <td>33</td>\n",
       "      <td>0</td>\n",
       "    </tr>\n",
       "    <tr>\n",
       "      <th>19</th>\n",
       "      <td>1</td>\n",
       "      <td>115</td>\n",
       "      <td>70</td>\n",
       "      <td>30</td>\n",
       "      <td>96</td>\n",
       "      <td>34.6</td>\n",
       "      <td>0.529</td>\n",
       "      <td>32</td>\n",
       "      <td>1</td>\n",
       "    </tr>\n",
       "    <tr>\n",
       "      <th>20</th>\n",
       "      <td>3</td>\n",
       "      <td>126</td>\n",
       "      <td>88</td>\n",
       "      <td>41</td>\n",
       "      <td>235</td>\n",
       "      <td>39.3</td>\n",
       "      <td>0.704</td>\n",
       "      <td>27</td>\n",
       "      <td>0</td>\n",
       "    </tr>\n",
       "    <tr>\n",
       "      <th>21</th>\n",
       "      <td>8</td>\n",
       "      <td>99</td>\n",
       "      <td>84</td>\n",
       "      <td>0</td>\n",
       "      <td>0</td>\n",
       "      <td>35.4</td>\n",
       "      <td>0.388</td>\n",
       "      <td>50</td>\n",
       "      <td>0</td>\n",
       "    </tr>\n",
       "    <tr>\n",
       "      <th>22</th>\n",
       "      <td>7</td>\n",
       "      <td>196</td>\n",
       "      <td>90</td>\n",
       "      <td>0</td>\n",
       "      <td>0</td>\n",
       "      <td>39.8</td>\n",
       "      <td>0.451</td>\n",
       "      <td>41</td>\n",
       "      <td>1</td>\n",
       "    </tr>\n",
       "    <tr>\n",
       "      <th>23</th>\n",
       "      <td>9</td>\n",
       "      <td>119</td>\n",
       "      <td>80</td>\n",
       "      <td>35</td>\n",
       "      <td>0</td>\n",
       "      <td>29.0</td>\n",
       "      <td>0.263</td>\n",
       "      <td>29</td>\n",
       "      <td>1</td>\n",
       "    </tr>\n",
       "    <tr>\n",
       "      <th>24</th>\n",
       "      <td>11</td>\n",
       "      <td>143</td>\n",
       "      <td>94</td>\n",
       "      <td>33</td>\n",
       "      <td>146</td>\n",
       "      <td>36.6</td>\n",
       "      <td>0.254</td>\n",
       "      <td>51</td>\n",
       "      <td>1</td>\n",
       "    </tr>\n",
       "    <tr>\n",
       "      <th>25</th>\n",
       "      <td>10</td>\n",
       "      <td>125</td>\n",
       "      <td>70</td>\n",
       "      <td>26</td>\n",
       "      <td>115</td>\n",
       "      <td>31.1</td>\n",
       "      <td>0.205</td>\n",
       "      <td>41</td>\n",
       "      <td>1</td>\n",
       "    </tr>\n",
       "    <tr>\n",
       "      <th>26</th>\n",
       "      <td>7</td>\n",
       "      <td>147</td>\n",
       "      <td>76</td>\n",
       "      <td>0</td>\n",
       "      <td>0</td>\n",
       "      <td>39.4</td>\n",
       "      <td>0.257</td>\n",
       "      <td>43</td>\n",
       "      <td>1</td>\n",
       "    </tr>\n",
       "    <tr>\n",
       "      <th>27</th>\n",
       "      <td>1</td>\n",
       "      <td>97</td>\n",
       "      <td>66</td>\n",
       "      <td>15</td>\n",
       "      <td>140</td>\n",
       "      <td>23.2</td>\n",
       "      <td>0.487</td>\n",
       "      <td>22</td>\n",
       "      <td>0</td>\n",
       "    </tr>\n",
       "    <tr>\n",
       "      <th>28</th>\n",
       "      <td>13</td>\n",
       "      <td>145</td>\n",
       "      <td>82</td>\n",
       "      <td>19</td>\n",
       "      <td>110</td>\n",
       "      <td>22.2</td>\n",
       "      <td>0.245</td>\n",
       "      <td>57</td>\n",
       "      <td>0</td>\n",
       "    </tr>\n",
       "    <tr>\n",
       "      <th>29</th>\n",
       "      <td>5</td>\n",
       "      <td>117</td>\n",
       "      <td>92</td>\n",
       "      <td>0</td>\n",
       "      <td>0</td>\n",
       "      <td>34.1</td>\n",
       "      <td>0.337</td>\n",
       "      <td>38</td>\n",
       "      <td>0</td>\n",
       "    </tr>\n",
       "    <tr>\n",
       "      <th>...</th>\n",
       "      <td>...</td>\n",
       "      <td>...</td>\n",
       "      <td>...</td>\n",
       "      <td>...</td>\n",
       "      <td>...</td>\n",
       "      <td>...</td>\n",
       "      <td>...</td>\n",
       "      <td>...</td>\n",
       "      <td>...</td>\n",
       "    </tr>\n",
       "    <tr>\n",
       "      <th>738</th>\n",
       "      <td>2</td>\n",
       "      <td>99</td>\n",
       "      <td>60</td>\n",
       "      <td>17</td>\n",
       "      <td>160</td>\n",
       "      <td>36.6</td>\n",
       "      <td>0.453</td>\n",
       "      <td>21</td>\n",
       "      <td>0</td>\n",
       "    </tr>\n",
       "    <tr>\n",
       "      <th>739</th>\n",
       "      <td>1</td>\n",
       "      <td>102</td>\n",
       "      <td>74</td>\n",
       "      <td>0</td>\n",
       "      <td>0</td>\n",
       "      <td>39.5</td>\n",
       "      <td>0.293</td>\n",
       "      <td>42</td>\n",
       "      <td>1</td>\n",
       "    </tr>\n",
       "    <tr>\n",
       "      <th>740</th>\n",
       "      <td>11</td>\n",
       "      <td>120</td>\n",
       "      <td>80</td>\n",
       "      <td>37</td>\n",
       "      <td>150</td>\n",
       "      <td>42.3</td>\n",
       "      <td>0.785</td>\n",
       "      <td>48</td>\n",
       "      <td>1</td>\n",
       "    </tr>\n",
       "    <tr>\n",
       "      <th>741</th>\n",
       "      <td>3</td>\n",
       "      <td>102</td>\n",
       "      <td>44</td>\n",
       "      <td>20</td>\n",
       "      <td>94</td>\n",
       "      <td>30.8</td>\n",
       "      <td>0.400</td>\n",
       "      <td>26</td>\n",
       "      <td>0</td>\n",
       "    </tr>\n",
       "    <tr>\n",
       "      <th>742</th>\n",
       "      <td>1</td>\n",
       "      <td>109</td>\n",
       "      <td>58</td>\n",
       "      <td>18</td>\n",
       "      <td>116</td>\n",
       "      <td>28.5</td>\n",
       "      <td>0.219</td>\n",
       "      <td>22</td>\n",
       "      <td>0</td>\n",
       "    </tr>\n",
       "    <tr>\n",
       "      <th>743</th>\n",
       "      <td>9</td>\n",
       "      <td>140</td>\n",
       "      <td>94</td>\n",
       "      <td>0</td>\n",
       "      <td>0</td>\n",
       "      <td>32.7</td>\n",
       "      <td>0.734</td>\n",
       "      <td>45</td>\n",
       "      <td>1</td>\n",
       "    </tr>\n",
       "    <tr>\n",
       "      <th>744</th>\n",
       "      <td>13</td>\n",
       "      <td>153</td>\n",
       "      <td>88</td>\n",
       "      <td>37</td>\n",
       "      <td>140</td>\n",
       "      <td>40.6</td>\n",
       "      <td>1.174</td>\n",
       "      <td>39</td>\n",
       "      <td>0</td>\n",
       "    </tr>\n",
       "    <tr>\n",
       "      <th>745</th>\n",
       "      <td>12</td>\n",
       "      <td>100</td>\n",
       "      <td>84</td>\n",
       "      <td>33</td>\n",
       "      <td>105</td>\n",
       "      <td>30.0</td>\n",
       "      <td>0.488</td>\n",
       "      <td>46</td>\n",
       "      <td>0</td>\n",
       "    </tr>\n",
       "    <tr>\n",
       "      <th>746</th>\n",
       "      <td>1</td>\n",
       "      <td>147</td>\n",
       "      <td>94</td>\n",
       "      <td>41</td>\n",
       "      <td>0</td>\n",
       "      <td>49.3</td>\n",
       "      <td>0.358</td>\n",
       "      <td>27</td>\n",
       "      <td>1</td>\n",
       "    </tr>\n",
       "    <tr>\n",
       "      <th>747</th>\n",
       "      <td>1</td>\n",
       "      <td>81</td>\n",
       "      <td>74</td>\n",
       "      <td>41</td>\n",
       "      <td>57</td>\n",
       "      <td>46.3</td>\n",
       "      <td>1.096</td>\n",
       "      <td>32</td>\n",
       "      <td>0</td>\n",
       "    </tr>\n",
       "    <tr>\n",
       "      <th>748</th>\n",
       "      <td>3</td>\n",
       "      <td>187</td>\n",
       "      <td>70</td>\n",
       "      <td>22</td>\n",
       "      <td>200</td>\n",
       "      <td>36.4</td>\n",
       "      <td>0.408</td>\n",
       "      <td>36</td>\n",
       "      <td>1</td>\n",
       "    </tr>\n",
       "    <tr>\n",
       "      <th>749</th>\n",
       "      <td>6</td>\n",
       "      <td>162</td>\n",
       "      <td>62</td>\n",
       "      <td>0</td>\n",
       "      <td>0</td>\n",
       "      <td>24.3</td>\n",
       "      <td>0.178</td>\n",
       "      <td>50</td>\n",
       "      <td>1</td>\n",
       "    </tr>\n",
       "    <tr>\n",
       "      <th>750</th>\n",
       "      <td>4</td>\n",
       "      <td>136</td>\n",
       "      <td>70</td>\n",
       "      <td>0</td>\n",
       "      <td>0</td>\n",
       "      <td>31.2</td>\n",
       "      <td>1.182</td>\n",
       "      <td>22</td>\n",
       "      <td>1</td>\n",
       "    </tr>\n",
       "    <tr>\n",
       "      <th>751</th>\n",
       "      <td>1</td>\n",
       "      <td>121</td>\n",
       "      <td>78</td>\n",
       "      <td>39</td>\n",
       "      <td>74</td>\n",
       "      <td>39.0</td>\n",
       "      <td>0.261</td>\n",
       "      <td>28</td>\n",
       "      <td>0</td>\n",
       "    </tr>\n",
       "    <tr>\n",
       "      <th>752</th>\n",
       "      <td>3</td>\n",
       "      <td>108</td>\n",
       "      <td>62</td>\n",
       "      <td>24</td>\n",
       "      <td>0</td>\n",
       "      <td>26.0</td>\n",
       "      <td>0.223</td>\n",
       "      <td>25</td>\n",
       "      <td>0</td>\n",
       "    </tr>\n",
       "    <tr>\n",
       "      <th>753</th>\n",
       "      <td>0</td>\n",
       "      <td>181</td>\n",
       "      <td>88</td>\n",
       "      <td>44</td>\n",
       "      <td>510</td>\n",
       "      <td>43.3</td>\n",
       "      <td>0.222</td>\n",
       "      <td>26</td>\n",
       "      <td>1</td>\n",
       "    </tr>\n",
       "    <tr>\n",
       "      <th>754</th>\n",
       "      <td>8</td>\n",
       "      <td>154</td>\n",
       "      <td>78</td>\n",
       "      <td>32</td>\n",
       "      <td>0</td>\n",
       "      <td>32.4</td>\n",
       "      <td>0.443</td>\n",
       "      <td>45</td>\n",
       "      <td>1</td>\n",
       "    </tr>\n",
       "    <tr>\n",
       "      <th>755</th>\n",
       "      <td>1</td>\n",
       "      <td>128</td>\n",
       "      <td>88</td>\n",
       "      <td>39</td>\n",
       "      <td>110</td>\n",
       "      <td>36.5</td>\n",
       "      <td>1.057</td>\n",
       "      <td>37</td>\n",
       "      <td>1</td>\n",
       "    </tr>\n",
       "    <tr>\n",
       "      <th>756</th>\n",
       "      <td>7</td>\n",
       "      <td>137</td>\n",
       "      <td>90</td>\n",
       "      <td>41</td>\n",
       "      <td>0</td>\n",
       "      <td>32.0</td>\n",
       "      <td>0.391</td>\n",
       "      <td>39</td>\n",
       "      <td>0</td>\n",
       "    </tr>\n",
       "    <tr>\n",
       "      <th>757</th>\n",
       "      <td>0</td>\n",
       "      <td>123</td>\n",
       "      <td>72</td>\n",
       "      <td>0</td>\n",
       "      <td>0</td>\n",
       "      <td>36.3</td>\n",
       "      <td>0.258</td>\n",
       "      <td>52</td>\n",
       "      <td>1</td>\n",
       "    </tr>\n",
       "    <tr>\n",
       "      <th>758</th>\n",
       "      <td>1</td>\n",
       "      <td>106</td>\n",
       "      <td>76</td>\n",
       "      <td>0</td>\n",
       "      <td>0</td>\n",
       "      <td>37.5</td>\n",
       "      <td>0.197</td>\n",
       "      <td>26</td>\n",
       "      <td>0</td>\n",
       "    </tr>\n",
       "    <tr>\n",
       "      <th>759</th>\n",
       "      <td>6</td>\n",
       "      <td>190</td>\n",
       "      <td>92</td>\n",
       "      <td>0</td>\n",
       "      <td>0</td>\n",
       "      <td>35.5</td>\n",
       "      <td>0.278</td>\n",
       "      <td>66</td>\n",
       "      <td>1</td>\n",
       "    </tr>\n",
       "    <tr>\n",
       "      <th>760</th>\n",
       "      <td>2</td>\n",
       "      <td>88</td>\n",
       "      <td>58</td>\n",
       "      <td>26</td>\n",
       "      <td>16</td>\n",
       "      <td>28.4</td>\n",
       "      <td>0.766</td>\n",
       "      <td>22</td>\n",
       "      <td>0</td>\n",
       "    </tr>\n",
       "    <tr>\n",
       "      <th>761</th>\n",
       "      <td>9</td>\n",
       "      <td>170</td>\n",
       "      <td>74</td>\n",
       "      <td>31</td>\n",
       "      <td>0</td>\n",
       "      <td>44.0</td>\n",
       "      <td>0.403</td>\n",
       "      <td>43</td>\n",
       "      <td>1</td>\n",
       "    </tr>\n",
       "    <tr>\n",
       "      <th>762</th>\n",
       "      <td>9</td>\n",
       "      <td>89</td>\n",
       "      <td>62</td>\n",
       "      <td>0</td>\n",
       "      <td>0</td>\n",
       "      <td>22.5</td>\n",
       "      <td>0.142</td>\n",
       "      <td>33</td>\n",
       "      <td>0</td>\n",
       "    </tr>\n",
       "    <tr>\n",
       "      <th>763</th>\n",
       "      <td>10</td>\n",
       "      <td>101</td>\n",
       "      <td>76</td>\n",
       "      <td>48</td>\n",
       "      <td>180</td>\n",
       "      <td>32.9</td>\n",
       "      <td>0.171</td>\n",
       "      <td>63</td>\n",
       "      <td>0</td>\n",
       "    </tr>\n",
       "    <tr>\n",
       "      <th>764</th>\n",
       "      <td>2</td>\n",
       "      <td>122</td>\n",
       "      <td>70</td>\n",
       "      <td>27</td>\n",
       "      <td>0</td>\n",
       "      <td>36.8</td>\n",
       "      <td>0.340</td>\n",
       "      <td>27</td>\n",
       "      <td>0</td>\n",
       "    </tr>\n",
       "    <tr>\n",
       "      <th>765</th>\n",
       "      <td>5</td>\n",
       "      <td>121</td>\n",
       "      <td>72</td>\n",
       "      <td>23</td>\n",
       "      <td>112</td>\n",
       "      <td>26.2</td>\n",
       "      <td>0.245</td>\n",
       "      <td>30</td>\n",
       "      <td>0</td>\n",
       "    </tr>\n",
       "    <tr>\n",
       "      <th>766</th>\n",
       "      <td>1</td>\n",
       "      <td>126</td>\n",
       "      <td>60</td>\n",
       "      <td>0</td>\n",
       "      <td>0</td>\n",
       "      <td>30.1</td>\n",
       "      <td>0.349</td>\n",
       "      <td>47</td>\n",
       "      <td>1</td>\n",
       "    </tr>\n",
       "    <tr>\n",
       "      <th>767</th>\n",
       "      <td>1</td>\n",
       "      <td>93</td>\n",
       "      <td>70</td>\n",
       "      <td>31</td>\n",
       "      <td>0</td>\n",
       "      <td>30.4</td>\n",
       "      <td>0.315</td>\n",
       "      <td>23</td>\n",
       "      <td>0</td>\n",
       "    </tr>\n",
       "  </tbody>\n",
       "</table>\n",
       "<p>768 rows × 9 columns</p>\n",
       "</div>"
      ],
      "text/plain": [
       "     num_preg  glucose_conc  diastolic_bp  skin_thickness  insulin   bmi  \\\n",
       "0           6           148            72              35        0  33.6   \n",
       "1           1            85            66              29        0  26.6   \n",
       "2           8           183            64               0        0  23.3   \n",
       "3           1            89            66              23       94  28.1   \n",
       "4           0           137            40              35      168  43.1   \n",
       "5           5           116            74               0        0  25.6   \n",
       "6           3            78            50              32       88  31.0   \n",
       "7          10           115             0               0        0  35.3   \n",
       "8           2           197            70              45      543  30.5   \n",
       "9           8           125            96               0        0   0.0   \n",
       "10          4           110            92               0        0  37.6   \n",
       "11         10           168            74               0        0  38.0   \n",
       "12         10           139            80               0        0  27.1   \n",
       "13          1           189            60              23      846  30.1   \n",
       "14          5           166            72              19      175  25.8   \n",
       "15          7           100             0               0        0  30.0   \n",
       "16          0           118            84              47      230  45.8   \n",
       "17          7           107            74               0        0  29.6   \n",
       "18          1           103            30              38       83  43.3   \n",
       "19          1           115            70              30       96  34.6   \n",
       "20          3           126            88              41      235  39.3   \n",
       "21          8            99            84               0        0  35.4   \n",
       "22          7           196            90               0        0  39.8   \n",
       "23          9           119            80              35        0  29.0   \n",
       "24         11           143            94              33      146  36.6   \n",
       "25         10           125            70              26      115  31.1   \n",
       "26          7           147            76               0        0  39.4   \n",
       "27          1            97            66              15      140  23.2   \n",
       "28         13           145            82              19      110  22.2   \n",
       "29          5           117            92               0        0  34.1   \n",
       "..        ...           ...           ...             ...      ...   ...   \n",
       "738         2            99            60              17      160  36.6   \n",
       "739         1           102            74               0        0  39.5   \n",
       "740        11           120            80              37      150  42.3   \n",
       "741         3           102            44              20       94  30.8   \n",
       "742         1           109            58              18      116  28.5   \n",
       "743         9           140            94               0        0  32.7   \n",
       "744        13           153            88              37      140  40.6   \n",
       "745        12           100            84              33      105  30.0   \n",
       "746         1           147            94              41        0  49.3   \n",
       "747         1            81            74              41       57  46.3   \n",
       "748         3           187            70              22      200  36.4   \n",
       "749         6           162            62               0        0  24.3   \n",
       "750         4           136            70               0        0  31.2   \n",
       "751         1           121            78              39       74  39.0   \n",
       "752         3           108            62              24        0  26.0   \n",
       "753         0           181            88              44      510  43.3   \n",
       "754         8           154            78              32        0  32.4   \n",
       "755         1           128            88              39      110  36.5   \n",
       "756         7           137            90              41        0  32.0   \n",
       "757         0           123            72               0        0  36.3   \n",
       "758         1           106            76               0        0  37.5   \n",
       "759         6           190            92               0        0  35.5   \n",
       "760         2            88            58              26       16  28.4   \n",
       "761         9           170            74              31        0  44.0   \n",
       "762         9            89            62               0        0  22.5   \n",
       "763        10           101            76              48      180  32.9   \n",
       "764         2           122            70              27        0  36.8   \n",
       "765         5           121            72              23      112  26.2   \n",
       "766         1           126            60               0        0  30.1   \n",
       "767         1            93            70              31        0  30.4   \n",
       "\n",
       "     diab_pred  age  diabetes  \n",
       "0        0.627   50         1  \n",
       "1        0.351   31         0  \n",
       "2        0.672   32         1  \n",
       "3        0.167   21         0  \n",
       "4        2.288   33         1  \n",
       "5        0.201   30         0  \n",
       "6        0.248   26         1  \n",
       "7        0.134   29         0  \n",
       "8        0.158   53         1  \n",
       "9        0.232   54         1  \n",
       "10       0.191   30         0  \n",
       "11       0.537   34         1  \n",
       "12       1.441   57         0  \n",
       "13       0.398   59         1  \n",
       "14       0.587   51         1  \n",
       "15       0.484   32         1  \n",
       "16       0.551   31         1  \n",
       "17       0.254   31         1  \n",
       "18       0.183   33         0  \n",
       "19       0.529   32         1  \n",
       "20       0.704   27         0  \n",
       "21       0.388   50         0  \n",
       "22       0.451   41         1  \n",
       "23       0.263   29         1  \n",
       "24       0.254   51         1  \n",
       "25       0.205   41         1  \n",
       "26       0.257   43         1  \n",
       "27       0.487   22         0  \n",
       "28       0.245   57         0  \n",
       "29       0.337   38         0  \n",
       "..         ...  ...       ...  \n",
       "738      0.453   21         0  \n",
       "739      0.293   42         1  \n",
       "740      0.785   48         1  \n",
       "741      0.400   26         0  \n",
       "742      0.219   22         0  \n",
       "743      0.734   45         1  \n",
       "744      1.174   39         0  \n",
       "745      0.488   46         0  \n",
       "746      0.358   27         1  \n",
       "747      1.096   32         0  \n",
       "748      0.408   36         1  \n",
       "749      0.178   50         1  \n",
       "750      1.182   22         1  \n",
       "751      0.261   28         0  \n",
       "752      0.223   25         0  \n",
       "753      0.222   26         1  \n",
       "754      0.443   45         1  \n",
       "755      1.057   37         1  \n",
       "756      0.391   39         0  \n",
       "757      0.258   52         1  \n",
       "758      0.197   26         0  \n",
       "759      0.278   66         1  \n",
       "760      0.766   22         0  \n",
       "761      0.403   43         1  \n",
       "762      0.142   33         0  \n",
       "763      0.171   63         0  \n",
       "764      0.340   27         0  \n",
       "765      0.245   30         0  \n",
       "766      0.349   47         1  \n",
       "767      0.315   23         0  \n",
       "\n",
       "[768 rows x 9 columns]"
      ]
     },
     "execution_count": 28,
     "metadata": {},
     "output_type": "execute_result"
    }
   ],
   "source": [
    "qgrid_wiget.get_changed_df()"
   ]
  },
  {
   "cell_type": "code",
   "execution_count": 30,
   "metadata": {},
   "outputs": [],
   "source": [
    "from __future__ import print_function, division\n",
    "import numpy as np\n",
    "import matplotlib.pyplot as plt\n",
    "%matplotlib inline"
   ]
  },
  {
   "cell_type": "code",
   "execution_count": 31,
   "metadata": {},
   "outputs": [],
   "source": [
    "new_array = np.zeros((4,3,),dtype=complex)"
   ]
  },
  {
   "cell_type": "code",
   "execution_count": null,
   "metadata": {},
   "outputs": [],
   "source": [
    "!jupyter nbconvert *.ipynb --to slides --post serve #幻灯片"
   ]
  },
  {
   "cell_type": "markdown",
   "metadata": {
    "slideshow": {
     "slide_type": "subslide"
    }
   },
   "source": [
    "## 插入链接，PDF文档，和YouTube视频"
   ]
  },
  {
   "cell_type": "code",
   "execution_count": 32,
   "metadata": {},
   "outputs": [
    {
     "data": {
      "text/html": [
       "\n",
       "        <iframe\n",
       "            width=\"800\"\n",
       "            height=\"450\"\n",
       "            src=\"https://en.wikipedia.org/wiki/HTTPS\"\n",
       "            frameborder=\"0\"\n",
       "            allowfullscreen\n",
       "        ></iframe>\n",
       "        "
      ],
      "text/plain": [
       "<IPython.lib.display.IFrame at 0x2010816fd68>"
      ]
     },
     "execution_count": 32,
     "metadata": {},
     "output_type": "execute_result"
    }
   ],
   "source": [
    "from IPython.display import IFrame\n",
    "IFrame('https://en.wikipedia.org/wiki/HTTPS', width=800, height=450)"
   ]
  },
  {
   "cell_type": "code",
   "execution_count": 34,
   "metadata": {},
   "outputs": [
    {
     "data": {
      "text/html": [
       "\n",
       "        <iframe\n",
       "            width=\"800\"\n",
       "            height=\"450\"\n",
       "            src=\"data/example.pdf\"\n",
       "            frameborder=\"0\"\n",
       "            allowfullscreen\n",
       "        ></iframe>\n",
       "        "
      ],
      "text/plain": [
       "<IPython.lib.display.IFrame at 0x20108275e48>"
      ]
     },
     "execution_count": 34,
     "metadata": {},
     "output_type": "execute_result"
    }
   ],
   "source": [
    "from IPython.display import IFrame\n",
    "IFrame('data/example.pdf', width=800, height=450)"
   ]
  },
  {
   "cell_type": "code",
   "execution_count": 35,
   "metadata": {},
   "outputs": [
    {
     "data": {
      "image/jpeg": "[encoded data removed]",
      "text/html": [
       "\n",
       "        <iframe\n",
       "            width=\"800\"\n",
       "            height=\"300\"\n",
       "            src=\"https://www.youtube.com/embed/mJeNghZXtMo\"\n",
       "            frameborder=\"0\"\n",
       "            allowfullscreen\n",
       "        ></iframe>\n",
       "        "
      ],
      "text/plain": [
       "<IPython.lib.display.YouTubeVideo at 0x20108275240>"
      ]
     },
     "execution_count": 35,
     "metadata": {},
     "output_type": "execute_result"
    }
   ],
   "source": [
    "from IPython.display import YouTubeVideo\n",
    "\n",
    "YouTubeVideo('mJeNghZXtMo', width=800, height=300)"
   ]
  },
  {
   "cell_type": "code",
   "execution_count": null,
   "metadata": {},
   "outputs": [],
   "source": []
  }
 ],
 "metadata": {
  "kernelspec": {
   "display_name": "Python 3",
   "language": "python",
   "name": "python3"
  },
  "language_info": {
   "codemirror_mode": {
    "name": "ipython",
    "version": 3
   },
   "file_extension": ".py",
   "mimetype": "text/x-python",
   "name": "python",
   "nbconvert_exporter": "python",
   "pygments_lexer": "ipython3",
   "version": "3.7.0"
  }
 },
 "nbformat": 4,
 "nbformat_minor": 2
}
