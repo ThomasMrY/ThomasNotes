{
 "cells": [
  {
   "cell_type": "markdown",
   "metadata": {},
   "source": [
    "# python 并行编程\n",
    "\n",
    "## 1. 介绍\n",
    "本章将介绍一些并行编程的架构和编程模型。对于初次接触并行编程技术的程序员来说，这些都是非常有用的概念；对于经验丰富的程序员来说，本章可以作为基础参考。 本章中讲述了并行编程的两种解释，第一种解释是基于系统架构的，第二种解释基于程序示例F。 并行编程对程序员来说一直是一项挑战。 本章讨论并行程序的设计方法的时候，深入讲了这种编程方法。 本章最后简单介绍了Python编程语言。Python的易用和易学、可扩展性和丰富的库以及应用，让它成为了一个全能性的工具，当然，在并行计算方面也得心应手。最后结合在Python中的应用讲了线程和进程。解决一个大问题的一般方法是，将其拆分成若干小的、独立的问题，然后分别解它们。并行的程序也是使用这种方法，用多个处理器同时工作，来完成同一个任务。每一个处理器都做自己的那部分工作（独立的部分）。而且计算过程中处理器之间可能需要交换数据。如果，软件应用要求越来越高的计算能力。提高计算能力有两种思路：提高处理器的时钟速度或增加芯片上的核心数。提高时钟速度就必然会增加散热，然后每瓦特的性能就会降低，甚至可能要求特殊的冷却设备。提高芯片的核心数是更可行的一种方案，因为能源的消耗和散热，第一种方法必然有上限，而且计算能力提高没有特别明显。\n",
    "\n",
    "为了解决这个问题，计算机硬件供应商的选择是多核心的架构，就是在同一个芯片上放两个或者多个处理器（核心）。GPU制造商也逐渐引进了这种基于多处理器核心的硬件架构。事实上，今天的计算机几乎都是各种多核、异构的计算单元组成的，每一个单元都有多个处理核心。\n",
    "\n",
    "所以，对我们来说充分利用计算资源就显得至关重要，例如并行计算的程序、技术和工具等。\n"
   ]
  },
  {
   "cell_type": "markdown",
   "metadata": {},
   "source": [
    "## 基于线程的并行\n",
    "### 1. 介绍\n",
    "目前，在软件应用中使用最广泛的并发编程范例是多线程。通常，一个应用有一个进程，分成多个独立的线程，并行运行、互相配合，执行不同类型的任务。\n",
    "\n",
    "虽然这种模式存在一些缺点，有很多潜在的问题，但是多线程的应用依然非常广泛。\n",
    "\n",
    "现在几乎所有的操作系统都支持多线程，几乎所有的编程语言都有相应的多线程机制，可以在应用中通过线程实现并发。\n",
    "\n",
    "所以，使用多线程编程来实现并发的并用是个不错的选择。然而，多线程并不是唯一的选择，有不少其他的方案的表现比多线程好的多。\n",
    "\n",
    "线程是独立的处理流程，可以和系统的其他线程并行或并发地执行。多线程可以共享数据和资源，利用所谓的共享内存空间。线程和进程的具体实现取决于你要运行的操作系统，但是总体来讲，我们可以说线程是包含在进程中的，同一进程的多个不同的线程可以共享相同的资源。相比而言，进程之间不会共享资源。\n",
    "\n",
    "每一个线程基本上包含3个元素：程序计数器，寄存器和栈。与同一进程的其他线程共享的资源基本上包括数据和系统资源。每一个线程也有自己的运行状态，可以和其他线程同步，这点和进程一样。线程的状态大体上可以分为ready,running,blocked。线程的典型应用是应用软件的并行化——为了充分利用现代的多核处理器，使每个核心可以运行单个线程。相比于进程，使用线程的优势主要是性能。相比之下，在进程之间切换上下文要比在统一进程的多线程之间切换上下文要重的多。\n",
    "\n",
    "多线程编程一般使用共享内容空间进行线程间的通讯。这就使管理内容空间成为多线程编程的重点和难点。"
   ]
  },
  {
   "cell_type": "markdown",
   "metadata": {},
   "source": [
    "## 1.如何定义一个线程"
   ]
  },
  {
   "cell_type": "code",
   "execution_count": 1,
   "metadata": {},
   "outputs": [
    {
     "name": "stdout",
     "output_type": "stream",
     "text": [
      "function called by thread 0\n",
      "\n",
      "function called by thread 1\n",
      "\n",
      "function called by thread 2\n",
      "\n",
      "function called by thread 3\n",
      "\n",
      "function called by thread 4\n",
      "\n"
     ]
    }
   ],
   "source": [
    "import threading\n",
    "\n",
    "def function(i):\n",
    "    print (\"function called by thread %i\\n\" % i)\n",
    "    return\n",
    "\n",
    "threads = []\n",
    "\n",
    "for i in range(5):\n",
    "    t = threading.Thread(target=function , args=(i, ))\n",
    "    threads.append(t)\n",
    "    t.start()\n",
    "    t.join()"
   ]
  },
  {
   "cell_type": "markdown",
   "metadata": {},
   "source": [
    "## 2.如何确定当前的线程"
   ]
  },
  {
   "cell_type": "code",
   "execution_count": 2,
   "metadata": {},
   "outputs": [
    {
     "name": "stdout",
     "output_type": "stream",
     "text": [
      "first_function is Starting \n",
      "second_function is Starting \n",
      "third_function is Starting \n",
      "first_function is Exiting \n",
      "second_function is Exiting \n",
      "third_function is Exiting \n"
     ]
    }
   ],
   "source": [
    "import threading\n",
    "import time\n",
    "\n",
    "def first_function():\n",
    "    print(threading.currentThread().getName() + str(' is Starting '))\n",
    "    time.sleep(2)\n",
    "    print (threading.currentThread().getName() + str(' is Exiting '))\n",
    "    return\n",
    "\n",
    "def second_function():\n",
    "    print(threading.currentThread().getName() + str(' is Starting '))\n",
    "    time.sleep(2)\n",
    "    print (threading.currentThread().getName() + str(' is Exiting '))\n",
    "    return\n",
    "\n",
    "def third_function():\n",
    "    print(threading.currentThread().getName() + str(' is Starting '))\n",
    "    time.sleep(2)\n",
    "    print(threading.currentThread().getName() + str(' is Exiting '))\n",
    "    return\n",
    "\n",
    "if __name__ == \"__main__\":\n",
    "    t1 = threading.Thread(name='first_function', target=first_function)\n",
    "    t2 = threading.Thread(name='second_function', target=second_function)\n",
    "    t3 = threading.Thread(name='third_function', target=third_function)\n",
    "    t1.start()\n",
    "    t2.start()\n",
    "    t3.start()"
   ]
  },
  {
   "cell_type": "code",
   "execution_count": 3,
   "metadata": {},
   "outputs": [
    {
     "name": "stdout",
     "output_type": "stream",
     "text": [
      "Starting Thread-1\n",
      "Starting Thread-2\n",
      "Thread-1: Tue Apr 16 15:45:19 2019\n",
      "Thread-1: Tue Apr 16 15:45:20 2019\n",
      "Thread-2: Tue Apr 16 15:45:20 2019\n",
      "Thread-1: Tue Apr 16 15:45:21 2019\n",
      "Thread-1: Tue Apr 16 15:45:22 2019\n",
      "Thread-2: Tue Apr 16 15:45:22 2019\n",
      "Thread-1: Tue Apr 16 15:45:23 2019\n",
      "Exiting Thread-1\n",
      "Thread-2: Tue Apr 16 15:45:24 2019\n",
      "Thread-2: Tue Apr 16 15:45:26 2019\n",
      "Thread-2: Tue Apr 16 15:45:28 2019\n",
      "Exiting Thread-2\n",
      "Exiting Main Thread\n"
     ]
    }
   ],
   "source": [
    "import threading\n",
    "import time\n",
    "\n",
    "exitFlag = 0\n",
    "\n",
    "class myThread (threading.Thread):\n",
    "    def __init__(self, threadID, name, counter):\n",
    "        threading.Thread.__init__(self)\n",
    "        self.threadID = threadID\n",
    "        self.name = name\n",
    "        self.counter = counter\n",
    "\n",
    "    def run(self):\n",
    "        print(\"Starting \" + self.name)\n",
    "        print_time(self.name, self.counter, 5)\n",
    "        print(\"Exiting \" + self.name)\n",
    "\n",
    "def print_time(threadName, delay, counter):\n",
    "    while counter:\n",
    "        if exitFlag:\n",
    "            # 译者注：原书中使用的thread，但是Python3中已经不能使用thread，以_thread取代，因此应该\n",
    "            # import _thread\n",
    "            # _thread.exit()\n",
    "            thread.exit()\n",
    "        time.sleep(delay)\n",
    "        print(\"%s: %s\" % (threadName, time.ctime(time.time())))\n",
    "        counter -= 1\n",
    "\n",
    "# Create new threads\n",
    "thread1 = myThread(1, \"Thread-1\", 1)\n",
    "thread2 = myThread(2, \"Thread-2\", 2)\n",
    "\n",
    "# Start new Threads\n",
    "thread1.start()\n",
    "thread2.start()\n",
    "\n",
    "# 以下两行为译者添加，如果要获得和图片相同的结果，\n",
    "# 下面两行是必须的。疑似原作者的疏漏\n",
    "thread1.join()\n",
    "thread2.join()\n",
    "print(\"Exiting Main Thread\")"
   ]
  },
  {
   "cell_type": "markdown",
   "metadata": {},
   "source": [
    "## 基于进程的并行\n",
    "### 1. 介绍\n",
    "在之前的章节中，我们见识了如何用线程实现并发的应用。本章节将会介绍基于进程的并行。本章的重点将会集中在Python的 multiprocessing 和 mpi4py 这两个模块上。\n",
    "\n",
    "multiprocessing 是Python标准库中的模块，实现了共享内存机制，也就是说，可以让运行在不同处理器核心的进程能读取共享内存。\n",
    "\n",
    "mpi4py 库实现了消息传递的编程范例（设计模式）。简单来说，就是进程之间不靠任何共享信息来进行通讯（也叫做shared nothing），所有的交流都通过传递信息代替。\n",
    "\n",
    "这方面与使用共享内存通讯，通过加锁或类似机制实现互斥的技术行成对比。在信息传递的代码中，进程通过 send() 和 receive 进行交流。\n",
    "\n",
    "在Python多进程的官方文档中，明确指出 multiprocessing 模块要求，使用此模块的函数的main模块对子类来说必须是可导入的（ https://docs.python.org/3.3/library/multiprocessing.html ）。"
   ]
  },
  {
   "cell_type": "code",
   "execution_count": 9,
   "metadata": {},
   "outputs": [
    {
     "name": "stdout",
     "output_type": "stream",
     "text": [
      "called function in process: 0\n",
      "called function in process: 1\n",
      "called function in process: 2\n",
      "called function in process: 3\n",
      "called function in process: 4\n"
     ]
    }
   ],
   "source": [
    "!python ./code/spawn_a_process.py"
   ]
  },
  {
   "cell_type": "code",
   "execution_count": 11,
   "metadata": {},
   "outputs": [
    {
     "name": "stdout",
     "output_type": "stream",
     "text": [
      "Starting Process-2 \n",
      "\n",
      "Exiting Process-2 \n",
      "\n"
     ]
    }
   ],
   "source": [
    "!python ./code/naming_process.py"
   ]
  },
  {
   "cell_type": "code",
   "execution_count": 12,
   "metadata": {},
   "outputs": [
    {
     "name": "stdout",
     "output_type": "stream",
     "text": [
      "Starting NO_background_process \n",
      "Exiting NO_background_process \n"
     ]
    }
   ],
   "source": [
    "!python ./code/background_process.py"
   ]
  },
  {
   "cell_type": "code",
   "execution_count": null,
   "metadata": {},
   "outputs": [],
   "source": []
  }
 ],
 "metadata": {
  "kernelspec": {
   "display_name": "Python 3",
   "language": "python",
   "name": "python3"
  },
  "language_info": {
   "codemirror_mode": {
    "name": "ipython",
    "version": 3
   },
   "file_extension": ".py",
   "mimetype": "text/x-python",
   "name": "python",
   "nbconvert_exporter": "python",
   "pygments_lexer": "ipython3",
   "version": "3.7.0"
  }
 },
 "nbformat": 4,
 "nbformat_minor": 2
}
